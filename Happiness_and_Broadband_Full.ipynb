{
  "nbformat": 4,
  "nbformat_minor": 0,
  "metadata": {
    "colab": {
      "name": "Happiness and Broadband Full.ipynb",
      "provenance": [],
      "collapsed_sections": [],
      "toc_visible": true,
      "include_colab_link": true
    },
    "kernelspec": {
      "display_name": "Python 3",
      "name": "python3"
    },
    "language_info": {
      "name": "python"
    }
  },
  "cells": [
    {
      "cell_type": "markdown",
      "metadata": {
        "id": "view-in-github",
        "colab_type": "text"
      },
      "source": [
        "<a href=\"https://colab.research.google.com/github/awermenlinger/BroadbandAndHappiness/blob/main/Happiness_and_Broadband_Full.ipynb\" target=\"_parent\"><img src=\"https://colab.research.google.com/assets/colab-badge.svg\" alt=\"Open In Colab\"/></a>"
      ]
    },
    {
      "cell_type": "markdown",
      "metadata": {
        "id": "TheT4FypM-9I"
      },
      "source": [
        "# Imports and Drive Connection"
      ]
    },
    {
      "cell_type": "code",
      "metadata": {
        "id": "7Hyj-FT7VZaw"
      },
      "source": [
        "import pandas as pd\n",
        "import numpy as np\n",
        "import regex as re\n",
        "import math\n",
        "import altair as alt\n",
        "import plotly as plt\n",
        "import plotly.express as px\n",
        "from itertools import combinations\n",
        "from itertools import product\n",
        "from pydrive.auth import GoogleAuth\n",
        "from pydrive.drive import GoogleDrive\n",
        "from google.colab import auth\n",
        "from oauth2client.client import GoogleCredentials"
      ],
      "execution_count": null,
      "outputs": []
    },
    {
      "cell_type": "code",
      "metadata": {
        "id": "0aVaHGXYVfGH"
      },
      "source": [
        "\n",
        "# Authenticate and create the PyDrive client.\n",
        "auth.authenticate_user()\n",
        "gauth = GoogleAuth()\n",
        "gauth.credentials = GoogleCredentials.get_application_default()\n",
        "drive = GoogleDrive(gauth)"
      ],
      "execution_count": null,
      "outputs": []
    },
    {
      "cell_type": "markdown",
      "metadata": {
        "id": "zld4vQxWNIdz"
      },
      "source": [
        "# Data Load & Cleaning"
      ]
    },
    {
      "cell_type": "markdown",
      "metadata": {
        "id": "Ljg5h9H5NWdY"
      },
      "source": [
        "## Broadband"
      ]
    },
    {
      "cell_type": "code",
      "metadata": {
        "id": "I7pJLK2jVk47"
      },
      "source": [
        "#load the file - Please ignore for teaching staff (use the files in the zip)\n",
        "id = \"1PClUtLQPabDikQBM0W6kZFwql0QjHfog\"\n",
        "downloaded = drive.CreateFile({'id':id}) \n",
        "downloaded.GetContentFile('Internet_access_data.xlsx')  "
      ],
      "execution_count": null,
      "outputs": []
    },
    {
      "cell_type": "code",
      "metadata": {
        "colab": {
          "base_uri": "https://localhost:8080/",
          "height": 400
        },
        "id": "fpWDw8sPZoeH",
        "outputId": "c86a7df9-71b6-4f79-9b99-a49a365737e0"
      },
      "source": [
        "#importing the Broadband Data\n",
        "df = pd.read_excel('Internet_access_data.xlsx')\n",
        "df.head()"
      ],
      "execution_count": null,
      "outputs": [
        {
          "output_type": "execute_result",
          "data": {
            "text/html": [
              "<div>\n",
              "<style scoped>\n",
              "    .dataframe tbody tr th:only-of-type {\n",
              "        vertical-align: middle;\n",
              "    }\n",
              "\n",
              "    .dataframe tbody tr th {\n",
              "        vertical-align: top;\n",
              "    }\n",
              "\n",
              "    .dataframe thead th {\n",
              "        text-align: right;\n",
              "    }\n",
              "</style>\n",
              "<table border=\"1\" class=\"dataframe\">\n",
              "  <thead>\n",
              "    <tr style=\"text-align: right;\">\n",
              "      <th></th>\n",
              "      <th>Series Name</th>\n",
              "      <th>Series Code</th>\n",
              "      <th>Country Name</th>\n",
              "      <th>Country Code</th>\n",
              "      <th>1990 [YR1990]</th>\n",
              "      <th>2000 [YR2000]</th>\n",
              "      <th>2011 [YR2011]</th>\n",
              "      <th>2012 [YR2012]</th>\n",
              "      <th>2013 [YR2013]</th>\n",
              "      <th>2014 [YR2014]</th>\n",
              "      <th>2015 [YR2015]</th>\n",
              "      <th>2016 [YR2016]</th>\n",
              "      <th>2017 [YR2017]</th>\n",
              "      <th>2018 [YR2018]</th>\n",
              "      <th>2019 [YR2019]</th>\n",
              "      <th>2020 [YR2020]</th>\n",
              "    </tr>\n",
              "  </thead>\n",
              "  <tbody>\n",
              "    <tr>\n",
              "      <th>0</th>\n",
              "      <td>Fixed broadband subscriptions</td>\n",
              "      <td>IT.NET.BBND</td>\n",
              "      <td>Afghanistan</td>\n",
              "      <td>AFG</td>\n",
              "      <td>..</td>\n",
              "      <td>..</td>\n",
              "      <td>..</td>\n",
              "      <td>1500</td>\n",
              "      <td>1500</td>\n",
              "      <td>1500</td>\n",
              "      <td>7067</td>\n",
              "      <td>8801</td>\n",
              "      <td>9182</td>\n",
              "      <td>15999</td>\n",
              "      <td>19683</td>\n",
              "      <td>..</td>\n",
              "    </tr>\n",
              "    <tr>\n",
              "      <th>1</th>\n",
              "      <td>Fixed broadband subscriptions</td>\n",
              "      <td>IT.NET.BBND</td>\n",
              "      <td>Albania</td>\n",
              "      <td>ALB</td>\n",
              "      <td>..</td>\n",
              "      <td>..</td>\n",
              "      <td>128210</td>\n",
              "      <td>160088</td>\n",
              "      <td>182556</td>\n",
              "      <td>207964</td>\n",
              "      <td>242870</td>\n",
              "      <td>266379</td>\n",
              "      <td>303612</td>\n",
              "      <td>361947</td>\n",
              "      <td>436192</td>\n",
              "      <td>..</td>\n",
              "    </tr>\n",
              "    <tr>\n",
              "      <th>2</th>\n",
              "      <td>Fixed broadband subscriptions</td>\n",
              "      <td>IT.NET.BBND</td>\n",
              "      <td>Algeria</td>\n",
              "      <td>DZA</td>\n",
              "      <td>..</td>\n",
              "      <td>..</td>\n",
              "      <td>980752</td>\n",
              "      <td>1154748</td>\n",
              "      <td>1280000</td>\n",
              "      <td>1599692</td>\n",
              "      <td>2269348</td>\n",
              "      <td>2859567</td>\n",
              "      <td>3210267</td>\n",
              "      <td>3067022</td>\n",
              "      <td>3582739</td>\n",
              "      <td>..</td>\n",
              "    </tr>\n",
              "    <tr>\n",
              "      <th>3</th>\n",
              "      <td>Fixed broadband subscriptions</td>\n",
              "      <td>IT.NET.BBND</td>\n",
              "      <td>American Samoa</td>\n",
              "      <td>ASM</td>\n",
              "      <td>..</td>\n",
              "      <td>..</td>\n",
              "      <td>..</td>\n",
              "      <td>..</td>\n",
              "      <td>..</td>\n",
              "      <td>..</td>\n",
              "      <td>..</td>\n",
              "      <td>..</td>\n",
              "      <td>..</td>\n",
              "      <td>..</td>\n",
              "      <td>..</td>\n",
              "      <td>..</td>\n",
              "    </tr>\n",
              "    <tr>\n",
              "      <th>4</th>\n",
              "      <td>Fixed broadband subscriptions</td>\n",
              "      <td>IT.NET.BBND</td>\n",
              "      <td>Andorra</td>\n",
              "      <td>AND</td>\n",
              "      <td>..</td>\n",
              "      <td>..</td>\n",
              "      <td>25763</td>\n",
              "      <td>26905</td>\n",
              "      <td>27734</td>\n",
              "      <td>28770</td>\n",
              "      <td>30694</td>\n",
              "      <td>32490</td>\n",
              "      <td>34284</td>\n",
              "      <td>35663</td>\n",
              "      <td>36358</td>\n",
              "      <td>..</td>\n",
              "    </tr>\n",
              "  </tbody>\n",
              "</table>\n",
              "</div>"
            ],
            "text/plain": [
              "                     Series Name  Series Code  ... 2019 [YR2019] 2020 [YR2020]\n",
              "0  Fixed broadband subscriptions  IT.NET.BBND  ...         19683            ..\n",
              "1  Fixed broadband subscriptions  IT.NET.BBND  ...        436192            ..\n",
              "2  Fixed broadband subscriptions  IT.NET.BBND  ...       3582739            ..\n",
              "3  Fixed broadband subscriptions  IT.NET.BBND  ...            ..            ..\n",
              "4  Fixed broadband subscriptions  IT.NET.BBND  ...         36358            ..\n",
              "\n",
              "[5 rows x 16 columns]"
            ]
          },
          "metadata": {
            "tags": []
          },
          "execution_count": 4
        }
      ]
    },
    {
      "cell_type": "code",
      "metadata": {
        "colab": {
          "base_uri": "https://localhost:8080/",
          "height": 157
        },
        "id": "85JXaGg3gN6x",
        "outputId": "9755cfc1-f8be-4035-8658-6e35e542e057"
      },
      "source": [
        "#renaming the year columns\n",
        "df = df.rename({'1990 [YR1990]':'1990','2000 [YR2000]':'2000','2011 [YR2011]':'2011','2012 [YR2012]':'2012','2013 [YR2013]':'2013','2014 [YR2014]':'2014',\n",
        "                      '2015 [YR2015]':'2015','2016 [YR2016]':'2016','2017 [YR2017]':'2017','2018 [YR2018]':'2018','2019 [YR2019]':'2019'\n",
        "                      ,'2020 [YR2020]':'2020'}, axis='columns')\n",
        "df.head(2)"
      ],
      "execution_count": null,
      "outputs": [
        {
          "output_type": "execute_result",
          "data": {
            "text/html": [
              "<div>\n",
              "<style scoped>\n",
              "    .dataframe tbody tr th:only-of-type {\n",
              "        vertical-align: middle;\n",
              "    }\n",
              "\n",
              "    .dataframe tbody tr th {\n",
              "        vertical-align: top;\n",
              "    }\n",
              "\n",
              "    .dataframe thead th {\n",
              "        text-align: right;\n",
              "    }\n",
              "</style>\n",
              "<table border=\"1\" class=\"dataframe\">\n",
              "  <thead>\n",
              "    <tr style=\"text-align: right;\">\n",
              "      <th></th>\n",
              "      <th>Series Name</th>\n",
              "      <th>Series Code</th>\n",
              "      <th>Country Name</th>\n",
              "      <th>Country Code</th>\n",
              "      <th>1990</th>\n",
              "      <th>2000</th>\n",
              "      <th>2011</th>\n",
              "      <th>2012</th>\n",
              "      <th>2013</th>\n",
              "      <th>2014</th>\n",
              "      <th>2015</th>\n",
              "      <th>2016</th>\n",
              "      <th>2017</th>\n",
              "      <th>2018</th>\n",
              "      <th>2019</th>\n",
              "      <th>2020</th>\n",
              "    </tr>\n",
              "  </thead>\n",
              "  <tbody>\n",
              "    <tr>\n",
              "      <th>0</th>\n",
              "      <td>Fixed broadband subscriptions</td>\n",
              "      <td>IT.NET.BBND</td>\n",
              "      <td>Afghanistan</td>\n",
              "      <td>AFG</td>\n",
              "      <td>..</td>\n",
              "      <td>..</td>\n",
              "      <td>..</td>\n",
              "      <td>1500</td>\n",
              "      <td>1500</td>\n",
              "      <td>1500</td>\n",
              "      <td>7067</td>\n",
              "      <td>8801</td>\n",
              "      <td>9182</td>\n",
              "      <td>15999</td>\n",
              "      <td>19683</td>\n",
              "      <td>..</td>\n",
              "    </tr>\n",
              "    <tr>\n",
              "      <th>1</th>\n",
              "      <td>Fixed broadband subscriptions</td>\n",
              "      <td>IT.NET.BBND</td>\n",
              "      <td>Albania</td>\n",
              "      <td>ALB</td>\n",
              "      <td>..</td>\n",
              "      <td>..</td>\n",
              "      <td>128210</td>\n",
              "      <td>160088</td>\n",
              "      <td>182556</td>\n",
              "      <td>207964</td>\n",
              "      <td>242870</td>\n",
              "      <td>266379</td>\n",
              "      <td>303612</td>\n",
              "      <td>361947</td>\n",
              "      <td>436192</td>\n",
              "      <td>..</td>\n",
              "    </tr>\n",
              "  </tbody>\n",
              "</table>\n",
              "</div>"
            ],
            "text/plain": [
              "                     Series Name  Series Code Country Name  ...    2018    2019 2020\n",
              "0  Fixed broadband subscriptions  IT.NET.BBND  Afghanistan  ...   15999   19683   ..\n",
              "1  Fixed broadband subscriptions  IT.NET.BBND      Albania  ...  361947  436192   ..\n",
              "\n",
              "[2 rows x 16 columns]"
            ]
          },
          "metadata": {
            "tags": []
          },
          "execution_count": 5
        }
      ]
    },
    {
      "cell_type": "markdown",
      "metadata": {
        "id": "1MugvHPedL50"
      },
      "source": [
        "**Broadband subscriptions data**"
      ]
    },
    {
      "cell_type": "code",
      "metadata": {
        "colab": {
          "base_uri": "https://localhost:8080/",
          "height": 210
        },
        "id": "gPORF-d3aRHc",
        "outputId": "c5e30618-c656-4f26-b563-355d47a2b6e3"
      },
      "source": [
        "#dataset for broadband subscriptions\n",
        "df_bb = df.loc[:263,:]\n",
        "df_bb.tail(2)"
      ],
      "execution_count": null,
      "outputs": [
        {
          "output_type": "execute_result",
          "data": {
            "text/html": [
              "<div>\n",
              "<style scoped>\n",
              "    .dataframe tbody tr th:only-of-type {\n",
              "        vertical-align: middle;\n",
              "    }\n",
              "\n",
              "    .dataframe tbody tr th {\n",
              "        vertical-align: top;\n",
              "    }\n",
              "\n",
              "    .dataframe thead th {\n",
              "        text-align: right;\n",
              "    }\n",
              "</style>\n",
              "<table border=\"1\" class=\"dataframe\">\n",
              "  <thead>\n",
              "    <tr style=\"text-align: right;\">\n",
              "      <th></th>\n",
              "      <th>Series Name</th>\n",
              "      <th>Series Code</th>\n",
              "      <th>Country Name</th>\n",
              "      <th>Country Code</th>\n",
              "      <th>1990</th>\n",
              "      <th>2000</th>\n",
              "      <th>2011</th>\n",
              "      <th>2012</th>\n",
              "      <th>2013</th>\n",
              "      <th>2014</th>\n",
              "      <th>2015</th>\n",
              "      <th>2016</th>\n",
              "      <th>2017</th>\n",
              "      <th>2018</th>\n",
              "      <th>2019</th>\n",
              "      <th>2020</th>\n",
              "    </tr>\n",
              "  </thead>\n",
              "  <tbody>\n",
              "    <tr>\n",
              "      <th>262</th>\n",
              "      <td>Fixed broadband subscriptions</td>\n",
              "      <td>IT.NET.BBND</td>\n",
              "      <td>Upper middle income</td>\n",
              "      <td>UMC</td>\n",
              "      <td>..</td>\n",
              "      <td>156516</td>\n",
              "      <td>244742644</td>\n",
              "      <td>277096704</td>\n",
              "      <td>303253049</td>\n",
              "      <td>323317248</td>\n",
              "      <td>408638365</td>\n",
              "      <td>462961275</td>\n",
              "      <td>552306792</td>\n",
              "      <td>578532565</td>\n",
              "      <td>625384639</td>\n",
              "      <td>..</td>\n",
              "    </tr>\n",
              "    <tr>\n",
              "      <th>263</th>\n",
              "      <td>Fixed broadband subscriptions</td>\n",
              "      <td>IT.NET.BBND</td>\n",
              "      <td>World</td>\n",
              "      <td>WLD</td>\n",
              "      <td>..</td>\n",
              "      <td>..</td>\n",
              "      <td>597998487</td>\n",
              "      <td>648909075</td>\n",
              "      <td>689543829</td>\n",
              "      <td>727250716</td>\n",
              "      <td>840118980</td>\n",
              "      <td>915928599</td>\n",
              "      <td>1025082012</td>\n",
              "      <td>1068680946</td>\n",
              "      <td>1134315607</td>\n",
              "      <td>..</td>\n",
              "    </tr>\n",
              "  </tbody>\n",
              "</table>\n",
              "</div>"
            ],
            "text/plain": [
              "                       Series Name  Series Code  ...        2019 2020\n",
              "262  Fixed broadband subscriptions  IT.NET.BBND  ...   625384639   ..\n",
              "263  Fixed broadband subscriptions  IT.NET.BBND  ...  1134315607   ..\n",
              "\n",
              "[2 rows x 16 columns]"
            ]
          },
          "metadata": {
            "tags": []
          },
          "execution_count": 6
        }
      ]
    },
    {
      "cell_type": "code",
      "metadata": {
        "colab": {
          "base_uri": "https://localhost:8080/"
        },
        "id": "WZ_5jyb9bi4Z",
        "outputId": "10a4b206-e7dc-4935-e35d-747a3385f9d6"
      },
      "source": [
        "#converting the year columns to numeric to get the descriptive stats to check the average number of broadband connections over the years\n",
        "cols = ['2000','2011','2012','2013','2014','2015','2016','2017','2018','2019','2020']\n",
        "df_bb[cols] = df_bb[cols].apply(pd.to_numeric,errors='coerce', axis=1)\n",
        "\n",
        "df_bb.info() "
      ],
      "execution_count": null,
      "outputs": [
        {
          "output_type": "stream",
          "text": [
            "<class 'pandas.core.frame.DataFrame'>\n",
            "RangeIndex: 264 entries, 0 to 263\n",
            "Data columns (total 16 columns):\n",
            " #   Column        Non-Null Count  Dtype  \n",
            "---  ------        --------------  -----  \n",
            " 0   Series Name   264 non-null    object \n",
            " 1   Series Code   264 non-null    object \n",
            " 2   Country Name  264 non-null    object \n",
            " 3   Country Code  264 non-null    object \n",
            " 4   1990          264 non-null    object \n",
            " 5   2000          58 non-null     float64\n",
            " 6   2011          235 non-null    float64\n",
            " 7   2012          243 non-null    float64\n",
            " 8   2013          247 non-null    float64\n",
            " 9   2014          247 non-null    float64\n",
            " 10  2015          248 non-null    float64\n",
            " 11  2016          243 non-null    float64\n",
            " 12  2017          243 non-null    float64\n",
            " 13  2018          223 non-null    float64\n",
            " 14  2019          207 non-null    float64\n",
            " 15  2020          0 non-null      float64\n",
            "dtypes: float64(11), object(5)\n",
            "memory usage: 33.1+ KB\n"
          ],
          "name": "stdout"
        },
        {
          "output_type": "stream",
          "text": [
            "/usr/local/lib/python3.7/dist-packages/pandas/core/frame.py:3069: SettingWithCopyWarning:\n",
            "\n",
            "\n",
            "A value is trying to be set on a copy of a slice from a DataFrame.\n",
            "Try using .loc[row_indexer,col_indexer] = value instead\n",
            "\n",
            "See the caveats in the documentation: https://pandas.pydata.org/pandas-docs/stable/user_guide/indexing.html#returning-a-view-versus-a-copy\n",
            "\n"
          ],
          "name": "stderr"
        }
      ]
    },
    {
      "cell_type": "code",
      "metadata": {
        "colab": {
          "base_uri": "https://localhost:8080/",
          "height": 195
        },
        "id": "bYwZRiDdcwG5",
        "outputId": "1f147118-1b0c-4d7b-e327-f67b9cc043f5"
      },
      "source": [
        "#keeping relevant columns\n",
        "df_bb = df_bb.drop(['Series Name','Series Code', 'Country Code', '1990','2000','2020'], axis=1)\n",
        "df_bb.head()"
      ],
      "execution_count": null,
      "outputs": [
        {
          "output_type": "execute_result",
          "data": {
            "text/html": [
              "<div>\n",
              "<style scoped>\n",
              "    .dataframe tbody tr th:only-of-type {\n",
              "        vertical-align: middle;\n",
              "    }\n",
              "\n",
              "    .dataframe tbody tr th {\n",
              "        vertical-align: top;\n",
              "    }\n",
              "\n",
              "    .dataframe thead th {\n",
              "        text-align: right;\n",
              "    }\n",
              "</style>\n",
              "<table border=\"1\" class=\"dataframe\">\n",
              "  <thead>\n",
              "    <tr style=\"text-align: right;\">\n",
              "      <th></th>\n",
              "      <th>Country Name</th>\n",
              "      <th>2011</th>\n",
              "      <th>2012</th>\n",
              "      <th>2013</th>\n",
              "      <th>2014</th>\n",
              "      <th>2015</th>\n",
              "      <th>2016</th>\n",
              "      <th>2017</th>\n",
              "      <th>2018</th>\n",
              "      <th>2019</th>\n",
              "    </tr>\n",
              "  </thead>\n",
              "  <tbody>\n",
              "    <tr>\n",
              "      <th>0</th>\n",
              "      <td>Afghanistan</td>\n",
              "      <td>NaN</td>\n",
              "      <td>1500.0</td>\n",
              "      <td>1500.0</td>\n",
              "      <td>1500.0</td>\n",
              "      <td>7067.0</td>\n",
              "      <td>8801.0</td>\n",
              "      <td>9182.0</td>\n",
              "      <td>15999.0</td>\n",
              "      <td>19683.0</td>\n",
              "    </tr>\n",
              "    <tr>\n",
              "      <th>1</th>\n",
              "      <td>Albania</td>\n",
              "      <td>128210.0</td>\n",
              "      <td>160088.0</td>\n",
              "      <td>182556.0</td>\n",
              "      <td>207964.0</td>\n",
              "      <td>242870.0</td>\n",
              "      <td>266379.0</td>\n",
              "      <td>303612.0</td>\n",
              "      <td>361947.0</td>\n",
              "      <td>436192.0</td>\n",
              "    </tr>\n",
              "    <tr>\n",
              "      <th>2</th>\n",
              "      <td>Algeria</td>\n",
              "      <td>980752.0</td>\n",
              "      <td>1154748.0</td>\n",
              "      <td>1280000.0</td>\n",
              "      <td>1599692.0</td>\n",
              "      <td>2269348.0</td>\n",
              "      <td>2859567.0</td>\n",
              "      <td>3210267.0</td>\n",
              "      <td>3067022.0</td>\n",
              "      <td>3582739.0</td>\n",
              "    </tr>\n",
              "    <tr>\n",
              "      <th>3</th>\n",
              "      <td>American Samoa</td>\n",
              "      <td>NaN</td>\n",
              "      <td>NaN</td>\n",
              "      <td>NaN</td>\n",
              "      <td>NaN</td>\n",
              "      <td>NaN</td>\n",
              "      <td>NaN</td>\n",
              "      <td>NaN</td>\n",
              "      <td>NaN</td>\n",
              "      <td>NaN</td>\n",
              "    </tr>\n",
              "    <tr>\n",
              "      <th>4</th>\n",
              "      <td>Andorra</td>\n",
              "      <td>25763.0</td>\n",
              "      <td>26905.0</td>\n",
              "      <td>27734.0</td>\n",
              "      <td>28770.0</td>\n",
              "      <td>30694.0</td>\n",
              "      <td>32490.0</td>\n",
              "      <td>34284.0</td>\n",
              "      <td>35663.0</td>\n",
              "      <td>36358.0</td>\n",
              "    </tr>\n",
              "  </tbody>\n",
              "</table>\n",
              "</div>"
            ],
            "text/plain": [
              "     Country Name      2011       2012  ...       2017       2018       2019\n",
              "0     Afghanistan       NaN     1500.0  ...     9182.0    15999.0    19683.0\n",
              "1         Albania  128210.0   160088.0  ...   303612.0   361947.0   436192.0\n",
              "2         Algeria  980752.0  1154748.0  ...  3210267.0  3067022.0  3582739.0\n",
              "3  American Samoa       NaN        NaN  ...        NaN        NaN        NaN\n",
              "4         Andorra   25763.0    26905.0  ...    34284.0    35663.0    36358.0\n",
              "\n",
              "[5 rows x 10 columns]"
            ]
          },
          "metadata": {
            "tags": []
          },
          "execution_count": 8
        }
      ]
    },
    {
      "cell_type": "code",
      "metadata": {
        "colab": {
          "base_uri": "https://localhost:8080/"
        },
        "id": "pM7TiMMQdERw",
        "outputId": "2f38a464-2d1b-4759-9e1f-eb941953814b"
      },
      "source": [
        "df_bb.info()"
      ],
      "execution_count": null,
      "outputs": [
        {
          "output_type": "stream",
          "text": [
            "<class 'pandas.core.frame.DataFrame'>\n",
            "RangeIndex: 264 entries, 0 to 263\n",
            "Data columns (total 10 columns):\n",
            " #   Column        Non-Null Count  Dtype  \n",
            "---  ------        --------------  -----  \n",
            " 0   Country Name  264 non-null    object \n",
            " 1   2011          235 non-null    float64\n",
            " 2   2012          243 non-null    float64\n",
            " 3   2013          247 non-null    float64\n",
            " 4   2014          247 non-null    float64\n",
            " 5   2015          248 non-null    float64\n",
            " 6   2016          243 non-null    float64\n",
            " 7   2017          243 non-null    float64\n",
            " 8   2018          223 non-null    float64\n",
            " 9   2019          207 non-null    float64\n",
            "dtypes: float64(9), object(1)\n",
            "memory usage: 20.8+ KB\n"
          ],
          "name": "stdout"
        }
      ]
    },
    {
      "cell_type": "code",
      "metadata": {
        "colab": {
          "base_uri": "https://localhost:8080/",
          "height": 136
        },
        "id": "HpRc_H7kJDNR",
        "outputId": "6fead0e4-d5a0-430f-9fe0-755cb1d61119"
      },
      "source": [
        "#removing the clubbed regions to see the descriptive stats\n",
        "\n",
        "df_bb1 = df_bb.iloc[:217,:]\n",
        "df_bb1.tail(3)"
      ],
      "execution_count": null,
      "outputs": [
        {
          "output_type": "execute_result",
          "data": {
            "text/html": [
              "<div>\n",
              "<style scoped>\n",
              "    .dataframe tbody tr th:only-of-type {\n",
              "        vertical-align: middle;\n",
              "    }\n",
              "\n",
              "    .dataframe tbody tr th {\n",
              "        vertical-align: top;\n",
              "    }\n",
              "\n",
              "    .dataframe thead th {\n",
              "        text-align: right;\n",
              "    }\n",
              "</style>\n",
              "<table border=\"1\" class=\"dataframe\">\n",
              "  <thead>\n",
              "    <tr style=\"text-align: right;\">\n",
              "      <th></th>\n",
              "      <th>Country Name</th>\n",
              "      <th>2011</th>\n",
              "      <th>2012</th>\n",
              "      <th>2013</th>\n",
              "      <th>2014</th>\n",
              "      <th>2015</th>\n",
              "      <th>2016</th>\n",
              "      <th>2017</th>\n",
              "      <th>2018</th>\n",
              "      <th>2019</th>\n",
              "    </tr>\n",
              "  </thead>\n",
              "  <tbody>\n",
              "    <tr>\n",
              "      <th>214</th>\n",
              "      <td>Yemen, Rep.</td>\n",
              "      <td>109000.0</td>\n",
              "      <td>167300.0</td>\n",
              "      <td>256800.0</td>\n",
              "      <td>340000.0</td>\n",
              "      <td>395000.0</td>\n",
              "      <td>276219.0</td>\n",
              "      <td>369004.0</td>\n",
              "      <td>386330.0</td>\n",
              "      <td>NaN</td>\n",
              "    </tr>\n",
              "    <tr>\n",
              "      <th>215</th>\n",
              "      <td>Zambia</td>\n",
              "      <td>16415.0</td>\n",
              "      <td>14999.0</td>\n",
              "      <td>13447.0</td>\n",
              "      <td>20521.0</td>\n",
              "      <td>23390.0</td>\n",
              "      <td>31784.0</td>\n",
              "      <td>35912.0</td>\n",
              "      <td>72228.0</td>\n",
              "      <td>88891.0</td>\n",
              "    </tr>\n",
              "    <tr>\n",
              "      <th>216</th>\n",
              "      <td>Zimbabwe</td>\n",
              "      <td>34000.0</td>\n",
              "      <td>71905.0</td>\n",
              "      <td>103916.0</td>\n",
              "      <td>152234.0</td>\n",
              "      <td>163987.0</td>\n",
              "      <td>170838.0</td>\n",
              "      <td>187310.0</td>\n",
              "      <td>203056.0</td>\n",
              "      <td>204424.0</td>\n",
              "    </tr>\n",
              "  </tbody>\n",
              "</table>\n",
              "</div>"
            ],
            "text/plain": [
              "    Country Name      2011      2012  ...      2017      2018      2019\n",
              "214  Yemen, Rep.  109000.0  167300.0  ...  369004.0  386330.0       NaN\n",
              "215       Zambia   16415.0   14999.0  ...   35912.0   72228.0   88891.0\n",
              "216     Zimbabwe   34000.0   71905.0  ...  187310.0  203056.0  204424.0\n",
              "\n",
              "[3 rows x 10 columns]"
            ]
          },
          "metadata": {
            "tags": []
          },
          "execution_count": 10
        }
      ]
    },
    {
      "cell_type": "code",
      "metadata": {
        "colab": {
          "base_uri": "https://localhost:8080/"
        },
        "id": "XlTtob4nJtuF",
        "outputId": "77832d0b-d61d-44fe-9a89-8f036a84745e"
      },
      "source": [
        "df_bb1.info()"
      ],
      "execution_count": null,
      "outputs": [
        {
          "output_type": "stream",
          "text": [
            "<class 'pandas.core.frame.DataFrame'>\n",
            "RangeIndex: 217 entries, 0 to 216\n",
            "Data columns (total 10 columns):\n",
            " #   Column        Non-Null Count  Dtype  \n",
            "---  ------        --------------  -----  \n",
            " 0   Country Name  217 non-null    object \n",
            " 1   2011          192 non-null    float64\n",
            " 2   2012          197 non-null    float64\n",
            " 3   2013          201 non-null    float64\n",
            " 4   2014          201 non-null    float64\n",
            " 5   2015          202 non-null    float64\n",
            " 6   2016          197 non-null    float64\n",
            " 7   2017          197 non-null    float64\n",
            " 8   2018          178 non-null    float64\n",
            " 9   2019          164 non-null    float64\n",
            "dtypes: float64(9), object(1)\n",
            "memory usage: 17.1+ KB\n"
          ],
          "name": "stdout"
        }
      ]
    },
    {
      "cell_type": "code",
      "metadata": {
        "colab": {
          "base_uri": "https://localhost:8080/",
          "height": 284
        },
        "id": "Y-mZo8JtbiZz",
        "outputId": "a0be2779-fdf6-49b4-cc7a-03e297fd893e"
      },
      "source": [
        "#checking the descriptive stats without any manipulation to see the trend \n",
        "pd.set_option('display.float_format', lambda x: '%.1f' % x)\n",
        "\n",
        "df_bb1.describe()"
      ],
      "execution_count": null,
      "outputs": [
        {
          "output_type": "execute_result",
          "data": {
            "text/html": [
              "<div>\n",
              "<style scoped>\n",
              "    .dataframe tbody tr th:only-of-type {\n",
              "        vertical-align: middle;\n",
              "    }\n",
              "\n",
              "    .dataframe tbody tr th {\n",
              "        vertical-align: top;\n",
              "    }\n",
              "\n",
              "    .dataframe thead th {\n",
              "        text-align: right;\n",
              "    }\n",
              "</style>\n",
              "<table border=\"1\" class=\"dataframe\">\n",
              "  <thead>\n",
              "    <tr style=\"text-align: right;\">\n",
              "      <th></th>\n",
              "      <th>2011</th>\n",
              "      <th>2012</th>\n",
              "      <th>2013</th>\n",
              "      <th>2014</th>\n",
              "      <th>2015</th>\n",
              "      <th>2016</th>\n",
              "      <th>2017</th>\n",
              "      <th>2018</th>\n",
              "      <th>2019</th>\n",
              "    </tr>\n",
              "  </thead>\n",
              "  <tbody>\n",
              "    <tr>\n",
              "      <th>count</th>\n",
              "      <td>192.0</td>\n",
              "      <td>197.0</td>\n",
              "      <td>201.0</td>\n",
              "      <td>201.0</td>\n",
              "      <td>202.0</td>\n",
              "      <td>197.0</td>\n",
              "      <td>197.0</td>\n",
              "      <td>178.0</td>\n",
              "      <td>164.0</td>\n",
              "    </tr>\n",
              "    <tr>\n",
              "      <th>mean</th>\n",
              "      <td>3085846.6</td>\n",
              "      <td>3261219.6</td>\n",
              "      <td>3395681.1</td>\n",
              "      <td>3581164.7</td>\n",
              "      <td>4131003.2</td>\n",
              "      <td>4620520.8</td>\n",
              "      <td>5174459.1</td>\n",
              "      <td>5971662.5</td>\n",
              "      <td>6881000.9</td>\n",
              "    </tr>\n",
              "    <tr>\n",
              "      <th>std</th>\n",
              "      <td>13635969.8</td>\n",
              "      <td>14768443.5</td>\n",
              "      <td>15610671.8</td>\n",
              "      <td>16412968.0</td>\n",
              "      <td>21300060.4</td>\n",
              "      <td>24653695.6</td>\n",
              "      <td>29517709.4</td>\n",
              "      <td>32034059.9</td>\n",
              "      <td>36533592.6</td>\n",
              "    </tr>\n",
              "    <tr>\n",
              "      <th>min</th>\n",
              "      <td>0.0</td>\n",
              "      <td>0.0</td>\n",
              "      <td>0.0</td>\n",
              "      <td>0.0</td>\n",
              "      <td>117.0</td>\n",
              "      <td>110.0</td>\n",
              "      <td>111.0</td>\n",
              "      <td>87.0</td>\n",
              "      <td>68.0</td>\n",
              "    </tr>\n",
              "    <tr>\n",
              "      <th>25%</th>\n",
              "      <td>13508.5</td>\n",
              "      <td>14328.0</td>\n",
              "      <td>14604.0</td>\n",
              "      <td>15610.0</td>\n",
              "      <td>17064.8</td>\n",
              "      <td>20821.0</td>\n",
              "      <td>22235.0</td>\n",
              "      <td>33114.5</td>\n",
              "      <td>53970.5</td>\n",
              "    </tr>\n",
              "    <tr>\n",
              "      <th>50%</th>\n",
              "      <td>114909.5</td>\n",
              "      <td>123046.0</td>\n",
              "      <td>140816.0</td>\n",
              "      <td>161498.0</td>\n",
              "      <td>188125.5</td>\n",
              "      <td>232385.0</td>\n",
              "      <td>285093.0</td>\n",
              "      <td>378914.0</td>\n",
              "      <td>465283.0</td>\n",
              "    </tr>\n",
              "    <tr>\n",
              "      <th>75%</th>\n",
              "      <td>1223024.2</td>\n",
              "      <td>1432800.0</td>\n",
              "      <td>1525325.0</td>\n",
              "      <td>1706313.0</td>\n",
              "      <td>1791845.8</td>\n",
              "      <td>2106975.0</td>\n",
              "      <td>2342000.0</td>\n",
              "      <td>2673144.5</td>\n",
              "      <td>3195984.0</td>\n",
              "    </tr>\n",
              "    <tr>\n",
              "      <th>max</th>\n",
              "      <td>156487000.0</td>\n",
              "      <td>175183000.0</td>\n",
              "      <td>188909000.0</td>\n",
              "      <td>200483000.0</td>\n",
              "      <td>277046000.0</td>\n",
              "      <td>322597000.0</td>\n",
              "      <td>394190000.0</td>\n",
              "      <td>407382000.0</td>\n",
              "      <td>449279000.0</td>\n",
              "    </tr>\n",
              "  </tbody>\n",
              "</table>\n",
              "</div>"
            ],
            "text/plain": [
              "             2011        2012        2013  ...        2017        2018        2019\n",
              "count       192.0       197.0       201.0  ...       197.0       178.0       164.0\n",
              "mean    3085846.6   3261219.6   3395681.1  ...   5174459.1   5971662.5   6881000.9\n",
              "std    13635969.8  14768443.5  15610671.8  ...  29517709.4  32034059.9  36533592.6\n",
              "min           0.0         0.0         0.0  ...       111.0        87.0        68.0\n",
              "25%       13508.5     14328.0     14604.0  ...     22235.0     33114.5     53970.5\n",
              "50%      114909.5    123046.0    140816.0  ...    285093.0    378914.0    465283.0\n",
              "75%     1223024.2   1432800.0   1525325.0  ...   2342000.0   2673144.5   3195984.0\n",
              "max   156487000.0 175183000.0 188909000.0  ... 394190000.0 407382000.0 449279000.0\n",
              "\n",
              "[8 rows x 9 columns]"
            ]
          },
          "metadata": {
            "tags": []
          },
          "execution_count": 12
        }
      ]
    },
    {
      "cell_type": "code",
      "metadata": {
        "id": "phiBpwOrKPJo"
      },
      "source": [
        "df_bb1 = df_bb1.set_index('Country Name')"
      ],
      "execution_count": null,
      "outputs": []
    },
    {
      "cell_type": "code",
      "metadata": {
        "colab": {
          "base_uri": "https://localhost:8080/",
          "height": 314
        },
        "id": "BlQ7YDqocA_h",
        "outputId": "5204edd5-b346-4407-8e5f-9f64e5cb44b6"
      },
      "source": [
        "#taking the total number of connections over the years by skipping NA. \n",
        "\n",
        "x1 = df_bb1.sum(axis = 0, skipna = True).to_frame().reset_index()\n",
        "x2 = x1.rename(columns={'index':'Year',0:'Connections'})\n",
        "x2"
      ],
      "execution_count": null,
      "outputs": [
        {
          "output_type": "execute_result",
          "data": {
            "text/html": [
              "<div>\n",
              "<style scoped>\n",
              "    .dataframe tbody tr th:only-of-type {\n",
              "        vertical-align: middle;\n",
              "    }\n",
              "\n",
              "    .dataframe tbody tr th {\n",
              "        vertical-align: top;\n",
              "    }\n",
              "\n",
              "    .dataframe thead th {\n",
              "        text-align: right;\n",
              "    }\n",
              "</style>\n",
              "<table border=\"1\" class=\"dataframe\">\n",
              "  <thead>\n",
              "    <tr style=\"text-align: right;\">\n",
              "      <th></th>\n",
              "      <th>Year</th>\n",
              "      <th>Connections</th>\n",
              "    </tr>\n",
              "  </thead>\n",
              "  <tbody>\n",
              "    <tr>\n",
              "      <th>0</th>\n",
              "      <td>2011</td>\n",
              "      <td>592482555.0</td>\n",
              "    </tr>\n",
              "    <tr>\n",
              "      <th>1</th>\n",
              "      <td>2012</td>\n",
              "      <td>642460252.0</td>\n",
              "    </tr>\n",
              "    <tr>\n",
              "      <th>2</th>\n",
              "      <td>2013</td>\n",
              "      <td>682531895.0</td>\n",
              "    </tr>\n",
              "    <tr>\n",
              "      <th>3</th>\n",
              "      <td>2014</td>\n",
              "      <td>719814096.0</td>\n",
              "    </tr>\n",
              "    <tr>\n",
              "      <th>4</th>\n",
              "      <td>2015</td>\n",
              "      <td>834462650.0</td>\n",
              "    </tr>\n",
              "    <tr>\n",
              "      <th>5</th>\n",
              "      <td>2016</td>\n",
              "      <td>910242596.0</td>\n",
              "    </tr>\n",
              "    <tr>\n",
              "      <th>6</th>\n",
              "      <td>2017</td>\n",
              "      <td>1019368444.0</td>\n",
              "    </tr>\n",
              "    <tr>\n",
              "      <th>7</th>\n",
              "      <td>2018</td>\n",
              "      <td>1062955924.0</td>\n",
              "    </tr>\n",
              "    <tr>\n",
              "      <th>8</th>\n",
              "      <td>2019</td>\n",
              "      <td>1128484140.0</td>\n",
              "    </tr>\n",
              "  </tbody>\n",
              "</table>\n",
              "</div>"
            ],
            "text/plain": [
              "   Year  Connections\n",
              "0  2011  592482555.0\n",
              "1  2012  642460252.0\n",
              "2  2013  682531895.0\n",
              "3  2014  719814096.0\n",
              "4  2015  834462650.0\n",
              "5  2016  910242596.0\n",
              "6  2017 1019368444.0\n",
              "7  2018 1062955924.0\n",
              "8  2019 1128484140.0"
            ]
          },
          "metadata": {
            "tags": []
          },
          "execution_count": 14
        }
      ]
    },
    {
      "cell_type": "code",
      "metadata": {
        "colab": {
          "base_uri": "https://localhost:8080/",
          "height": 300
        },
        "id": "mMNH8_Qjfwf5",
        "outputId": "dc37664c-da6d-43f5-8336-de7893350c78"
      },
      "source": [
        "#basic line chart for broadband subscriptions over the years\n",
        "import matplotlib.pyplot as plt\n",
        "\n",
        "plt.plot(x2['Year'],x2['Connections'], color='red', marker='o')\n",
        "plt.title('Broadband subscriptions over years', fontsize=14)\n",
        "plt.xlabel('Year', fontsize=14)\n",
        "plt.yticks([])\n",
        "plt.grid(True)\n",
        "plt.show()"
      ],
      "execution_count": null,
      "outputs": [
        {
          "output_type": "display_data",
          "data": {
            "image/png": "[encoded data removed]",
            "text/plain": [
              "<Figure size 432x288 with 1 Axes>"
            ]
          },
          "metadata": {
            "tags": []
          }
        }
      ]
    },
    {
      "cell_type": "markdown",
      "metadata": {
        "id": "0V5PRs-sa-h_"
      },
      "source": [
        "\n",
        " Final Dataframe (df_ia_fin) on **Individuals using the Internet (% of the population)**"
      ]
    },
    {
      "cell_type": "code",
      "metadata": {
        "colab": {
          "base_uri": "https://localhost:8080/",
          "height": 157
        },
        "id": "n4xmEoqHX127",
        "outputId": "1827a9dc-f8b4-4595-81ca-6951f8c1d789"
      },
      "source": [
        "#Individual using the internet\n",
        "df_ia = df.loc[264:,:]\n",
        "df_ia.head(2)"
      ],
      "execution_count": null,
      "outputs": [
        {
          "output_type": "execute_result",
          "data": {
            "text/html": [
              "<div>\n",
              "<style scoped>\n",
              "    .dataframe tbody tr th:only-of-type {\n",
              "        vertical-align: middle;\n",
              "    }\n",
              "\n",
              "    .dataframe tbody tr th {\n",
              "        vertical-align: top;\n",
              "    }\n",
              "\n",
              "    .dataframe thead th {\n",
              "        text-align: right;\n",
              "    }\n",
              "</style>\n",
              "<table border=\"1\" class=\"dataframe\">\n",
              "  <thead>\n",
              "    <tr style=\"text-align: right;\">\n",
              "      <th></th>\n",
              "      <th>Series Name</th>\n",
              "      <th>Series Code</th>\n",
              "      <th>Country Name</th>\n",
              "      <th>Country Code</th>\n",
              "      <th>1990</th>\n",
              "      <th>2000</th>\n",
              "      <th>2011</th>\n",
              "      <th>2012</th>\n",
              "      <th>2013</th>\n",
              "      <th>2014</th>\n",
              "      <th>2015</th>\n",
              "      <th>2016</th>\n",
              "      <th>2017</th>\n",
              "      <th>2018</th>\n",
              "      <th>2019</th>\n",
              "      <th>2020</th>\n",
              "    </tr>\n",
              "  </thead>\n",
              "  <tbody>\n",
              "    <tr>\n",
              "      <th>264</th>\n",
              "      <td>Individuals using the Internet (% of population)</td>\n",
              "      <td>IT.NET.USER.ZS</td>\n",
              "      <td>Afghanistan</td>\n",
              "      <td>AFG</td>\n",
              "      <td>0</td>\n",
              "      <td>..</td>\n",
              "      <td>5</td>\n",
              "      <td>5.5</td>\n",
              "      <td>5.9</td>\n",
              "      <td>7</td>\n",
              "      <td>8.3</td>\n",
              "      <td>..</td>\n",
              "      <td>11.4</td>\n",
              "      <td>..</td>\n",
              "      <td>..</td>\n",
              "      <td>..</td>\n",
              "    </tr>\n",
              "    <tr>\n",
              "      <th>265</th>\n",
              "      <td>Individuals using the Internet (% of population)</td>\n",
              "      <td>IT.NET.USER.ZS</td>\n",
              "      <td>Albania</td>\n",
              "      <td>ALB</td>\n",
              "      <td>0</td>\n",
              "      <td>0.1</td>\n",
              "      <td>49</td>\n",
              "      <td>54.7</td>\n",
              "      <td>57.2</td>\n",
              "      <td>60.1</td>\n",
              "      <td>63.3</td>\n",
              "      <td>66.4</td>\n",
              "      <td>71.8</td>\n",
              "      <td>..</td>\n",
              "      <td>69.6</td>\n",
              "      <td>..</td>\n",
              "    </tr>\n",
              "  </tbody>\n",
              "</table>\n",
              "</div>"
            ],
            "text/plain": [
              "                                          Series Name     Series Code  ... 2019 2020\n",
              "264  Individuals using the Internet (% of population)  IT.NET.USER.ZS  ...   ..   ..\n",
              "265  Individuals using the Internet (% of population)  IT.NET.USER.ZS  ... 69.6   ..\n",
              "\n",
              "[2 rows x 16 columns]"
            ]
          },
          "metadata": {
            "tags": []
          },
          "execution_count": 16
        }
      ]
    },
    {
      "cell_type": "code",
      "metadata": {
        "colab": {
          "base_uri": "https://localhost:8080/",
          "height": 195
        },
        "id": "n3KT2d-VPiRx",
        "outputId": "53933ef8-49a8-4886-e1ab-7d3fb74d6659"
      },
      "source": [
        "#keeping relevant columns\n",
        "df_ia = df_ia.drop(['Series Name','Series Code', 'Country Code', '1990','2000','2020'], axis=1)\n",
        "df_ia.head()\n"
      ],
      "execution_count": null,
      "outputs": [
        {
          "output_type": "execute_result",
          "data": {
            "text/html": [
              "<div>\n",
              "<style scoped>\n",
              "    .dataframe tbody tr th:only-of-type {\n",
              "        vertical-align: middle;\n",
              "    }\n",
              "\n",
              "    .dataframe tbody tr th {\n",
              "        vertical-align: top;\n",
              "    }\n",
              "\n",
              "    .dataframe thead th {\n",
              "        text-align: right;\n",
              "    }\n",
              "</style>\n",
              "<table border=\"1\" class=\"dataframe\">\n",
              "  <thead>\n",
              "    <tr style=\"text-align: right;\">\n",
              "      <th></th>\n",
              "      <th>Country Name</th>\n",
              "      <th>2011</th>\n",
              "      <th>2012</th>\n",
              "      <th>2013</th>\n",
              "      <th>2014</th>\n",
              "      <th>2015</th>\n",
              "      <th>2016</th>\n",
              "      <th>2017</th>\n",
              "      <th>2018</th>\n",
              "      <th>2019</th>\n",
              "    </tr>\n",
              "  </thead>\n",
              "  <tbody>\n",
              "    <tr>\n",
              "      <th>264</th>\n",
              "      <td>Afghanistan</td>\n",
              "      <td>5</td>\n",
              "      <td>5.5</td>\n",
              "      <td>5.9</td>\n",
              "      <td>7</td>\n",
              "      <td>8.3</td>\n",
              "      <td>..</td>\n",
              "      <td>11.4</td>\n",
              "      <td>..</td>\n",
              "      <td>..</td>\n",
              "    </tr>\n",
              "    <tr>\n",
              "      <th>265</th>\n",
              "      <td>Albania</td>\n",
              "      <td>49</td>\n",
              "      <td>54.7</td>\n",
              "      <td>57.2</td>\n",
              "      <td>60.1</td>\n",
              "      <td>63.3</td>\n",
              "      <td>66.4</td>\n",
              "      <td>71.8</td>\n",
              "      <td>..</td>\n",
              "      <td>69.6</td>\n",
              "    </tr>\n",
              "    <tr>\n",
              "      <th>266</th>\n",
              "      <td>Algeria</td>\n",
              "      <td>14.9</td>\n",
              "      <td>18.2</td>\n",
              "      <td>22.5</td>\n",
              "      <td>29.5</td>\n",
              "      <td>38.2</td>\n",
              "      <td>42.9</td>\n",
              "      <td>47.7</td>\n",
              "      <td>49.0</td>\n",
              "      <td>..</td>\n",
              "    </tr>\n",
              "    <tr>\n",
              "      <th>267</th>\n",
              "      <td>American Samoa</td>\n",
              "      <td>..</td>\n",
              "      <td>..</td>\n",
              "      <td>..</td>\n",
              "      <td>..</td>\n",
              "      <td>..</td>\n",
              "      <td>..</td>\n",
              "      <td>..</td>\n",
              "      <td>..</td>\n",
              "      <td>..</td>\n",
              "    </tr>\n",
              "    <tr>\n",
              "      <th>268</th>\n",
              "      <td>Andorra</td>\n",
              "      <td>81</td>\n",
              "      <td>86.4</td>\n",
              "      <td>94</td>\n",
              "      <td>95.9</td>\n",
              "      <td>96.9</td>\n",
              "      <td>97.9</td>\n",
              "      <td>91.6</td>\n",
              "      <td>..</td>\n",
              "      <td>..</td>\n",
              "    </tr>\n",
              "  </tbody>\n",
              "</table>\n",
              "</div>"
            ],
            "text/plain": [
              "       Country Name 2011 2012 2013 2014 2015 2016 2017 2018 2019\n",
              "264     Afghanistan    5  5.5  5.9    7  8.3   .. 11.4   ..   ..\n",
              "265         Albania   49 54.7 57.2 60.1 63.3 66.4 71.8   .. 69.6\n",
              "266         Algeria 14.9 18.2 22.5 29.5 38.2 42.9 47.7 49.0   ..\n",
              "267  American Samoa   ..   ..   ..   ..   ..   ..   ..   ..   ..\n",
              "268         Andorra   81 86.4   94 95.9 96.9 97.9 91.6   ..   .."
            ]
          },
          "metadata": {
            "tags": []
          },
          "execution_count": 17
        }
      ]
    },
    {
      "cell_type": "code",
      "metadata": {
        "colab": {
          "base_uri": "https://localhost:8080/",
          "height": 343
        },
        "id": "RCwLU-Zfg04i",
        "outputId": "2d29ea81-98a0-48ba-cd9b-50d03a6c33a8"
      },
      "source": [
        "df_ia = df_ia.melt(id_vars=['Country Name'], var_name=['Year'], \n",
        "                       value_name='Individuals (%) with Internet access').sort_values(['Country Name','Year'])\n",
        "df_ia.head(10)"
      ],
      "execution_count": null,
      "outputs": [
        {
          "output_type": "execute_result",
          "data": {
            "text/html": [
              "<div>\n",
              "<style scoped>\n",
              "    .dataframe tbody tr th:only-of-type {\n",
              "        vertical-align: middle;\n",
              "    }\n",
              "\n",
              "    .dataframe tbody tr th {\n",
              "        vertical-align: top;\n",
              "    }\n",
              "\n",
              "    .dataframe thead th {\n",
              "        text-align: right;\n",
              "    }\n",
              "</style>\n",
              "<table border=\"1\" class=\"dataframe\">\n",
              "  <thead>\n",
              "    <tr style=\"text-align: right;\">\n",
              "      <th></th>\n",
              "      <th>Country Name</th>\n",
              "      <th>Year</th>\n",
              "      <th>Individuals (%) with Internet access</th>\n",
              "    </tr>\n",
              "  </thead>\n",
              "  <tbody>\n",
              "    <tr>\n",
              "      <th>0</th>\n",
              "      <td>Afghanistan</td>\n",
              "      <td>2011</td>\n",
              "      <td>5</td>\n",
              "    </tr>\n",
              "    <tr>\n",
              "      <th>269</th>\n",
              "      <td>Afghanistan</td>\n",
              "      <td>2012</td>\n",
              "      <td>5.5</td>\n",
              "    </tr>\n",
              "    <tr>\n",
              "      <th>538</th>\n",
              "      <td>Afghanistan</td>\n",
              "      <td>2013</td>\n",
              "      <td>5.9</td>\n",
              "    </tr>\n",
              "    <tr>\n",
              "      <th>807</th>\n",
              "      <td>Afghanistan</td>\n",
              "      <td>2014</td>\n",
              "      <td>7</td>\n",
              "    </tr>\n",
              "    <tr>\n",
              "      <th>1076</th>\n",
              "      <td>Afghanistan</td>\n",
              "      <td>2015</td>\n",
              "      <td>8.3</td>\n",
              "    </tr>\n",
              "    <tr>\n",
              "      <th>1345</th>\n",
              "      <td>Afghanistan</td>\n",
              "      <td>2016</td>\n",
              "      <td>..</td>\n",
              "    </tr>\n",
              "    <tr>\n",
              "      <th>1614</th>\n",
              "      <td>Afghanistan</td>\n",
              "      <td>2017</td>\n",
              "      <td>11.4</td>\n",
              "    </tr>\n",
              "    <tr>\n",
              "      <th>1883</th>\n",
              "      <td>Afghanistan</td>\n",
              "      <td>2018</td>\n",
              "      <td>..</td>\n",
              "    </tr>\n",
              "    <tr>\n",
              "      <th>2152</th>\n",
              "      <td>Afghanistan</td>\n",
              "      <td>2019</td>\n",
              "      <td>..</td>\n",
              "    </tr>\n",
              "    <tr>\n",
              "      <th>1</th>\n",
              "      <td>Albania</td>\n",
              "      <td>2011</td>\n",
              "      <td>49</td>\n",
              "    </tr>\n",
              "  </tbody>\n",
              "</table>\n",
              "</div>"
            ],
            "text/plain": [
              "     Country Name  Year Individuals (%) with Internet access\n",
              "0     Afghanistan  2011                                    5\n",
              "269   Afghanistan  2012                                  5.5\n",
              "538   Afghanistan  2013                                  5.9\n",
              "807   Afghanistan  2014                                    7\n",
              "1076  Afghanistan  2015                                  8.3\n",
              "1345  Afghanistan  2016                                   ..\n",
              "1614  Afghanistan  2017                                 11.4\n",
              "1883  Afghanistan  2018                                   ..\n",
              "2152  Afghanistan  2019                                   ..\n",
              "1         Albania  2011                                   49"
            ]
          },
          "metadata": {
            "tags": []
          },
          "execution_count": 18
        }
      ]
    },
    {
      "cell_type": "code",
      "metadata": {
        "colab": {
          "base_uri": "https://localhost:8080/",
          "height": 639
        },
        "id": "0YMwnaHem30f",
        "outputId": "5b755a00-618a-4d19-cccf-9505f0ab649a"
      },
      "source": [
        "df_ia_fin = df_ia.reset_index().drop(columns='index')\n",
        "df_ia_fin.head(20)"
      ],
      "execution_count": null,
      "outputs": [
        {
          "output_type": "execute_result",
          "data": {
            "text/html": [
              "<div>\n",
              "<style scoped>\n",
              "    .dataframe tbody tr th:only-of-type {\n",
              "        vertical-align: middle;\n",
              "    }\n",
              "\n",
              "    .dataframe tbody tr th {\n",
              "        vertical-align: top;\n",
              "    }\n",
              "\n",
              "    .dataframe thead th {\n",
              "        text-align: right;\n",
              "    }\n",
              "</style>\n",
              "<table border=\"1\" class=\"dataframe\">\n",
              "  <thead>\n",
              "    <tr style=\"text-align: right;\">\n",
              "      <th></th>\n",
              "      <th>Country Name</th>\n",
              "      <th>Year</th>\n",
              "      <th>Individuals (%) with Internet access</th>\n",
              "    </tr>\n",
              "  </thead>\n",
              "  <tbody>\n",
              "    <tr>\n",
              "      <th>0</th>\n",
              "      <td>Afghanistan</td>\n",
              "      <td>2011</td>\n",
              "      <td>5</td>\n",
              "    </tr>\n",
              "    <tr>\n",
              "      <th>1</th>\n",
              "      <td>Afghanistan</td>\n",
              "      <td>2012</td>\n",
              "      <td>5.5</td>\n",
              "    </tr>\n",
              "    <tr>\n",
              "      <th>2</th>\n",
              "      <td>Afghanistan</td>\n",
              "      <td>2013</td>\n",
              "      <td>5.9</td>\n",
              "    </tr>\n",
              "    <tr>\n",
              "      <th>3</th>\n",
              "      <td>Afghanistan</td>\n",
              "      <td>2014</td>\n",
              "      <td>7</td>\n",
              "    </tr>\n",
              "    <tr>\n",
              "      <th>4</th>\n",
              "      <td>Afghanistan</td>\n",
              "      <td>2015</td>\n",
              "      <td>8.3</td>\n",
              "    </tr>\n",
              "    <tr>\n",
              "      <th>5</th>\n",
              "      <td>Afghanistan</td>\n",
              "      <td>2016</td>\n",
              "      <td>..</td>\n",
              "    </tr>\n",
              "    <tr>\n",
              "      <th>6</th>\n",
              "      <td>Afghanistan</td>\n",
              "      <td>2017</td>\n",
              "      <td>11.4</td>\n",
              "    </tr>\n",
              "    <tr>\n",
              "      <th>7</th>\n",
              "      <td>Afghanistan</td>\n",
              "      <td>2018</td>\n",
              "      <td>..</td>\n",
              "    </tr>\n",
              "    <tr>\n",
              "      <th>8</th>\n",
              "      <td>Afghanistan</td>\n",
              "      <td>2019</td>\n",
              "      <td>..</td>\n",
              "    </tr>\n",
              "    <tr>\n",
              "      <th>9</th>\n",
              "      <td>Albania</td>\n",
              "      <td>2011</td>\n",
              "      <td>49</td>\n",
              "    </tr>\n",
              "    <tr>\n",
              "      <th>10</th>\n",
              "      <td>Albania</td>\n",
              "      <td>2012</td>\n",
              "      <td>54.7</td>\n",
              "    </tr>\n",
              "    <tr>\n",
              "      <th>11</th>\n",
              "      <td>Albania</td>\n",
              "      <td>2013</td>\n",
              "      <td>57.2</td>\n",
              "    </tr>\n",
              "    <tr>\n",
              "      <th>12</th>\n",
              "      <td>Albania</td>\n",
              "      <td>2014</td>\n",
              "      <td>60.1</td>\n",
              "    </tr>\n",
              "    <tr>\n",
              "      <th>13</th>\n",
              "      <td>Albania</td>\n",
              "      <td>2015</td>\n",
              "      <td>63.3</td>\n",
              "    </tr>\n",
              "    <tr>\n",
              "      <th>14</th>\n",
              "      <td>Albania</td>\n",
              "      <td>2016</td>\n",
              "      <td>66.4</td>\n",
              "    </tr>\n",
              "    <tr>\n",
              "      <th>15</th>\n",
              "      <td>Albania</td>\n",
              "      <td>2017</td>\n",
              "      <td>71.8</td>\n",
              "    </tr>\n",
              "    <tr>\n",
              "      <th>16</th>\n",
              "      <td>Albania</td>\n",
              "      <td>2018</td>\n",
              "      <td>..</td>\n",
              "    </tr>\n",
              "    <tr>\n",
              "      <th>17</th>\n",
              "      <td>Albania</td>\n",
              "      <td>2019</td>\n",
              "      <td>69.6</td>\n",
              "    </tr>\n",
              "    <tr>\n",
              "      <th>18</th>\n",
              "      <td>Algeria</td>\n",
              "      <td>2011</td>\n",
              "      <td>14.9</td>\n",
              "    </tr>\n",
              "    <tr>\n",
              "      <th>19</th>\n",
              "      <td>Algeria</td>\n",
              "      <td>2012</td>\n",
              "      <td>18.2</td>\n",
              "    </tr>\n",
              "  </tbody>\n",
              "</table>\n",
              "</div>"
            ],
            "text/plain": [
              "   Country Name  Year Individuals (%) with Internet access\n",
              "0   Afghanistan  2011                                    5\n",
              "1   Afghanistan  2012                                  5.5\n",
              "2   Afghanistan  2013                                  5.9\n",
              "3   Afghanistan  2014                                    7\n",
              "4   Afghanistan  2015                                  8.3\n",
              "5   Afghanistan  2016                                   ..\n",
              "6   Afghanistan  2017                                 11.4\n",
              "7   Afghanistan  2018                                   ..\n",
              "8   Afghanistan  2019                                   ..\n",
              "9       Albania  2011                                   49\n",
              "10      Albania  2012                                 54.7\n",
              "11      Albania  2013                                 57.2\n",
              "12      Albania  2014                                 60.1\n",
              "13      Albania  2015                                 63.3\n",
              "14      Albania  2016                                 66.4\n",
              "15      Albania  2017                                 71.8\n",
              "16      Albania  2018                                   ..\n",
              "17      Albania  2019                                 69.6\n",
              "18      Algeria  2011                                 14.9\n",
              "19      Algeria  2012                                 18.2"
            ]
          },
          "metadata": {
            "tags": []
          },
          "execution_count": 19
        }
      ]
    },
    {
      "cell_type": "code",
      "metadata": {
        "colab": {
          "base_uri": "https://localhost:8080/",
          "height": 639
        },
        "id": "HZ5dZAOjNfVW",
        "outputId": "ac1b6b0b-0369-4afc-bc47-6f9d708a7395"
      },
      "source": [
        "df_ia_fin.replace(\"..\", np.nan, inplace=True)\n",
        "df_ia_fin.head(20)"
      ],
      "execution_count": null,
      "outputs": [
        {
          "output_type": "execute_result",
          "data": {
            "text/html": [
              "<div>\n",
              "<style scoped>\n",
              "    .dataframe tbody tr th:only-of-type {\n",
              "        vertical-align: middle;\n",
              "    }\n",
              "\n",
              "    .dataframe tbody tr th {\n",
              "        vertical-align: top;\n",
              "    }\n",
              "\n",
              "    .dataframe thead th {\n",
              "        text-align: right;\n",
              "    }\n",
              "</style>\n",
              "<table border=\"1\" class=\"dataframe\">\n",
              "  <thead>\n",
              "    <tr style=\"text-align: right;\">\n",
              "      <th></th>\n",
              "      <th>Country Name</th>\n",
              "      <th>Year</th>\n",
              "      <th>Individuals (%) with Internet access</th>\n",
              "    </tr>\n",
              "  </thead>\n",
              "  <tbody>\n",
              "    <tr>\n",
              "      <th>0</th>\n",
              "      <td>Afghanistan</td>\n",
              "      <td>2011</td>\n",
              "      <td>5.0</td>\n",
              "    </tr>\n",
              "    <tr>\n",
              "      <th>1</th>\n",
              "      <td>Afghanistan</td>\n",
              "      <td>2012</td>\n",
              "      <td>5.5</td>\n",
              "    </tr>\n",
              "    <tr>\n",
              "      <th>2</th>\n",
              "      <td>Afghanistan</td>\n",
              "      <td>2013</td>\n",
              "      <td>5.9</td>\n",
              "    </tr>\n",
              "    <tr>\n",
              "      <th>3</th>\n",
              "      <td>Afghanistan</td>\n",
              "      <td>2014</td>\n",
              "      <td>7.0</td>\n",
              "    </tr>\n",
              "    <tr>\n",
              "      <th>4</th>\n",
              "      <td>Afghanistan</td>\n",
              "      <td>2015</td>\n",
              "      <td>8.3</td>\n",
              "    </tr>\n",
              "    <tr>\n",
              "      <th>5</th>\n",
              "      <td>Afghanistan</td>\n",
              "      <td>2016</td>\n",
              "      <td>nan</td>\n",
              "    </tr>\n",
              "    <tr>\n",
              "      <th>6</th>\n",
              "      <td>Afghanistan</td>\n",
              "      <td>2017</td>\n",
              "      <td>11.4</td>\n",
              "    </tr>\n",
              "    <tr>\n",
              "      <th>7</th>\n",
              "      <td>Afghanistan</td>\n",
              "      <td>2018</td>\n",
              "      <td>nan</td>\n",
              "    </tr>\n",
              "    <tr>\n",
              "      <th>8</th>\n",
              "      <td>Afghanistan</td>\n",
              "      <td>2019</td>\n",
              "      <td>nan</td>\n",
              "    </tr>\n",
              "    <tr>\n",
              "      <th>9</th>\n",
              "      <td>Albania</td>\n",
              "      <td>2011</td>\n",
              "      <td>49.0</td>\n",
              "    </tr>\n",
              "    <tr>\n",
              "      <th>10</th>\n",
              "      <td>Albania</td>\n",
              "      <td>2012</td>\n",
              "      <td>54.7</td>\n",
              "    </tr>\n",
              "    <tr>\n",
              "      <th>11</th>\n",
              "      <td>Albania</td>\n",
              "      <td>2013</td>\n",
              "      <td>57.2</td>\n",
              "    </tr>\n",
              "    <tr>\n",
              "      <th>12</th>\n",
              "      <td>Albania</td>\n",
              "      <td>2014</td>\n",
              "      <td>60.1</td>\n",
              "    </tr>\n",
              "    <tr>\n",
              "      <th>13</th>\n",
              "      <td>Albania</td>\n",
              "      <td>2015</td>\n",
              "      <td>63.3</td>\n",
              "    </tr>\n",
              "    <tr>\n",
              "      <th>14</th>\n",
              "      <td>Albania</td>\n",
              "      <td>2016</td>\n",
              "      <td>66.4</td>\n",
              "    </tr>\n",
              "    <tr>\n",
              "      <th>15</th>\n",
              "      <td>Albania</td>\n",
              "      <td>2017</td>\n",
              "      <td>71.8</td>\n",
              "    </tr>\n",
              "    <tr>\n",
              "      <th>16</th>\n",
              "      <td>Albania</td>\n",
              "      <td>2018</td>\n",
              "      <td>nan</td>\n",
              "    </tr>\n",
              "    <tr>\n",
              "      <th>17</th>\n",
              "      <td>Albania</td>\n",
              "      <td>2019</td>\n",
              "      <td>69.6</td>\n",
              "    </tr>\n",
              "    <tr>\n",
              "      <th>18</th>\n",
              "      <td>Algeria</td>\n",
              "      <td>2011</td>\n",
              "      <td>14.9</td>\n",
              "    </tr>\n",
              "    <tr>\n",
              "      <th>19</th>\n",
              "      <td>Algeria</td>\n",
              "      <td>2012</td>\n",
              "      <td>18.2</td>\n",
              "    </tr>\n",
              "  </tbody>\n",
              "</table>\n",
              "</div>"
            ],
            "text/plain": [
              "   Country Name  Year  Individuals (%) with Internet access\n",
              "0   Afghanistan  2011                                   5.0\n",
              "1   Afghanistan  2012                                   5.5\n",
              "2   Afghanistan  2013                                   5.9\n",
              "3   Afghanistan  2014                                   7.0\n",
              "4   Afghanistan  2015                                   8.3\n",
              "5   Afghanistan  2016                                   nan\n",
              "6   Afghanistan  2017                                  11.4\n",
              "7   Afghanistan  2018                                   nan\n",
              "8   Afghanistan  2019                                   nan\n",
              "9       Albania  2011                                  49.0\n",
              "10      Albania  2012                                  54.7\n",
              "11      Albania  2013                                  57.2\n",
              "12      Albania  2014                                  60.1\n",
              "13      Albania  2015                                  63.3\n",
              "14      Albania  2016                                  66.4\n",
              "15      Albania  2017                                  71.8\n",
              "16      Albania  2018                                   nan\n",
              "17      Albania  2019                                  69.6\n",
              "18      Algeria  2011                                  14.9\n",
              "19      Algeria  2012                                  18.2"
            ]
          },
          "metadata": {
            "tags": []
          },
          "execution_count": 20
        }
      ]
    },
    {
      "cell_type": "code",
      "metadata": {
        "colab": {
          "base_uri": "https://localhost:8080/",
          "height": 639
        },
        "id": "AHebKZQdCnp9",
        "outputId": "38c8bae5-9a98-4907-a962-592eb07985a0"
      },
      "source": [
        "#handling the missing values\n",
        "cols = list(df_ia_fin.columns)\n",
        "cols.pop(0)\n",
        "cols.pop(0)\n",
        "df_ia_fin[cols] = df_ia_fin[cols].fillna(df_ia_fin.groupby('Country Name')[cols].ffill())\n",
        "df_ia_fin[cols] = df_ia_fin[cols].fillna(df_ia_fin.groupby('Country Name')[cols].bfill())\n",
        "df_ia_fin[\"Year\"] = df_ia_fin[\"Year\"].astype(\"int64\")\n",
        "df_ia_fin.head(20)"
      ],
      "execution_count": null,
      "outputs": [
        {
          "output_type": "execute_result",
          "data": {
            "text/html": [
              "<div>\n",
              "<style scoped>\n",
              "    .dataframe tbody tr th:only-of-type {\n",
              "        vertical-align: middle;\n",
              "    }\n",
              "\n",
              "    .dataframe tbody tr th {\n",
              "        vertical-align: top;\n",
              "    }\n",
              "\n",
              "    .dataframe thead th {\n",
              "        text-align: right;\n",
              "    }\n",
              "</style>\n",
              "<table border=\"1\" class=\"dataframe\">\n",
              "  <thead>\n",
              "    <tr style=\"text-align: right;\">\n",
              "      <th></th>\n",
              "      <th>Country Name</th>\n",
              "      <th>Year</th>\n",
              "      <th>Individuals (%) with Internet access</th>\n",
              "    </tr>\n",
              "  </thead>\n",
              "  <tbody>\n",
              "    <tr>\n",
              "      <th>0</th>\n",
              "      <td>Afghanistan</td>\n",
              "      <td>2011</td>\n",
              "      <td>5.0</td>\n",
              "    </tr>\n",
              "    <tr>\n",
              "      <th>1</th>\n",
              "      <td>Afghanistan</td>\n",
              "      <td>2012</td>\n",
              "      <td>5.5</td>\n",
              "    </tr>\n",
              "    <tr>\n",
              "      <th>2</th>\n",
              "      <td>Afghanistan</td>\n",
              "      <td>2013</td>\n",
              "      <td>5.9</td>\n",
              "    </tr>\n",
              "    <tr>\n",
              "      <th>3</th>\n",
              "      <td>Afghanistan</td>\n",
              "      <td>2014</td>\n",
              "      <td>7.0</td>\n",
              "    </tr>\n",
              "    <tr>\n",
              "      <th>4</th>\n",
              "      <td>Afghanistan</td>\n",
              "      <td>2015</td>\n",
              "      <td>8.3</td>\n",
              "    </tr>\n",
              "    <tr>\n",
              "      <th>5</th>\n",
              "      <td>Afghanistan</td>\n",
              "      <td>2016</td>\n",
              "      <td>8.3</td>\n",
              "    </tr>\n",
              "    <tr>\n",
              "      <th>6</th>\n",
              "      <td>Afghanistan</td>\n",
              "      <td>2017</td>\n",
              "      <td>11.4</td>\n",
              "    </tr>\n",
              "    <tr>\n",
              "      <th>7</th>\n",
              "      <td>Afghanistan</td>\n",
              "      <td>2018</td>\n",
              "      <td>11.4</td>\n",
              "    </tr>\n",
              "    <tr>\n",
              "      <th>8</th>\n",
              "      <td>Afghanistan</td>\n",
              "      <td>2019</td>\n",
              "      <td>11.4</td>\n",
              "    </tr>\n",
              "    <tr>\n",
              "      <th>9</th>\n",
              "      <td>Albania</td>\n",
              "      <td>2011</td>\n",
              "      <td>49.0</td>\n",
              "    </tr>\n",
              "    <tr>\n",
              "      <th>10</th>\n",
              "      <td>Albania</td>\n",
              "      <td>2012</td>\n",
              "      <td>54.7</td>\n",
              "    </tr>\n",
              "    <tr>\n",
              "      <th>11</th>\n",
              "      <td>Albania</td>\n",
              "      <td>2013</td>\n",
              "      <td>57.2</td>\n",
              "    </tr>\n",
              "    <tr>\n",
              "      <th>12</th>\n",
              "      <td>Albania</td>\n",
              "      <td>2014</td>\n",
              "      <td>60.1</td>\n",
              "    </tr>\n",
              "    <tr>\n",
              "      <th>13</th>\n",
              "      <td>Albania</td>\n",
              "      <td>2015</td>\n",
              "      <td>63.3</td>\n",
              "    </tr>\n",
              "    <tr>\n",
              "      <th>14</th>\n",
              "      <td>Albania</td>\n",
              "      <td>2016</td>\n",
              "      <td>66.4</td>\n",
              "    </tr>\n",
              "    <tr>\n",
              "      <th>15</th>\n",
              "      <td>Albania</td>\n",
              "      <td>2017</td>\n",
              "      <td>71.8</td>\n",
              "    </tr>\n",
              "    <tr>\n",
              "      <th>16</th>\n",
              "      <td>Albania</td>\n",
              "      <td>2018</td>\n",
              "      <td>71.8</td>\n",
              "    </tr>\n",
              "    <tr>\n",
              "      <th>17</th>\n",
              "      <td>Albania</td>\n",
              "      <td>2019</td>\n",
              "      <td>69.6</td>\n",
              "    </tr>\n",
              "    <tr>\n",
              "      <th>18</th>\n",
              "      <td>Algeria</td>\n",
              "      <td>2011</td>\n",
              "      <td>14.9</td>\n",
              "    </tr>\n",
              "    <tr>\n",
              "      <th>19</th>\n",
              "      <td>Algeria</td>\n",
              "      <td>2012</td>\n",
              "      <td>18.2</td>\n",
              "    </tr>\n",
              "  </tbody>\n",
              "</table>\n",
              "</div>"
            ],
            "text/plain": [
              "   Country Name  Year  Individuals (%) with Internet access\n",
              "0   Afghanistan  2011                                   5.0\n",
              "1   Afghanistan  2012                                   5.5\n",
              "2   Afghanistan  2013                                   5.9\n",
              "3   Afghanistan  2014                                   7.0\n",
              "4   Afghanistan  2015                                   8.3\n",
              "5   Afghanistan  2016                                   8.3\n",
              "6   Afghanistan  2017                                  11.4\n",
              "7   Afghanistan  2018                                  11.4\n",
              "8   Afghanistan  2019                                  11.4\n",
              "9       Albania  2011                                  49.0\n",
              "10      Albania  2012                                  54.7\n",
              "11      Albania  2013                                  57.2\n",
              "12      Albania  2014                                  60.1\n",
              "13      Albania  2015                                  63.3\n",
              "14      Albania  2016                                  66.4\n",
              "15      Albania  2017                                  71.8\n",
              "16      Albania  2018                                  71.8\n",
              "17      Albania  2019                                  69.6\n",
              "18      Algeria  2011                                  14.9\n",
              "19      Algeria  2012                                  18.2"
            ]
          },
          "metadata": {
            "tags": []
          },
          "execution_count": 21
        }
      ]
    },
    {
      "cell_type": "markdown",
      "metadata": {
        "id": "vh03qkgeNdlr"
      },
      "source": [
        "## Happiness"
      ]
    },
    {
      "cell_type": "code",
      "metadata": {
        "id": "0Fjwt99MNifD"
      },
      "source": [
        "#load the file - Please ignore for teaching staff (use the files in the zip)\n",
        "id = \"17nrpjQt8wpSLACbk5HEAGNRQXRDmj9K3\"\n",
        "downloaded = drive.CreateFile({'id':id}) \n",
        "downloaded.GetContentFile('DataPanelWHR2021C2.xsl')\n",
        "#source "
      ],
      "execution_count": null,
      "outputs": []
    },
    {
      "cell_type": "code",
      "metadata": {
        "id": "KeQLOmjTPEL9"
      },
      "source": [
        "df_whr = pd.read_excel('DataPanelWHR2021C2.xsl')"
      ],
      "execution_count": null,
      "outputs": []
    },
    {
      "cell_type": "code",
      "metadata": {
        "id": "4_DuEFjM49nX"
      },
      "source": [
        "\n",
        "df_whr.groupby(\"Country name\")[\"year\"].count()"
      ],
      "execution_count": null,
      "outputs": []
    },
    {
      "cell_type": "markdown",
      "metadata": {
        "id": "zgTAtrisj8t6"
      },
      "source": [
        "Some info: \n",
        "https://worldhappiness.report/ed/2019/changing-world-happiness/\n"
      ]
    },
    {
      "cell_type": "code",
      "metadata": {
        "id": "Ihtf1BG3lyQP"
      },
      "source": [
        "#Code to add missing years and forward fill based on previous years. If missing data from all prior years, backwards fill\n",
        "#Adjsut the years to match the Broadband data so happiness report of 2019 is actually matching the 2018 broadband data\n",
        "df_whr[\"year\"] = df_whr[\"year\"] - 1\n",
        "df_whr = df_whr[df_whr[\"year\"]>=2010]\n",
        "missing_data = df_whr.groupby(\"Country name\")[\"year\"].count()\n",
        "missing_data = missing_data[missing_data <10]\n",
        "missing_data"
      ],
      "execution_count": null,
      "outputs": []
    },
    {
      "cell_type": "code",
      "metadata": {
        "id": "Rnd6T23mRwU4"
      },
      "source": [
        "idx = list(product(df_whr['Country name'].unique(), df_whr['year'].unique()))\n",
        "df_whr = df_whr.set_index(['Country name', 'year']).reindex(idx).reset_index()\n",
        "#df_whr.head(30)"
      ],
      "execution_count": null,
      "outputs": []
    },
    {
      "cell_type": "code",
      "metadata": {
        "id": "0-7YhCpArJPT"
      },
      "source": [
        "#idx = list(product(df_whr['Country name'].unique(), df_whr['year'].unique()))\n",
        "#df_whr = df_whr.set_index(['Country name', 'year']).reindex(idx).reset_index()\n",
        "\n",
        "#***Ankita use the below code to remove NAs from your file as well\n",
        "#Check ffill must be on same country\n",
        "cols = list(df_whr.columns)\n",
        "cols.pop(0)\n",
        "cols.pop(0)\n",
        "df_whr[cols] = df_whr[cols].fillna(df_whr.groupby('Country name')[cols].ffill())\n",
        "df_whr[cols] = df_whr[cols].fillna(df_whr.groupby('Country name')[cols].bfill())\n",
        "\n",
        "\n",
        "#df_whr.head(30)"
      ],
      "execution_count": null,
      "outputs": []
    },
    {
      "cell_type": "code",
      "metadata": {
        "id": "Q6VYg8u7Pzg7"
      },
      "source": [
        "df_whr_na = df_whr[df_whr.isna().any(axis=1)]\n",
        "df_whr_na.groupby(\"Country name\")[\"year\"].count()"
      ],
      "execution_count": null,
      "outputs": []
    },
    {
      "cell_type": "code",
      "metadata": {
        "id": "DAY5v-HiQC9M"
      },
      "source": [
        "#Since the countries with missing information are missing it in all years, we can either remove or fillna with 0 for missing \n",
        "#to avoid skewing correlations, will remove the entries\n",
        "df_whr.dropna(inplace=True)"
      ],
      "execution_count": null,
      "outputs": []
    },
    {
      "cell_type": "code",
      "metadata": {
        "id": "2LLGXOqUUMLd"
      },
      "source": [
        "# dropdown filter\n",
        "countries = df_whr[\"Country name\"].unique()\n",
        "country_dropdown = alt.binding_select(options=countries)\n",
        "country_select = alt.selection_single(\n",
        "    fields=[\"Country name\"],\n",
        "    bind=country_dropdown,\n",
        "    name=\"Country\",\n",
        ")\n",
        "\n",
        "# Create scatter plot\n",
        "chart = (\n",
        "    alt.Chart(df_whr)\n",
        "    .mark_line()\n",
        "    .encode(x=\"year:O\", y=\"Life Ladder:Q\")\n",
        "    .add_selection(country_select)\n",
        "    .transform_filter(country_select)\n",
        ").properties(title=\"Happiness rating per country\", width=600)\n",
        "chart"
      ],
      "execution_count": null,
      "outputs": []
    },
    {
      "cell_type": "code",
      "metadata": {
        "id": "P-Cq9I-bV5-P"
      },
      "source": [
        "df_whr.head()"
      ],
      "execution_count": null,
      "outputs": []
    },
    {
      "cell_type": "code",
      "metadata": {
        "id": "mUQfI6ZOaGmb"
      },
      "source": [
        "print(\"There are \" + str(len(list(df_whr[\"Country name\"].unique()))) + \" countries\")"
      ],
      "execution_count": null,
      "outputs": []
    },
    {
      "cell_type": "code",
      "metadata": {
        "id": "VVNquPX8arHG"
      },
      "source": [
        "df_whr.groupby(\"year\").mean()"
      ],
      "execution_count": null,
      "outputs": []
    },
    {
      "cell_type": "code",
      "metadata": {
        "id": "xfezFT-Fb1aE"
      },
      "source": [
        ""
      ],
      "execution_count": null,
      "outputs": []
    },
    {
      "cell_type": "markdown",
      "metadata": {
        "id": "_BKls5nKzhW_"
      },
      "source": [
        "## Align and Merge the two datasets"
      ]
    },
    {
      "cell_type": "code",
      "metadata": {
        "id": "lfeVJPbBrTtP"
      },
      "source": [
        "whr_countries = set(df_whr[\"Country name\"])\n",
        "bb_countries = set(df_ia_fin[\"Country Name\"])\n",
        "c = whr_countries.difference(bb_countries)\n",
        "print(\"WHR # of countries: \" + str(len(whr_countries)))\n",
        "print(\"WB # of countries: \" + str(len(bb_countries)))\n"
      ],
      "execution_count": null,
      "outputs": []
    },
    {
      "cell_type": "code",
      "metadata": {
        "id": "Zyg13Rw30gJp"
      },
      "source": [
        "whr_countries = set(df_whr[\"Country name\"])\n",
        "bb_countries = set(df_ia_fin[\"Country Name\"])\n",
        "c = whr_countries.difference(bb_countries)\n",
        "print(len(c))\n",
        "print(c)"
      ],
      "execution_count": null,
      "outputs": []
    },
    {
      "cell_type": "code",
      "metadata": {
        "id": "tZuSw3gcz2uT"
      },
      "source": [
        "c = bb_countries.difference(whr_countries)\n",
        "print(len(c))\n",
        "print(c)"
      ],
      "execution_count": null,
      "outputs": []
    },
    {
      "cell_type": "markdown",
      "metadata": {
        "id": "ssYeAsTT78I6"
      },
      "source": [
        "Build a dictionnary to replace the missing names in WHR (others will be dropped)"
      ]
    },
    {
      "cell_type": "code",
      "metadata": {
        "id": "5gJ95LkM0XVw"
      },
      "source": [
        "dict_cty_replace = {\"Congo (Brazzaville)\" : \"Congo, Rep.\", \"Congo (Kinshasa)\" : \"Congo, Dem. Rep.\",\n",
        "                    \"Egypt\" : \"Egypt, Arab Rep.\", \"Gambia\" : \"Gambia, The\", \"Hong Kong S.A.R. of China\": \"Hong Kong SAR, China\",\n",
        "                    \"Iran\" : \"Iran, Islamic Rep.\", \"Ivory Coast\" : \"Cote d'Ivoire\", \"Kyrgyzstan\" : \"Kyrgyz Republic\",\n",
        "                    \"Laos\" : \"Lao PDR\", \"Russia\" : \"Russian Federation\", \"Slovakia\" : \"Slovak Republic\", \n",
        "                    \"South Korea\" : \"Korea, Rep.\", \"Swaziland\" : \"Eswatini\", \"Syria\" : \"Syrian Arab Republic\", \n",
        "                    \"Venezuela\" : \"Venezuela, RB\", \"Yemen\" : \"Yemen, Rep.\", \"Palestinian Territories\" : \"West Bank and Gaza\"}\n",
        "\n",
        "#Dropped countries and the reason why, same for why WHR as the baseline table\n",
        "# North Cyprus - Not recognized \n",
        "# Somaliland region -  internationally considered to be part of Somalia\n",
        "# Taiwan Province of China - internationally recognized (by some countries, but including the WB) as China\n",
        "\n",
        "df_whr.replace({\"Country name\" : dict_cty_replace}, inplace=True)\n",
        "df_whr[df_whr[\"Country name\"] == \"Slovak Republic\"]"
      ],
      "execution_count": null,
      "outputs": []
    },
    {
      "cell_type": "code",
      "metadata": {
        "id": "UYPsKg-OECB2"
      },
      "source": [
        "df_ia_fin.info()"
      ],
      "execution_count": null,
      "outputs": []
    },
    {
      "cell_type": "markdown",
      "metadata": {
        "id": "WNvvu2Kt7_3T"
      },
      "source": [
        "Merge the two datasets (inner join)"
      ]
    },
    {
      "cell_type": "code",
      "metadata": {
        "id": "sPjSjVE37nop"
      },
      "source": [
        "merged_data = df_whr.merge(df_ia_fin, how=\"inner\", left_on=[\"Country name\", \"year\"], right_on=[\"Country Name\", \"Year\"])\n",
        "merged_data = merged_data.drop(columns=['Country Name', 'Year'])\n",
        "merged_data.head()"
      ],
      "execution_count": null,
      "outputs": []
    },
    {
      "cell_type": "code",
      "metadata": {
        "id": "dBzbCPlA8d5I"
      },
      "source": [
        ""
      ],
      "execution_count": null,
      "outputs": []
    },
    {
      "cell_type": "markdown",
      "metadata": {
        "id": "c1ns5owgGrL4"
      },
      "source": [
        "# EDA"
      ]
    },
    {
      "cell_type": "markdown",
      "metadata": {
        "id": "PCeIQq4wd_m1"
      },
      "source": [
        "SPLOM using Plotly"
      ]
    },
    {
      "cell_type": "code",
      "metadata": {
        "id": "jwDweTahkb73"
      },
      "source": [
        "import plotly.graph_objs as go\n",
        "index_vals = merged_data['year'].astype('category').cat.codes\n",
        "fig = go.Figure(data=go.Splom(\n",
        "                dimensions=[dict(label='Happiness',\n",
        "                                 values=merged_data['Life Ladder']),\n",
        "                            dict(label='GDP',\n",
        "                                 values=merged_data['Log GDP per capita']),\n",
        "                            dict(label='Social support',\n",
        "                                 values=merged_data['Social support']),\n",
        "                            dict(label='Life expectancy',\n",
        "                                 values=merged_data['Healthy life expectancy at birth']),\n",
        "                            dict(label='Freedom',\n",
        "                                 values=merged_data['Freedom to make life choices']),\n",
        "                            dict(label='Generosity',\n",
        "                                 values=merged_data['Generosity']),\n",
        "                            dict(label='Corruption',\n",
        "                                 values=merged_data['Perceptions of corruption']),\n",
        "                            dict(label='Positive',\n",
        "                                 values=merged_data['Positive affect']),\n",
        "                            dict(label='Negative',\n",
        "                                 values=merged_data['Negative affect']),\n",
        "                            dict(label='Internet access',\n",
        "                                 values=merged_data['Individuals (%) with Internet access'])],\n",
        "                diagonal_visible=False, # remove plots on diagonal\n",
        "                text=merged_data['year'],\n",
        "                marker=dict(color=index_vals,\n",
        "                            showscale=True, # colors encode categorical variables\n",
        "                            line_color='white', line_width=0.5)\n",
        "                ))\n",
        "\n",
        "fig.update_layout(\n",
        "    title='SPLOM full dataset',\n",
        "    autosize=False,\n",
        "    width=1400,\n",
        "    height=1200,\n",
        ")\n",
        "\n",
        "fig.show()"
      ],
      "execution_count": null,
      "outputs": []
    },
    {
      "cell_type": "code",
      "metadata": {
        "id": "Ci7gSxXbgsZR"
      },
      "source": [
        ""
      ],
      "execution_count": null,
      "outputs": []
    },
    {
      "cell_type": "code",
      "metadata": {
        "id": "MMgVL7S9fM0x"
      },
      "source": [
        "corrMatrix = merged_data.drop(\"year\", axis=1).corr().reset_index().melt('index')\n",
        "corrMatrix.columns = ['var1', 'var2', 'correlation']\n",
        "\n",
        "base = alt.Chart(corrMatrix).transform_filter(\n",
        "    alt.datum.var1 < alt.datum.var2\n",
        ").encode(\n",
        "    x='var1',\n",
        "    y='var2',\n",
        ").properties(\n",
        "    width=alt.Step(50),\n",
        "    height=alt.Step(50)\n",
        ")\n",
        "\n",
        "rects = base.mark_rect().encode(\n",
        "    color='correlation'\n",
        ")\n",
        "\n",
        "text = base.mark_text(\n",
        "    size=15\n",
        ").encode(\n",
        "    text=alt.Text('correlation', format=\".2f\"),\n",
        "    color=alt.condition(\n",
        "        \"datum.correlation > 0.5\",\n",
        "        alt.value('white'),\n",
        "        alt.value('black')\n",
        "    )\n",
        ")\n",
        "\n",
        "rects + text"
      ],
      "execution_count": null,
      "outputs": []
    },
    {
      "cell_type": "code",
      "metadata": {
        "id": "rEx9H2s1Gwft"
      },
      "source": [
        "#correlation matrix\n",
        "corr = merged_data.drop(\"year\", axis=1).corr(method ='pearson')\n",
        "corr"
      ],
      "execution_count": null,
      "outputs": []
    },
    {
      "cell_type": "code",
      "metadata": {
        "id": "9elKFA9tGwi-"
      },
      "source": [
        "#fin_data dataset with only correlated variables, life ladder, log GDP per capita, Individuals (%) with Internet access\n",
        "\n",
        "fin_data = merged_data[['Country name','year', 'Life Ladder','Log GDP per capita','Individuals (%) with Internet access']]\n",
        "fin_data.head()"
      ],
      "execution_count": null,
      "outputs": []
    },
    {
      "cell_type": "code",
      "metadata": {
        "id": "lyo3JCLsLUT_"
      },
      "source": [
        "Hap_int_df = fin_data[['Life Ladder','Individuals (%) with Internet access']].groupby(fin_data['year']).mean().reset_index()\n",
        "Hap_int_df.head(2)"
      ],
      "execution_count": null,
      "outputs": []
    },
    {
      "cell_type": "code",
      "metadata": {
        "id": "TUFbOMdYNKTW"
      },
      "source": [
        "# create figure and axis objects with subplots()\n",
        "fig,ax = plt.subplots()\n",
        "# make a plot\n",
        "ax.plot(Hap_int_df['year'], Hap_int_df['Life Ladder'], color=\"red\", marker=\"o\")\n",
        "# set x-axis label\n",
        "ax.set_xlabel(\"Year\",fontsize=14)\n",
        "# set y-axis label\n",
        "ax.set_ylabel(\"Happiness\",color=\"red\",fontsize=14)\n",
        "\n",
        "# twin object for two different y-axis on the sample plot\n",
        "ax2=ax.twinx()\n",
        "# make a plot with different y-axis using second axis object\n",
        "ax2.plot(Hap_int_df['year'], Hap_int_df['Individuals (%) with Internet access'],color=\"blue\",marker=\"o\")\n",
        "ax2.set_ylabel(\"Internet access\",color=\"blue\",fontsize=14)\n",
        "plt.show()\n",
        "# save the plot as a file\n",
        "# fig.savefig('two_different_y_axis_for_single_python_plot_with_twinx.jpg',\n",
        "#             format='jpeg',\n",
        "#             dpi=100,\n",
        "#             bbox_inches='tight')"
      ],
      "execution_count": null,
      "outputs": []
    },
    {
      "cell_type": "code",
      "metadata": {
        "id": "EoRjcBt3M6Z-"
      },
      "source": [
        "gdp_int_df = fin_data[['Log GDP per capita','Individuals (%) with Internet access']].groupby(fin_data['year']).mean().reset_index()\n",
        "gdp_int_df.head(2)"
      ],
      "execution_count": null,
      "outputs": []
    },
    {
      "cell_type": "code",
      "metadata": {
        "id": "_2UBUNkONPIM"
      },
      "source": [
        "# create figure and axis objects with subplots()\n",
        "fig,ax = plt.subplots()\n",
        "# make a plot\n",
        "ax.plot(gdp_int_df['year'], gdp_int_df['Log GDP per capita'], color=\"red\", marker=\"o\")\n",
        "# set x-axis label\n",
        "ax.set_xlabel(\"Year\",fontsize=14)\n",
        "# set y-axis label\n",
        "ax.set_ylabel(\"GDP growth\",color=\"red\",fontsize=14)\n",
        "\n",
        "# twin object for two different y-axis on the sample plot\n",
        "ax2=ax.twinx()\n",
        "# make a plot with different y-axis using second axis object\n",
        "ax2.plot(gdp_int_df['year'], gdp_int_df['Individuals (%) with Internet access'],color=\"blue\",marker=\"o\")\n",
        "ax2.set_ylabel(\"Internet access\",color=\"blue\",fontsize=14)\n",
        "plt.show()\n",
        "# # save the plot as a file\n",
        "# fig.savefig('two_different_y_axis_for_single_python_plot_with_twinx.jpg',\n",
        "#             format='jpeg',\n",
        "#             dpi=100,\n",
        "#             bbox_inches='tight')"
      ],
      "execution_count": null,
      "outputs": []
    },
    {
      "cell_type": "code",
      "metadata": {
        "id": "oXOVd-JVM6FP"
      },
      "source": [
        "hap_gdp_df = fin_data[['Life Ladder','Log GDP per capita']].groupby(fin_data['year']).mean().reset_index()\n",
        "hap_gdp_df.head(2)"
      ],
      "execution_count": null,
      "outputs": []
    },
    {
      "cell_type": "code",
      "metadata": {
        "id": "1mHR_9pMLJs2"
      },
      "source": [
        "# create figure and axis objects with subplots()\n",
        "fig,ax = plt.subplots()\n",
        "# make a plot\n",
        "ax.plot(hap_gdp_df['year'], hap_gdp_df['Life Ladder'], color=\"red\", marker=\"o\")\n",
        "# set x-axis label\n",
        "ax.set_xlabel(\"Year\",fontsize=14)\n",
        "# set y-axis label\n",
        "ax.set_ylabel(\"Happiness\",color=\"red\",fontsize=14)\n",
        "\n",
        "# twin object for two different y-axis on the sample plot\n",
        "ax2=ax.twinx()\n",
        "# make a plot with different y-axis using second axis object\n",
        "ax2.plot(hap_gdp_df['year'], hap_gdp_df['Log GDP per capita'],color=\"blue\",marker=\"o\")\n",
        "ax2.set_ylabel(\"GDP growth\",color=\"blue\",fontsize=14)\n",
        "plt.show()\n",
        "# # save the plot as a file\n",
        "# fig.savefig('two_different_y_axis_for_single_python_plot_with_twinx.jpg',\n",
        "#             format='jpeg',\n",
        "#             dpi=100,\n",
        "#             bbox_inches='tight')"
      ],
      "execution_count": null,
      "outputs": []
    },
    {
      "cell_type": "code",
      "metadata": {
        "id": "hdHNfDZiPGAO"
      },
      "source": [
        "reg_data = merged_data[['Log GDP per capita','Individuals (%) with Internet access']]\n",
        "reg_tgt = merged_data['Life Ladder']"
      ],
      "execution_count": null,
      "outputs": []
    },
    {
      "cell_type": "code",
      "metadata": {
        "id": "kOgs7sQnPe8D"
      },
      "source": [
        "reg_data_na = reg_data[reg_data.isna().any(axis=1)]\n",
        "reg_data_na"
      ],
      "execution_count": null,
      "outputs": []
    },
    {
      "cell_type": "code",
      "metadata": {
        "id": "KtyVostbOub5"
      },
      "source": [
        "from statsmodels.api import OLS\n",
        "\n",
        "OLS(reg_tgt,reg_data).fit().summary()"
      ],
      "execution_count": null,
      "outputs": []
    },
    {
      "cell_type": "code",
      "metadata": {
        "id": "wCz4Kpp-U_Zk"
      },
      "source": [
        "reg_data = merged_data['Log GDP per capita']\n",
        "reg_tgt = merged_data['Individuals (%) with Internet access']\n",
        "OLS(reg_tgt,reg_data).fit().summary()"
      ],
      "execution_count": null,
      "outputs": []
    },
    {
      "cell_type": "code",
      "metadata": {
        "id": "8YfPjvUxVV6R"
      },
      "source": [
        "reg_data = merged_data.drop(['Life Ladder', \"Country name\", \"year\"], axis=1)\n",
        "reg_tgt = merged_data['Life Ladder']\n",
        "\n",
        "OLS(reg_tgt,reg_data).fit().summary()"
      ],
      "execution_count": null,
      "outputs": []
    },
    {
      "cell_type": "markdown",
      "metadata": {
        "id": "xxOYwyrFWNpG"
      },
      "source": [
        "## Top 10 GDP"
      ]
    },
    {
      "cell_type": "code",
      "metadata": {
        "id": "aNEXgnWdWQnN"
      },
      "source": [
        "totalgdp = merged_data[merged_data[\"year\"]==2019].copy()\n",
        "totalgdp.set_index(\"Country name\", inplace=True)\n",
        "totalgdp = totalgdp[\"Log GDP per capita\"].copy()\n",
        "totalgdp.sort_values(ascending=False, inplace=True)\n",
        "top10GDPcountries = list(totalgdp[:10].index)\n",
        "top10GDP = merged_data[merged_data[\"Country name\"].isin(top10GDPcountries)].copy()\n",
        "top10GDP.head()"
      ],
      "execution_count": null,
      "outputs": []
    },
    {
      "cell_type": "code",
      "metadata": {
        "id": "SGx-JLqUX3nE"
      },
      "source": [
        "gdp_graph = alt.Chart(top10GDP).mark_line().encode(\n",
        "      x=\"year:O\",\n",
        "      y=alt.Y(\"Log GDP per capita\",scale=alt.Scale(domain=[10, 12])),\n",
        "      color=\"Country name\"\n",
        ").properties(width=600, height=500)\n",
        "gdp_graph"
      ],
      "execution_count": null,
      "outputs": []
    },
    {
      "cell_type": "code",
      "metadata": {
        "id": "3KOf6eKGZxRp"
      },
      "source": [
        "# dropdown filter\n",
        "countries = top10GDP[\"Country name\"].unique()\n",
        "country_dropdown = alt.binding_select(options=countries)\n",
        "country_select = alt.selection_single(\n",
        "    fields=[\"Country name\"],\n",
        "    bind=country_dropdown,\n",
        "    name=\"Country\",\n",
        ")\n",
        "\n",
        "# Create scatter plot\n",
        "chart_hap = (\n",
        "    alt.Chart(top10GDP)\n",
        "    .mark_line(color=\"green\")\n",
        "    .encode(x=\"year:O\",\n",
        "            y=alt.Y(\"Life Ladder\",scale=alt.Scale(domain=[6, 9]), title=\"Happiness (green)\")\n",
        "    )\n",
        ")\n",
        "\n",
        "chart_gdp = (\n",
        "    alt.Chart(top10GDP)\n",
        "    .mark_line()\n",
        "    .encode(x=\"year:O\",\n",
        "            y=alt.Y(\"Log GDP per capita\",scale=alt.Scale(domain=[10, 12]))\n",
        "    )\n",
        ")\n",
        "\n",
        "chart = chart_hap+chart_gdp\n",
        "chart = chart.add_selection(country_select).transform_filter(country_select)\n",
        "chart = chart.properties(width=600, height=400).resolve_scale(y = 'independent')\n",
        "chart"
      ],
      "execution_count": null,
      "outputs": []
    },
    {
      "cell_type": "code",
      "metadata": {
        "id": "mZT4M4fEcEdE"
      },
      "source": [
        "# dropdown filter\n",
        "countries = top10GDP[\"Country name\"].unique()\n",
        "country_dropdown = alt.binding_select(options=countries)\n",
        "country_select = alt.selection_single(\n",
        "    fields=[\"Country name\"],\n",
        "    bind=country_dropdown,\n",
        "    name=\"Country\",\n",
        ")\n",
        "\n",
        "# Create scatter plot\n",
        "chart_hap = (\n",
        "    alt.Chart(top10GDP)\n",
        "    .mark_line(color=\"green\")\n",
        "    .encode(x=\"year:O\",\n",
        "            y=alt.Y(\"Life Ladder\",scale=alt.Scale(domain=[6, 9]), title=\"Happiness (green)\")\n",
        "    )\n",
        ")\n",
        "\n",
        "chart_gdp = (\n",
        "    alt.Chart(top10GDP)\n",
        "    .mark_line()\n",
        "    .encode(x=\"year:O\",\n",
        "            y=alt.Y(\"Individuals (%) with Internet access\",scale=alt.Scale(domain=[70, 100]))\n",
        "    )\n",
        ")\n",
        "\n",
        "chart = chart_hap+chart_gdp\n",
        "chart = chart.add_selection(country_select).transform_filter(country_select)\n",
        "chart = chart.properties(width=600, height=400).resolve_scale(y = 'independent')\n",
        "chart"
      ],
      "execution_count": null,
      "outputs": []
    },
    {
      "cell_type": "code",
      "metadata": {
        "id": "Y83iS4QWZMzr"
      },
      "source": [
        "reg_data = top10GDP[['Log GDP per capita','Individuals (%) with Internet access']]\n",
        "reg_tgt = top10GDP['Life Ladder']\n",
        "OLS(reg_tgt,reg_data).fit().summary()"
      ],
      "execution_count": null,
      "outputs": []
    },
    {
      "cell_type": "code",
      "metadata": {
        "id": "895kqCAWjh1O"
      },
      "source": [
        "US_df = top10GDP.copy()\n",
        "US_df = US_df[US_df[\"Country name\"]==\"United States\"]\n",
        "reg_data = US_df[['Log GDP per capita','Individuals (%) with Internet access']]\n",
        "reg_tgt = US_df['Life Ladder']\n",
        "OLS(reg_tgt,reg_data).fit().summary()"
      ],
      "execution_count": null,
      "outputs": []
    },
    {
      "cell_type": "code",
      "metadata": {
        "id": "yU8mXbpMdxPA"
      },
      "source": [
        "#correlation matrix\n",
        "corr = top10GDP.copy()\n",
        "corr.drop(\"year\", inplace=True, axis=1)\n",
        "corr = corr.corr(method ='pearson')\n",
        "corr"
      ],
      "execution_count": null,
      "outputs": []
    },
    {
      "cell_type": "code",
      "metadata": {
        "id": "lOwqYeyufii1"
      },
      "source": [
        "index_vals = top10GDP['year'].astype('category').cat.codes\n",
        "fig = go.Figure(data=go.Splom(\n",
        "                dimensions=[dict(label='Happiness',\n",
        "                                 values=top10GDP['Life Ladder']),\n",
        "                            dict(label='GDP',\n",
        "                                 values=top10GDP['Log GDP per capita']),\n",
        "                            dict(label='Social support',\n",
        "                                 values=top10GDP['Social support']),\n",
        "                            dict(label='Life expectancy',\n",
        "                                 values=top10GDP['Healthy life expectancy at birth']),\n",
        "                            dict(label='Freedom',\n",
        "                                 values=top10GDP['Freedom to make life choices']),\n",
        "                            dict(label='Generosity',\n",
        "                                 values=top10GDP['Generosity']),\n",
        "                            dict(label='Corruption',\n",
        "                                 values=top10GDP['Perceptions of corruption']),\n",
        "                            dict(label='Positive',\n",
        "                                 values=top10GDP['Positive affect']),\n",
        "                            dict(label='Negative',\n",
        "                                 values=top10GDP['Negative affect']),\n",
        "                            dict(label='Internet access',\n",
        "                                 values=top10GDP['Individuals (%) with Internet access'])],\n",
        "                diagonal_visible=False, # remove plots on diagonal\n",
        "                text=top10GDP['year'],\n",
        "                marker=dict(color=index_vals,\n",
        "                            showscale=True, # colors encode categorical variables\n",
        "                            line_color='white', line_width=0.5)\n",
        "                ))\n",
        "\n",
        "fig.update_layout(\n",
        "    title='SPLOM full dataset',\n",
        "    autosize=False,\n",
        "    width=1200,\n",
        "    height=1400,\n",
        ")\n",
        "\n",
        "fig.show()"
      ],
      "execution_count": null,
      "outputs": []
    },
    {
      "cell_type": "code",
      "metadata": {
        "id": "t-FwgJKWZcYZ"
      },
      "source": [
        "corrMatrix = top10GDP.drop(\"year\", axis=1).corr().reset_index().melt('index')\n",
        "corrMatrix.columns = ['var1', 'var2', 'correlation']\n",
        "\n",
        "base = alt.Chart(corrMatrix).transform_filter(\n",
        "    alt.datum.var1 < alt.datum.var2\n",
        ").encode(\n",
        "    x='var1',\n",
        "    y='var2',\n",
        ").properties(\n",
        "    width=alt.Step(50),\n",
        "    height=alt.Step(50)\n",
        ")\n",
        "\n",
        "rects = base.mark_rect().encode(\n",
        "    color='correlation'\n",
        ")\n",
        "\n",
        "text = base.mark_text(\n",
        "    size=15\n",
        ").encode(\n",
        "    text=alt.Text('correlation', format=\".2f\"),\n",
        "    color=alt.condition(\n",
        "        \"datum.correlation > 0.5\",\n",
        "        alt.value('white'),\n",
        "        alt.value('black')\n",
        "    )\n",
        ")\n",
        "\n",
        "corrmatrix = rects + text\n",
        "corrmatrix"
      ],
      "execution_count": null,
      "outputs": []
    },
    {
      "cell_type": "markdown",
      "metadata": {
        "id": "xuYCVOPFg273"
      },
      "source": [
        "## Top10 Low GDP Variance"
      ]
    },
    {
      "cell_type": "code",
      "metadata": {
        "id": "cvravyJXg2Zr"
      },
      "source": [
        "vargdp = merged_data.copy()\n",
        "vargdp = vargdp.groupby(\"Country name\")[\"Log GDP per capita\"].agg(['min', 'max'])\n",
        "vargdp[\"variance\"] = vargdp[\"max\"] - vargdp[\"min\"]\n",
        "stable20countries = vargdp[\"variance\"].copy()\n",
        "stable20countries.sort_values(ascending=True, inplace=True)\n",
        "stable20countries = list(stable20countries[:20].index)\n",
        "stable20countries"
      ],
      "execution_count": null,
      "outputs": []
    },
    {
      "cell_type": "code",
      "metadata": {
        "id": "T4kpFHLkKwLX"
      },
      "source": [
        "Stable20GDP = merged_data[merged_data[\"Country name\"].isin(stable20countries)].copy()\n",
        "Stable20GDP.head()"
      ],
      "execution_count": null,
      "outputs": []
    },
    {
      "cell_type": "code",
      "metadata": {
        "id": "Oq9ixEuuK98N"
      },
      "source": [
        "hap_graph = alt.Chart(top10GDP).mark_line().encode(\n",
        "      x=\"year:O\",\n",
        "      y=alt.Y(\"Life Ladder\",scale=alt.Scale(domain=[5.5, 8])),\n",
        "      color=\"Country name\"\n",
        ").properties(width=600, height=500)\n",
        "hap_graph"
      ],
      "execution_count": null,
      "outputs": []
    },
    {
      "cell_type": "code",
      "metadata": {
        "id": "KwMcT2-JK_Us"
      },
      "source": [
        "bb_graph = alt.Chart(top10GDP).mark_line().encode(\n",
        "      x=\"year:O\",\n",
        "      y=alt.Y(\"Individuals (%) with Internet access\",scale=alt.Scale(domain=[65, 100])),\n",
        "      color=\"Country name\"\n",
        ").properties(width=600, height=500)\n",
        "bb_graph"
      ],
      "execution_count": null,
      "outputs": []
    },
    {
      "cell_type": "code",
      "metadata": {
        "id": "brYnk9lbK_s7"
      },
      "source": [
        "corrMatrix = Stable20GDP.drop(\"year\", axis=1).corr().reset_index().melt('index')\n",
        "corrMatrix.columns = ['var1', 'var2', 'correlation']\n",
        "\n",
        "base = alt.Chart(corrMatrix).transform_filter(\n",
        "    alt.datum.var1 < alt.datum.var2\n",
        ").encode(\n",
        "    x='var1',\n",
        "    y='var2',\n",
        ").properties(\n",
        "    width=alt.Step(50),\n",
        "    height=alt.Step(50)\n",
        ")\n",
        "\n",
        "rects = base.mark_rect().encode(\n",
        "    color='correlation'\n",
        ")\n",
        "\n",
        "text = base.mark_text(\n",
        "    size=15\n",
        ").encode(\n",
        "    text=alt.Text('correlation', format=\".2f\"),\n",
        "    color=alt.condition(\n",
        "        \"datum.correlation > 0.5\",\n",
        "        alt.value('white'),\n",
        "        alt.value('black')\n",
        "    )\n",
        ")\n",
        "\n",
        "corrmatrix = rects + text\n",
        "corrmatrix"
      ],
      "execution_count": null,
      "outputs": []
    },
    {
      "cell_type": "code",
      "metadata": {
        "id": "tB5ga0FqMMsq"
      },
      "source": [
        "reg_data = Stable20GDP[['Individuals (%) with Internet access']]\n",
        "reg_tgt = Stable20GDP['Life Ladder']\n",
        "OLS(reg_tgt,reg_data).fit().summary()"
      ],
      "execution_count": null,
      "outputs": []
    },
    {
      "cell_type": "markdown",
      "metadata": {
        "id": "iAJGF66TfF7b"
      },
      "source": [
        "## Bottom 10 GDP Countries"
      ]
    },
    {
      "cell_type": "code",
      "metadata": {
        "id": "1bxudGCJfF7h"
      },
      "source": [
        "totalgdp = merged_data[merged_data[\"year\"]==2019].copy()\n",
        "totalgdp.set_index(\"Country name\", inplace=True)\n",
        "totalgdp = totalgdp[\"Log GDP per capita\"].copy()\n",
        "totalgdp.sort_values(ascending=True, inplace=True)\n",
        "bottom10GDPcountries = list(totalgdp[:10].index)\n",
        "bottom10GDP = merged_data[merged_data[\"Country name\"].isin(bottom10GDPcountries)].copy()\n",
        "bottom10GDP.head()"
      ],
      "execution_count": null,
      "outputs": []
    },
    {
      "cell_type": "code",
      "metadata": {
        "id": "JxAUDu57fF7h"
      },
      "source": [
        "gdp_graph = alt.Chart(bottom10GDP).mark_line().encode(\n",
        "      x=\"year:O\",\n",
        "      y=alt.Y(\"Log GDP per capita\",scale=alt.Scale(domain=[6.5, 8])),\n",
        "      color=\"Country name\"\n",
        ").properties(width=600, height=500)\n",
        "gdp_graph"
      ],
      "execution_count": null,
      "outputs": []
    },
    {
      "cell_type": "code",
      "metadata": {
        "colab": {
          "background_save": true
        },
        "id": "rlWPTCnWfF7h",
        "outputId": "be2bceb4-48c1-4b3e-a916-427b998f1b9f"
      },
      "source": [
        "# dropdown filter\n",
        "countries = bottom10GDP[\"Country name\"].unique()\n",
        "country_dropdown = alt.binding_select(options=countries)\n",
        "country_select = alt.selection_single(\n",
        "    fields=[\"Country name\"],\n",
        "    bind=country_dropdown,\n",
        "    name=\"Country\",\n",
        ")\n",
        "\n",
        "# Create scatter plot\n",
        "chart_hap = (\n",
        "    alt.Chart(bottom10GDP)\n",
        "    .mark_line(color=\"green\")\n",
        "    .encode(x=\"year:O\",\n",
        "            y=alt.Y(\"Life Ladder\",scale=alt.Scale(domain=[2, 6]), title=\"Happiness (green)\")\n",
        "    )\n",
        ")\n",
        "\n",
        "chart_gdp = (\n",
        "    alt.Chart(bottom10GDP)\n",
        "    .mark_line()\n",
        "    .encode(x=\"year:O\",\n",
        "            y=alt.Y(\"Log GDP per capita\",scale=alt.Scale(domain=[6.5, 8]))\n",
        "    )\n",
        ")\n",
        "\n",
        "chart = chart_hap+chart_gdp\n",
        "chart = chart.add_selection(country_select).transform_filter(country_select)\n",
        "chart = chart.properties(width=600, height=400).resolve_scale(y = 'independent')\n",
        "chart"
      ],
      "execution_count": null,
      "outputs": [
        {
          "output_type": "execute_result",
          "data": {
            "text/html": [
              "\n",
              "<div id=\"altair-viz-80a53aaa5837421b8fae8ab932e80ab0\"></div>\n",
              "<script type=\"text/javascript\">\n",
              "  (function(spec, embedOpt){\n",
              "    let outputDiv = document.currentScript.previousElementSibling;\n",
              "    if (outputDiv.id !== \"altair-viz-80a53aaa5837421b8fae8ab932e80ab0\") {\n",
              "      outputDiv = document.getElementById(\"altair-viz-80a53aaa5837421b8fae8ab932e80ab0\");\n",
              "    }\n",
              "    const paths = {\n",
              "      \"vega\": \"https://cdn.jsdelivr.net/npm//vega@5?noext\",\n",
              "      \"vega-lib\": \"https://cdn.jsdelivr.net/npm//vega-lib?noext\",\n",
              "      \"vega-lite\": \"https://cdn.jsdelivr.net/npm//vega-lite@4.8.1?noext\",\n",
              "      \"vega-embed\": \"https://cdn.jsdelivr.net/npm//vega-embed@6?noext\",\n",
              "    };\n",
              "\n",
              "    function loadScript(lib) {\n",
              "      return new Promise(function(resolve, reject) {\n",
              "        var s = document.createElement('script');\n",
              "        s.src = paths[lib];\n",
              "        s.async = true;\n",
              "        s.onload = () => resolve(paths[lib]);\n",
              "        s.onerror = () => reject(`Error loading script: ${paths[lib]}`);\n",
              "        document.getElementsByTagName(\"head\")[0].appendChild(s);\n",
              "      });\n",
              "    }\n",
              "\n",
              "    function showError(err) {\n",
              "      outputDiv.innerHTML = `<div class=\"error\" style=\"color:red;\">${err}</div>`;\n",
              "      throw err;\n",
              "    }\n",
              "\n",
              "    function displayChart(vegaEmbed) {\n",
              "      vegaEmbed(outputDiv, spec, embedOpt)\n",
              "        .catch(err => showError(`Javascript Error: ${err.message}<br>This usually means there's a typo in your chart specification. See the javascript console for the full traceback.`));\n",
              "    }\n",
              "\n",
              "    if(typeof define === \"function\" && define.amd) {\n",
              "      requirejs.config({paths});\n",
              "      require([\"vega-embed\"], displayChart, err => showError(`Error loading script: ${err.message}`));\n",
              "    } else if (typeof vegaEmbed === \"function\") {\n",
              "      displayChart(vegaEmbed);\n",
              "    } else {\n",
              "      loadScript(\"vega\")\n",
              "        .then(() => loadScript(\"vega-lite\"))\n",
              "        .then(() => loadScript(\"vega-embed\"))\n",
              "        .catch(showError)\n",
              "        .then(() => displayChart(vegaEmbed));\n",
              "    }\n",
              "  })({\"config\": {\"view\": {\"continuousWidth\": 400, \"continuousHeight\": 300}}, \"layer\": [{\"mark\": {\"type\": \"line\", \"color\": \"green\"}, \"encoding\": {\"x\": {\"type\": \"ordinal\", \"field\": \"year\"}, \"y\": {\"type\": \"quantitative\", \"field\": \"Life Ladder\", \"scale\": {\"domain\": [2, 6]}, \"title\": \"Happiness (green)\"}}, \"selection\": {\"Country\": {\"type\": \"single\", \"fields\": [\"Country name\"], \"bind\": {\"input\": \"select\", \"options\": [\"Burundi\", \"Central African Republic\", \"Chad\", \"Congo, Dem. Rep.\", \"Liberia\", \"Madagascar\", \"Malawi\", \"Mozambique\", \"Niger\", \"Togo\"]}}}}, {\"mark\": \"line\", \"encoding\": {\"x\": {\"type\": \"ordinal\", \"field\": \"year\"}, \"y\": {\"type\": \"quantitative\", \"field\": \"Log GDP per capita\", \"scale\": {\"domain\": [6.5, 8]}}}}], \"data\": {\"name\": \"data-2d4f042f9381ceb6350c6b97804787f5\"}, \"height\": 400, \"resolve\": {\"scale\": {\"y\": \"independent\"}}, \"transform\": [{\"filter\": {\"selection\": \"Country\"}}], \"width\": 600, \"$schema\": \"https://vega.github.io/schema/vega-lite/v4.8.1.json\", \"datasets\": {\"data-2d4f042f9381ceb6350c6b97804787f5\": [{\"Country name\": \"Burundi\", \"year\": 2011, \"Life Ladder\": 3.7058942317962646, \"Log GDP per capita\": 6.748176097869873, \"Social support\": 0.4222400188446045, \"Healthy life expectancy at birth\": 50.68000030517578, \"Freedom to make life choices\": 0.4898630380630493, \"Generosity\": -0.06243378669023514, \"Perceptions of corruption\": 0.6771076917648315, \"Positive affect\": 0.688906729221344, \"Negative affect\": 0.1903449445962906, \"Individuals (%) with Internet access\": 1.11}, {\"Country name\": \"Burundi\", \"year\": 2012, \"Life Ladder\": 3.7058942317962646, \"Log GDP per capita\": 6.748176097869873, \"Social support\": 0.4222400188446045, \"Healthy life expectancy at birth\": 50.68000030517578, \"Freedom to make life choices\": 0.4898630380630493, \"Generosity\": -0.06243378669023514, \"Perceptions of corruption\": 0.6771076917648315, \"Positive affect\": 0.688906729221344, \"Negative affect\": 0.1903449445962906, \"Individuals (%) with Internet access\": 1.219999945}, {\"Country name\": \"Burundi\", \"year\": 2013, \"Life Ladder\": 2.9045350551605225, \"Log GDP per capita\": 6.786983013153076, \"Social support\": 0.5646781325340271, \"Healthy life expectancy at birth\": 51.81999969482422, \"Freedom to make life choices\": 0.43138498067855835, \"Generosity\": -0.05879968777298927, \"Perceptions of corruption\": 0.8076188564300537, \"Positive affect\": 0.6556637287139893, \"Negative affect\": 0.25109463930130005, \"Individuals (%) with Internet access\": 1.264218111}, {\"Country name\": \"Burundi\", \"year\": 2014, \"Life Ladder\": 2.9045350551605225, \"Log GDP per capita\": 6.786983013153076, \"Social support\": 0.5646781325340271, \"Healthy life expectancy at birth\": 51.81999969482422, \"Freedom to make life choices\": 0.43138498067855835, \"Generosity\": -0.05879968777298927, \"Perceptions of corruption\": 0.8076188564300537, \"Positive affect\": 0.6556637287139893, \"Negative affect\": 0.25109463930130005, \"Individuals (%) with Internet access\": 1.38}, {\"Country name\": \"Burundi\", \"year\": 2015, \"Life Ladder\": 2.9045350551605225, \"Log GDP per capita\": 6.786983013153076, \"Social support\": 0.5646781325340271, \"Healthy life expectancy at birth\": 51.81999969482422, \"Freedom to make life choices\": 0.43138498067855835, \"Generosity\": -0.05879968777298927, \"Perceptions of corruption\": 0.8076188564300537, \"Positive affect\": 0.6556637287139893, \"Negative affect\": 0.25109463930130005, \"Individuals (%) with Internet access\": 4.866224464}, {\"Country name\": \"Burundi\", \"year\": 2016, \"Life Ladder\": 2.9045350551605225, \"Log GDP per capita\": 6.786983013153076, \"Social support\": 0.5646781325340271, \"Healthy life expectancy at birth\": 51.81999969482422, \"Freedom to make life choices\": 0.43138498067855835, \"Generosity\": -0.05879968777298927, \"Perceptions of corruption\": 0.8076188564300537, \"Positive affect\": 0.6556637287139893, \"Negative affect\": 0.25109463930130005, \"Individuals (%) with Internet access\": 5.173626777}, {\"Country name\": \"Burundi\", \"year\": 2017, \"Life Ladder\": 3.775283098220825, \"Log GDP per capita\": 6.635322093963623, \"Social support\": 0.48471522331237793, \"Healthy life expectancy at birth\": 53.400001525878906, \"Freedom to make life choices\": 0.6463986039161682, \"Generosity\": -0.023876165971159935, \"Perceptions of corruption\": 0.5986076593399048, \"Positive affect\": 0.6664415001869202, \"Negative affect\": 0.3627665936946869, \"Individuals (%) with Internet access\": 2.660748535}, {\"Country name\": \"Burundi\", \"year\": 2018, \"Life Ladder\": 3.775283098220825, \"Log GDP per capita\": 6.635322093963623, \"Social support\": 0.48471522331237793, \"Healthy life expectancy at birth\": 53.400001525878906, \"Freedom to make life choices\": 0.6463986039161682, \"Generosity\": -0.023876165971159935, \"Perceptions of corruption\": 0.5986076593399048, \"Positive affect\": 0.6664415001869202, \"Negative affect\": 0.3627665936946869, \"Individuals (%) with Internet access\": 2.660748535}, {\"Country name\": \"Burundi\", \"year\": 2019, \"Life Ladder\": 3.775283098220825, \"Log GDP per capita\": 6.635322093963623, \"Social support\": 0.48471522331237793, \"Healthy life expectancy at birth\": 53.400001525878906, \"Freedom to make life choices\": 0.6463986039161682, \"Generosity\": -0.023876165971159935, \"Perceptions of corruption\": 0.5986076593399048, \"Positive affect\": 0.6664415001869202, \"Negative affect\": 0.3627665936946869, \"Individuals (%) with Internet access\": 2.660748535}, {\"Country name\": \"Central African Republic\", \"year\": 2011, \"Life Ladder\": 3.677826404571533, \"Log GDP per capita\": 7.125054359436035, \"Social support\": 0.3873909115791321, \"Healthy life expectancy at birth\": 43.08000183105469, \"Freedom to make life choices\": 0.7800177931785583, \"Generosity\": -0.015844183042645454, \"Perceptions of corruption\": 0.8344988822937012, \"Positive affect\": 0.5240684747695923, \"Negative affect\": 0.27717992663383484, \"Individuals (%) with Internet access\": 2.2}, {\"Country name\": \"Central African Republic\", \"year\": 2012, \"Life Ladder\": 3.677826404571533, \"Log GDP per capita\": 7.125054359436035, \"Social support\": 0.3873909115791321, \"Healthy life expectancy at birth\": 43.08000183105469, \"Freedom to make life choices\": 0.7800177931785583, \"Generosity\": -0.015844183042645454, \"Perceptions of corruption\": 0.8344988822937012, \"Positive affect\": 0.5240684747695923, \"Negative affect\": 0.27717992663383484, \"Individuals (%) with Internet access\": 3.0}, {\"Country name\": \"Central African Republic\", \"year\": 2013, \"Life Ladder\": 3.677826404571533, \"Log GDP per capita\": 7.125054359436035, \"Social support\": 0.3873909115791321, \"Healthy life expectancy at birth\": 43.08000183105469, \"Freedom to make life choices\": 0.7800177931785583, \"Generosity\": -0.015844183042645454, \"Perceptions of corruption\": 0.8344988822937012, \"Positive affect\": 0.5240684747695923, \"Negative affect\": 0.27717992663383484, \"Individuals (%) with Internet access\": 3.4}, {\"Country name\": \"Central African Republic\", \"year\": 2014, \"Life Ladder\": 3.677826404571533, \"Log GDP per capita\": 7.125054359436035, \"Social support\": 0.3873909115791321, \"Healthy life expectancy at birth\": 43.08000183105469, \"Freedom to make life choices\": 0.7800177931785583, \"Generosity\": -0.015844183042645454, \"Perceptions of corruption\": 0.8344988822937012, \"Positive affect\": 0.5240684747695923, \"Negative affect\": 0.27717992663383484, \"Individuals (%) with Internet access\": 3.6}, {\"Country name\": \"Central African Republic\", \"year\": 2015, \"Life Ladder\": 2.693061113357544, \"Log GDP per capita\": 6.785016059875488, \"Social support\": 0.2901841700077057, \"Healthy life expectancy at birth\": 44.900001525878906, \"Freedom to make life choices\": 0.6240565180778503, \"Generosity\": 0.03262311965227127, \"Perceptions of corruption\": 0.8590730428695679, \"Positive affect\": 0.5786538124084473, \"Negative affect\": 0.4942680597305298, \"Individuals (%) with Internet access\": 3.8}, {\"Country name\": \"Central African Republic\", \"year\": 2016, \"Life Ladder\": 3.4758620262145996, \"Log GDP per capita\": 6.816519260406494, \"Social support\": 0.31958913803100586, \"Healthy life expectancy at birth\": 45.20000076293945, \"Freedom to make life choices\": 0.6452523469924927, \"Generosity\": 0.07278610020875931, \"Perceptions of corruption\": 0.8895660042762756, \"Positive affect\": 0.6138651967048645, \"Negative affect\": 0.5993354916572571, \"Individuals (%) with Internet access\": 4.0}, {\"Country name\": \"Central African Republic\", \"year\": 2017, \"Life Ladder\": 3.4758620262145996, \"Log GDP per capita\": 6.816519260406494, \"Social support\": 0.31958913803100586, \"Healthy life expectancy at birth\": 45.20000076293945, \"Freedom to make life choices\": 0.6452523469924927, \"Generosity\": 0.07278610020875931, \"Perceptions of corruption\": 0.8895660042762756, \"Positive affect\": 0.6138651967048645, \"Negative affect\": 0.5993354916572571, \"Individuals (%) with Internet access\": 4.339254945}, {\"Country name\": \"Central African Republic\", \"year\": 2018, \"Life Ladder\": 3.4758620262145996, \"Log GDP per capita\": 6.816519260406494, \"Social support\": 0.31958913803100586, \"Healthy life expectancy at birth\": 45.20000076293945, \"Freedom to make life choices\": 0.6452523469924927, \"Generosity\": 0.07278610020875931, \"Perceptions of corruption\": 0.8895660042762756, \"Positive affect\": 0.6138651967048645, \"Negative affect\": 0.5993354916572571, \"Individuals (%) with Internet access\": 4.339254945}, {\"Country name\": \"Central African Republic\", \"year\": 2019, \"Life Ladder\": 3.4758620262145996, \"Log GDP per capita\": 6.816519260406494, \"Social support\": 0.31958913803100586, \"Healthy life expectancy at birth\": 45.20000076293945, \"Freedom to make life choices\": 0.6452523469924927, \"Generosity\": 0.07278610020875931, \"Perceptions of corruption\": 0.8895660042762756, \"Positive affect\": 0.6138651967048645, \"Negative affect\": 0.5993354916572571, \"Individuals (%) with Internet access\": 4.339254945}, {\"Country name\": \"Chad\", \"year\": 2011, \"Life Ladder\": 4.032974720001221, \"Log GDP per capita\": 7.476016044616699, \"Social support\": 0.6728664636611938, \"Healthy life expectancy at birth\": 45.7400016784668, \"Freedom to make life choices\": 0.5629081130027771, \"Generosity\": -0.0340399406850338, \"Perceptions of corruption\": 0.884475827217102, \"Positive affect\": 0.5265463590621948, \"Negative affect\": 0.31574714183807373, \"Individuals (%) with Internet access\": 1.9}, {\"Country name\": \"Chad\", \"year\": 2012, \"Life Ladder\": 3.5076630115509033, \"Log GDP per capita\": 7.497941017150879, \"Social support\": 0.7141446471214294, \"Healthy life expectancy at birth\": 46.060001373291016, \"Freedom to make life choices\": 0.4882103502750397, \"Generosity\": -0.0454583466053009, \"Perceptions of corruption\": 0.8819723725318909, \"Positive affect\": 0.4615911841392517, \"Negative affect\": 0.31417423486709595, \"Individuals (%) with Internet access\": 2.1}, {\"Country name\": \"Chad\", \"year\": 2013, \"Life Ladder\": 3.4601829051971436, \"Log GDP per capita\": 7.531695365905762, \"Social support\": 0.7330667972564697, \"Healthy life expectancy at birth\": 46.380001068115234, \"Freedom to make life choices\": 0.5667953491210938, \"Generosity\": -0.06986323744058609, \"Perceptions of corruption\": 0.8809340000152588, \"Positive affect\": 0.5363712906837463, \"Negative affect\": 0.32852885127067566, \"Individuals (%) with Internet access\": 2.5}, {\"Country name\": \"Chad\", \"year\": 2014, \"Life Ladder\": 4.3226752281188965, \"Log GDP per capita\": 7.526775360107422, \"Social support\": 0.7512522339820862, \"Healthy life expectancy at birth\": 46.70000076293945, \"Freedom to make life choices\": 0.4743608832359314, \"Generosity\": -0.02865956537425518, \"Perceptions of corruption\": 0.8886393904685974, \"Positive affect\": 0.6066826581954956, \"Negative affect\": 0.3584379255771637, \"Individuals (%) with Internet access\": 2.9}, {\"Country name\": \"Chad\", \"year\": 2015, \"Life Ladder\": 4.029350280761719, \"Log GDP per capita\": 7.43073844909668, \"Social support\": 0.6162048578262329, \"Healthy life expectancy at birth\": 47.20000076293945, \"Freedom to make life choices\": 0.52522212266922, \"Generosity\": 0.05205228552222252, \"Perceptions of corruption\": 0.8197888731956482, \"Positive affect\": 0.5824582576751709, \"Negative affect\": 0.46756675839424133, \"Individuals (%) with Internet access\": 3.5}, {\"Country name\": \"Chad\", \"year\": 2016, \"Life Ladder\": 4.558937072753906, \"Log GDP per capita\": 7.369620323181152, \"Social support\": 0.6606155633926392, \"Healthy life expectancy at birth\": 47.70000076293945, \"Freedom to make life choices\": 0.6148496866226196, \"Generosity\": 0.007875287905335426, \"Perceptions of corruption\": 0.7923899292945862, \"Positive affect\": 0.6275031566619873, \"Negative affect\": 0.538245439529419, \"Individuals (%) with Internet access\": 5.0}, {\"Country name\": \"Chad\", \"year\": 2017, \"Life Ladder\": 4.486325263977051, \"Log GDP per capita\": 7.362847328186035, \"Social support\": 0.5772535800933838, \"Healthy life expectancy at birth\": 48.20000076293945, \"Freedom to make life choices\": 0.6503545641899109, \"Generosity\": 0.02423730678856373, \"Perceptions of corruption\": 0.7628793120384216, \"Positive affect\": 0.552737295627594, \"Negative affect\": 0.543836236000061, \"Individuals (%) with Internet access\": 6.49999812}, {\"Country name\": \"Chad\", \"year\": 2018, \"Life Ladder\": 4.250799179077148, \"Log GDP per capita\": 7.364943981170654, \"Social support\": 0.6404520869255066, \"Healthy life expectancy at birth\": 48.70000076293945, \"Freedom to make life choices\": 0.5372456908226013, \"Generosity\": 0.05500093847513199, \"Perceptions of corruption\": 0.8322834968566895, \"Positive affect\": 0.5872111916542053, \"Negative affect\": 0.46006128191947937, \"Individuals (%) with Internet access\": 6.49999812}, {\"Country name\": \"Chad\", \"year\": 2019, \"Life Ladder\": 4.250799179077148, \"Log GDP per capita\": 7.364943981170654, \"Social support\": 0.6404520869255066, \"Healthy life expectancy at birth\": 48.70000076293945, \"Freedom to make life choices\": 0.5372456908226013, \"Generosity\": 0.05500093847513199, \"Perceptions of corruption\": 0.8322834968566895, \"Positive affect\": 0.5872111916542053, \"Negative affect\": 0.46006128191947937, \"Individuals (%) with Internet access\": 6.49999812}, {\"Country name\": \"Congo, Dem. Rep.\", \"year\": 2011, \"Life Ladder\": 4.639227390289307, \"Log GDP per capita\": 6.831724643707275, \"Social support\": 0.7695459723472595, \"Healthy life expectancy at birth\": 50.779998779296875, \"Freedom to make life choices\": 0.5572862029075623, \"Generosity\": -0.03452160581946373, \"Perceptions of corruption\": 0.8074066042900085, \"Positive affect\": 0.6340030431747437, \"Negative affect\": 0.22965137660503387, \"Individuals (%) with Internet access\": 1.2}, {\"Country name\": \"Congo, Dem. Rep.\", \"year\": 2012, \"Life Ladder\": 4.497477054595947, \"Log GDP per capita\": 6.879824638366699, \"Social support\": 0.8298520445823669, \"Healthy life expectancy at birth\": 51.220001220703125, \"Freedom to make life choices\": 0.4803941547870636, \"Generosity\": 0.012176308780908585, \"Perceptions of corruption\": 0.9129915237426758, \"Positive affect\": 0.5891684889793396, \"Negative affect\": 0.18709465861320496, \"Individuals (%) with Internet access\": 1.679961015}, {\"Country name\": \"Congo, Dem. Rep.\", \"year\": 2013, \"Life Ladder\": 4.414299964904785, \"Log GDP per capita\": 6.937110900878906, \"Social support\": 0.822286069393158, \"Healthy life expectancy at birth\": 51.65999984741211, \"Freedom to make life choices\": 0.5560992956161499, \"Generosity\": 0.00918725598603487, \"Perceptions of corruption\": 0.8136759996414185, \"Positive affect\": 0.558870255947113, \"Negative affect\": 0.30463507771492004, \"Individuals (%) with Internet access\": 2.2}, {\"Country name\": \"Congo, Dem. Rep.\", \"year\": 2014, \"Life Ladder\": 3.9027416706085205, \"Log GDP per capita\": 6.9709577560424805, \"Social support\": 0.7672355771064758, \"Healthy life expectancy at birth\": 52.099998474121094, \"Freedom to make life choices\": 0.5737637877464294, \"Generosity\": -0.04758510738611221, \"Perceptions of corruption\": 0.8663780093193054, \"Positive affect\": 0.5891307592391968, \"Negative affect\": 0.3010493814945221, \"Individuals (%) with Internet access\": 3.0}, {\"Country name\": \"Congo, Dem. Rep.\", \"year\": 2015, \"Life Ladder\": 4.52193546295166, \"Log GDP per capita\": 6.961839199066162, \"Social support\": 0.8641545176506042, \"Healthy life expectancy at birth\": 52.5, \"Freedom to make life choices\": 0.6373667120933533, \"Generosity\": -0.024395395070314407, \"Perceptions of corruption\": 0.8749996423721313, \"Positive affect\": 0.6462695002555847, \"Negative affect\": 0.22241148352622986, \"Individuals (%) with Internet access\": 3.799999507}, {\"Country name\": \"Congo, Dem. Rep.\", \"year\": 2016, \"Life Ladder\": 4.311033248901367, \"Log GDP per capita\": 6.965845584869385, \"Social support\": 0.6696884036064148, \"Healthy life expectancy at birth\": 52.900001525878906, \"Freedom to make life choices\": 0.704239547252655, \"Generosity\": 0.06837817281484604, \"Perceptions of corruption\": 0.8091818690299988, \"Positive affect\": 0.5505259037017822, \"Negative affect\": 0.40426206588745117, \"Individuals (%) with Internet access\": 6.20997406}, {\"Country name\": \"Congo, Dem. Rep.\", \"year\": 2017, \"Life Ladder\": 4.311033248901367, \"Log GDP per capita\": 6.965845584869385, \"Social support\": 0.6696884036064148, \"Healthy life expectancy at birth\": 52.900001525878906, \"Freedom to make life choices\": 0.704239547252655, \"Generosity\": 0.06837817281484604, \"Perceptions of corruption\": 0.8091818690299988, \"Positive affect\": 0.5505259037017822, \"Negative affect\": 0.40426206588745117, \"Individuals (%) with Internet access\": 8.619904916}, {\"Country name\": \"Congo, Dem. Rep.\", \"year\": 2018, \"Life Ladder\": 4.311033248901367, \"Log GDP per capita\": 6.965845584869385, \"Social support\": 0.6696884036064148, \"Healthy life expectancy at birth\": 52.900001525878906, \"Freedom to make life choices\": 0.704239547252655, \"Generosity\": 0.06837817281484604, \"Perceptions of corruption\": 0.8091818690299988, \"Positive affect\": 0.5505259037017822, \"Negative affect\": 0.40426206588745117, \"Individuals (%) with Internet access\": 8.619904916}, {\"Country name\": \"Congo, Dem. Rep.\", \"year\": 2019, \"Life Ladder\": 4.311033248901367, \"Log GDP per capita\": 6.965845584869385, \"Social support\": 0.6696884036064148, \"Healthy life expectancy at birth\": 52.900001525878906, \"Freedom to make life choices\": 0.704239547252655, \"Generosity\": 0.06837817281484604, \"Perceptions of corruption\": 0.8091818690299988, \"Positive affect\": 0.5505259037017822, \"Negative affect\": 0.40426206588745117, \"Individuals (%) with Internet access\": 8.619904916}, {\"Country name\": \"Liberia\", \"year\": 2011, \"Life Ladder\": 4.5714192390441895, \"Log GDP per capita\": 7.391011714935303, \"Social support\": 0.7083017826080322, \"Healthy life expectancy at birth\": 53.279998779296875, \"Freedom to make life choices\": 0.5904508829116821, \"Generosity\": -0.029853735119104385, \"Perceptions of corruption\": 0.868966281414032, \"Positive affect\": 0.5428492426872253, \"Negative affect\": 0.44285961985588074, \"Individuals (%) with Internet access\": 2.5}, {\"Country name\": \"Liberia\", \"year\": 2012, \"Life Ladder\": 4.5714192390441895, \"Log GDP per capita\": 7.391011714935303, \"Social support\": 0.7083017826080322, \"Healthy life expectancy at birth\": 53.279998779296875, \"Freedom to make life choices\": 0.5904508829116821, \"Generosity\": -0.029853735119104385, \"Perceptions of corruption\": 0.868966281414032, \"Positive affect\": 0.5428492426872253, \"Negative affect\": 0.44285961985588074, \"Individuals (%) with Internet access\": 2.6}, {\"Country name\": \"Liberia\", \"year\": 2013, \"Life Ladder\": 4.5714192390441895, \"Log GDP per capita\": 7.391011714935303, \"Social support\": 0.7083017826080322, \"Healthy life expectancy at birth\": 53.279998779296875, \"Freedom to make life choices\": 0.5904508829116821, \"Generosity\": -0.029853735119104385, \"Perceptions of corruption\": 0.868966281414032, \"Positive affect\": 0.5428492426872253, \"Negative affect\": 0.44285961985588074, \"Individuals (%) with Internet access\": 3.2}, {\"Country name\": \"Liberia\", \"year\": 2014, \"Life Ladder\": 2.7015912532806396, \"Log GDP per capita\": 7.365483283996582, \"Social support\": 0.6376659870147705, \"Healthy life expectancy at birth\": 53.70000076293945, \"Freedom to make life choices\": 0.6714308857917786, \"Generosity\": -0.06149032339453697, \"Perceptions of corruption\": 0.9026726484298706, \"Positive affect\": 0.5050674080848694, \"Negative affect\": 0.38848862051963806, \"Individuals (%) with Internet access\": 5.41}, {\"Country name\": \"Liberia\", \"year\": 2015, \"Life Ladder\": 3.3546760082244873, \"Log GDP per capita\": 7.324065208435059, \"Social support\": 0.6426146030426025, \"Healthy life expectancy at birth\": 54.5, \"Freedom to make life choices\": 0.7634760141372681, \"Generosity\": 0.03305376321077347, \"Perceptions of corruption\": 0.9012674689292908, \"Positive affect\": 0.6355275511741638, \"Negative affect\": 0.5090466737747192, \"Individuals (%) with Internet access\": 33.0}, {\"Country name\": \"Liberia\", \"year\": 2016, \"Life Ladder\": 4.424490928649902, \"Log GDP per capita\": 7.32359504699707, \"Social support\": 0.6848668456077576, \"Healthy life expectancy at birth\": 55.29999923706055, \"Freedom to make life choices\": 0.7333899140357971, \"Generosity\": -0.012056075036525726, \"Perceptions of corruption\": 0.8668063879013062, \"Positive affect\": 0.667946457862854, \"Negative affect\": 0.3913305401802063, \"Individuals (%) with Internet access\": 7.319106411}, {\"Country name\": \"Liberia\", \"year\": 2017, \"Life Ladder\": 4.134852886199951, \"Log GDP per capita\": 7.311221599578857, \"Social support\": 0.7267501354217529, \"Healthy life expectancy at birth\": 56.099998474121094, \"Freedom to make life choices\": 0.7657695412635803, \"Generosity\": 0.049856483936309814, \"Perceptions of corruption\": 0.8679240942001343, \"Positive affect\": 0.6597315669059753, \"Negative affect\": 0.43609949946403503, \"Individuals (%) with Internet access\": 7.984479722}, {\"Country name\": \"Liberia\", \"year\": 2018, \"Life Ladder\": 5.121460914611816, \"Log GDP per capita\": 7.263903617858887, \"Social support\": 0.7124737501144409, \"Healthy life expectancy at birth\": 56.900001525878906, \"Freedom to make life choices\": 0.7058745622634888, \"Generosity\": 0.050611626356840134, \"Perceptions of corruption\": 0.8284689784049988, \"Positive affect\": 0.635608971118927, \"Negative affect\": 0.3891325891017914, \"Individuals (%) with Internet access\": 7.984479722}, {\"Country name\": \"Liberia\", \"year\": 2019, \"Life Ladder\": 5.121460914611816, \"Log GDP per capita\": 7.263903617858887, \"Social support\": 0.7124737501144409, \"Healthy life expectancy at birth\": 56.900001525878906, \"Freedom to make life choices\": 0.7058745622634888, \"Generosity\": 0.050611626356840134, \"Perceptions of corruption\": 0.8284689784049988, \"Positive affect\": 0.635608971118927, \"Negative affect\": 0.3891325891017914, \"Individuals (%) with Internet access\": 7.984479722}, {\"Country name\": \"Madagascar\", \"year\": 2011, \"Life Ladder\": 3.550609588623047, \"Log GDP per capita\": 7.338573932647705, \"Social support\": 0.6730883121490479, \"Healthy life expectancy at birth\": 56.63999938964844, \"Freedom to make life choices\": 0.48700788617134094, \"Generosity\": -0.054980259388685226, \"Perceptions of corruption\": 0.8535904884338379, \"Positive affect\": 0.689855694770813, \"Negative affect\": 0.19397741556167603, \"Individuals (%) with Internet access\": 1.9}, {\"Country name\": \"Madagascar\", \"year\": 2012, \"Life Ladder\": 3.8156070709228516, \"Log GDP per capita\": 7.3341851234436035, \"Social support\": 0.6725467443466187, \"Healthy life expectancy at birth\": 57.060001373291016, \"Freedom to make life choices\": 0.47955039143562317, \"Generosity\": -0.018502252176404, \"Perceptions of corruption\": 0.8677076697349548, \"Positive affect\": 0.7343156933784485, \"Negative affect\": 0.24123084545135498, \"Individuals (%) with Internet access\": 2.3}, {\"Country name\": \"Madagascar\", \"year\": 2013, \"Life Ladder\": 3.6756269931793213, \"Log GDP per capita\": 7.34002161026001, \"Social support\": 0.6552141308784485, \"Healthy life expectancy at birth\": 57.47999954223633, \"Freedom to make life choices\": 0.5288050174713135, \"Generosity\": -0.023182135075330734, \"Perceptions of corruption\": 0.7910556197166443, \"Positive affect\": 0.747616171836853, \"Negative affect\": 0.1921817511320114, \"Individuals (%) with Internet access\": 3.0}, {\"Country name\": \"Madagascar\", \"year\": 2014, \"Life Ladder\": 3.5925140380859375, \"Log GDP per capita\": 7.343921661376953, \"Social support\": 0.6467165350914001, \"Healthy life expectancy at birth\": 57.900001525878906, \"Freedom to make life choices\": 0.5447536110877991, \"Generosity\": -0.04082195833325386, \"Perceptions of corruption\": 0.8609533905982971, \"Positive affect\": 0.8017588257789612, \"Negative affect\": 0.22624345123767853, \"Individuals (%) with Internet access\": 3.7}, {\"Country name\": \"Madagascar\", \"year\": 2015, \"Life Ladder\": 3.6630859375, \"Log GDP per capita\": 7.356194972991943, \"Social support\": 0.7464969754219055, \"Healthy life expectancy at birth\": 58.29999923706055, \"Freedom to make life choices\": 0.5696454048156738, \"Generosity\": -0.06898024678230286, \"Perceptions of corruption\": 0.8641711473464966, \"Positive affect\": 0.8131913542747498, \"Negative affect\": 0.20425541698932648, \"Individuals (%) with Internet access\": 4.17397219}, {\"Country name\": \"Madagascar\", \"year\": 2016, \"Life Ladder\": 4.078620433807373, \"Log GDP per capita\": 7.367975234985352, \"Social support\": 0.6263319849967957, \"Healthy life expectancy at birth\": 58.70000076293945, \"Freedom to make life choices\": 0.5703479051589966, \"Generosity\": -0.03329531475901604, \"Perceptions of corruption\": 0.8472607731819153, \"Positive affect\": 0.7516980767250061, \"Negative affect\": 0.3748380243778229, \"Individuals (%) with Internet access\": 4.713662899}, {\"Country name\": \"Madagascar\", \"year\": 2017, \"Life Ladder\": 4.070586681365967, \"Log GDP per capita\": 7.385915756225586, \"Social support\": 0.6655129790306091, \"Healthy life expectancy at birth\": 59.099998474121094, \"Freedom to make life choices\": 0.551473081111908, \"Generosity\": 0.0025956102181226015, \"Perceptions of corruption\": 0.8891456723213196, \"Positive affect\": 0.7523410320281982, \"Negative affect\": 0.3620138168334961, \"Individuals (%) with Internet access\": 4.713662899}, {\"Country name\": \"Madagascar\", \"year\": 2018, \"Life Ladder\": 4.33908748626709, \"Log GDP per capita\": 7.4062371253967285, \"Social support\": 0.7006101012229919, \"Healthy life expectancy at birth\": 59.5, \"Freedom to make life choices\": 0.5495352149009705, \"Generosity\": -0.012468654662370682, \"Perceptions of corruption\": 0.7199826836585999, \"Positive affect\": 0.7231946587562561, \"Negative affect\": 0.3039596676826477, \"Individuals (%) with Internet access\": 4.713662899}, {\"Country name\": \"Madagascar\", \"year\": 2019, \"Life Ladder\": 4.33908748626709, \"Log GDP per capita\": 7.4062371253967285, \"Social support\": 0.7006101012229919, \"Healthy life expectancy at birth\": 59.5, \"Freedom to make life choices\": 0.5495352149009705, \"Generosity\": -0.012468654662370682, \"Perceptions of corruption\": 0.7199826836585999, \"Positive affect\": 0.7231946587562561, \"Negative affect\": 0.3039596676826477, \"Individuals (%) with Internet access\": 4.713662899}, {\"Country name\": \"Malawi\", \"year\": 2011, \"Life Ladder\": 4.279269695281982, \"Log GDP per capita\": 6.8848876953125, \"Social support\": 0.6037256717681885, \"Healthy life expectancy at birth\": 52.439998626708984, \"Freedom to make life choices\": 0.6373627185821533, \"Generosity\": 0.16919554769992828, \"Perceptions of corruption\": 0.8857849836349487, \"Positive affect\": 0.8156164288520813, \"Negative affect\": 0.2004629224538803, \"Individuals (%) with Internet access\": 3.33}, {\"Country name\": \"Malawi\", \"year\": 2012, \"Life Ladder\": 4.035084247589111, \"Log GDP per capita\": 6.907196521759033, \"Social support\": 0.5631615519523621, \"Healthy life expectancy at birth\": 53.459999084472656, \"Freedom to make life choices\": 0.7519952654838562, \"Generosity\": 0.07846467196941376, \"Perceptions of corruption\": 0.856666088104248, \"Positive affect\": 0.8084574341773987, \"Negative affect\": 0.2478286772966385, \"Individuals (%) with Internet access\": 4.3506}, {\"Country name\": \"Malawi\", \"year\": 2013, \"Life Ladder\": 4.563080310821533, \"Log GDP per capita\": 6.934600353240967, \"Social support\": 0.5116161108016968, \"Healthy life expectancy at birth\": 54.47999954223633, \"Freedom to make life choices\": 0.7857667207717896, \"Generosity\": 0.061088211834430695, \"Perceptions of corruption\": 0.8240178823471069, \"Positive affect\": 0.7037450671195984, \"Negative affect\": 0.26271340250968933, \"Individuals (%) with Internet access\": 5.05}, {\"Country name\": \"Malawi\", \"year\": 2014, \"Life Ladder\": 3.867638349533081, \"Log GDP per capita\": 6.9346208572387695, \"Social support\": 0.4943816363811493, \"Healthy life expectancy at birth\": 55.5, \"Freedom to make life choices\": 0.8013907074928284, \"Generosity\": 0.05806805565953255, \"Perceptions of corruption\": 0.8348253965377808, \"Positive affect\": 0.6326212882995605, \"Negative affect\": 0.2597639560699463, \"Individuals (%) with Internet access\": 5.83}, {\"Country name\": \"Malawi\", \"year\": 2015, \"Life Ladder\": 3.4764926433563232, \"Log GDP per capita\": 6.932058811187744, \"Social support\": 0.5242996215820312, \"Healthy life expectancy at birth\": 56.20000076293945, \"Freedom to make life choices\": 0.8098841309547424, \"Generosity\": 0.06585712730884552, \"Perceptions of corruption\": 0.8236150145530701, \"Positive affect\": 0.6031045913696289, \"Negative affect\": 0.32473891973495483, \"Individuals (%) with Internet access\": 5.3}, {\"Country name\": \"Malawi\", \"year\": 2016, \"Life Ladder\": 3.416862964630127, \"Log GDP per capita\": 6.944613456726074, \"Social support\": 0.5554227232933044, \"Healthy life expectancy at birth\": 56.900001525878906, \"Freedom to make life choices\": 0.8479207754135132, \"Generosity\": 0.02489175647497177, \"Perceptions of corruption\": 0.7346366047859192, \"Positive affect\": 0.6086665391921997, \"Negative affect\": 0.31208834052085876, \"Individuals (%) with Internet access\": 11.4708908}, {\"Country name\": \"Malawi\", \"year\": 2017, \"Life Ladder\": 3.3346335887908936, \"Log GDP per capita\": 6.949402332305908, \"Social support\": 0.5278434753417969, \"Healthy life expectancy at birth\": 57.599998474121094, \"Freedom to make life choices\": 0.7989151477813721, \"Generosity\": 0.07271962612867355, \"Perceptions of corruption\": 0.7659637928009033, \"Positive affect\": 0.5863004326820374, \"Negative affect\": 0.3648940324783325, \"Individuals (%) with Internet access\": 13.78216439}, {\"Country name\": \"Malawi\", \"year\": 2018, \"Life Ladder\": 3.869123697280884, \"Log GDP per capita\": 6.965763092041016, \"Social support\": 0.5489560961723328, \"Healthy life expectancy at birth\": 58.29999923706055, \"Freedom to make life choices\": 0.7648642063140869, \"Generosity\": 0.003596819471567869, \"Perceptions of corruption\": 0.680247962474823, \"Positive affect\": 0.5366970300674438, \"Negative affect\": 0.348162442445755, \"Individuals (%) with Internet access\": 13.78216439}, {\"Country name\": \"Malawi\", \"year\": 2019, \"Life Ladder\": 3.869123697280884, \"Log GDP per capita\": 6.965763092041016, \"Social support\": 0.5489560961723328, \"Healthy life expectancy at birth\": 58.29999923706055, \"Freedom to make life choices\": 0.7648642063140869, \"Generosity\": 0.003596819471567869, \"Perceptions of corruption\": 0.680247962474823, \"Positive affect\": 0.5366970300674438, \"Negative affect\": 0.348162442445755, \"Individuals (%) with Internet access\": 13.78216439}, {\"Country name\": \"Mozambique\", \"year\": 2011, \"Life Ladder\": 4.97111177444458, \"Log GDP per capita\": 6.978659629821777, \"Social support\": 0.817624568939209, \"Healthy life expectancy at birth\": 48.31999969482422, \"Freedom to make life choices\": 0.6392068266868591, \"Generosity\": -0.024201253429055214, \"Perceptions of corruption\": 0.7187589406967163, \"Positive affect\": 0.5920061469078064, \"Negative affect\": 0.24341605603694916, \"Individuals (%) with Internet access\": 4.3}, {\"Country name\": \"Mozambique\", \"year\": 2012, \"Life Ladder\": 4.97111177444458, \"Log GDP per capita\": 6.978659629821777, \"Social support\": 0.817624568939209, \"Healthy life expectancy at birth\": 48.31999969482422, \"Freedom to make life choices\": 0.6392068266868591, \"Generosity\": -0.024201253429055214, \"Perceptions of corruption\": 0.7187589406967163, \"Positive affect\": 0.5920061469078064, \"Negative affect\": 0.24341605603694916, \"Individuals (%) with Internet access\": 6.0}, {\"Country name\": \"Mozambique\", \"year\": 2013, \"Life Ladder\": 4.97111177444458, \"Log GDP per capita\": 6.978659629821777, \"Social support\": 0.817624568939209, \"Healthy life expectancy at birth\": 48.31999969482422, \"Freedom to make life choices\": 0.6392068266868591, \"Generosity\": -0.024201253429055214, \"Perceptions of corruption\": 0.7187589406967163, \"Positive affect\": 0.5920061469078064, \"Negative affect\": 0.24341605603694916, \"Individuals (%) with Internet access\": 7.29393733}, {\"Country name\": \"Mozambique\", \"year\": 2014, \"Life Ladder\": 4.54976749420166, \"Log GDP per capita\": 7.140938758850098, \"Social support\": 0.6658582091331482, \"Healthy life expectancy at birth\": 51.20000076293945, \"Freedom to make life choices\": 0.8132292628288269, \"Generosity\": 0.08872713893651962, \"Perceptions of corruption\": 0.631573498249054, \"Positive affect\": 0.5644606351852417, \"Negative affect\": 0.3395843505859375, \"Individuals (%) with Internet access\": 9.236314896}, {\"Country name\": \"Mozambique\", \"year\": 2015, \"Life Ladder\": 4.54976749420166, \"Log GDP per capita\": 7.140938758850098, \"Social support\": 0.6658582091331482, \"Healthy life expectancy at birth\": 51.20000076293945, \"Freedom to make life choices\": 0.8132292628288269, \"Generosity\": 0.08872713893651962, \"Perceptions of corruption\": 0.631573498249054, \"Positive affect\": 0.5644606351852417, \"Negative affect\": 0.3395843505859375, \"Individuals (%) with Internet access\": 16.93353299}, {\"Country name\": \"Mozambique\", \"year\": 2016, \"Life Ladder\": 4.279863357543945, \"Log GDP per capita\": 7.157470703125, \"Social support\": 0.6784636974334717, \"Healthy life expectancy at birth\": 53.20000076293945, \"Freedom to make life choices\": 0.8226705193519592, \"Generosity\": -0.029964828863739967, \"Perceptions of corruption\": 0.6821089386940002, \"Positive affect\": 0.6483814120292664, \"Negative affect\": 0.3531765043735504, \"Individuals (%) with Internet access\": 17.52123909}, {\"Country name\": \"Mozambique\", \"year\": 2017, \"Life Ladder\": 4.653713703155518, \"Log GDP per capita\": 7.16204309463501, \"Social support\": 0.7384804487228394, \"Healthy life expectancy at birth\": 54.20000076293945, \"Freedom to make life choices\": 0.896621584892273, \"Generosity\": 0.04856383055448532, \"Perceptions of corruption\": 0.6912204027175903, \"Positive affect\": 0.6396395564079285, \"Negative affect\": 0.39727872610092163, \"Individuals (%) with Internet access\": 20.7740003}, {\"Country name\": \"Mozambique\", \"year\": 2018, \"Life Ladder\": 4.932132720947266, \"Log GDP per capita\": 7.154966831207275, \"Social support\": 0.742303729057312, \"Healthy life expectancy at birth\": 55.20000076293945, \"Freedom to make life choices\": 0.8698102235794067, \"Generosity\": 0.07274501770734787, \"Perceptions of corruption\": 0.6819004416465759, \"Positive affect\": 0.5872747302055359, \"Negative affect\": 0.384122759103775, \"Individuals (%) with Internet access\": 20.7740003}, {\"Country name\": \"Mozambique\", \"year\": 2019, \"Life Ladder\": 4.932132720947266, \"Log GDP per capita\": 7.154966831207275, \"Social support\": 0.742303729057312, \"Healthy life expectancy at birth\": 55.20000076293945, \"Freedom to make life choices\": 0.8698102235794067, \"Generosity\": 0.07274501770734787, \"Perceptions of corruption\": 0.6819004416465759, \"Positive affect\": 0.5872747302055359, \"Negative affect\": 0.384122759103775, \"Individuals (%) with Internet access\": 20.7740003}, {\"Country name\": \"Niger\", \"year\": 2011, \"Life Ladder\": 3.798088312149048, \"Log GDP per capita\": 6.986891269683838, \"Social support\": 0.7001075744628906, \"Healthy life expectancy at birth\": 50.439998626708984, \"Freedom to make life choices\": 0.7344309091567993, \"Generosity\": -0.06350123137235641, \"Perceptions of corruption\": 0.7773408889770508, \"Positive affect\": 0.6025446653366089, \"Negative affect\": 0.14155304431915283, \"Individuals (%) with Internet access\": 0.9}, {\"Country name\": \"Niger\", \"year\": 2012, \"Life Ladder\": 3.71632981300354, \"Log GDP per capita\": 7.001982688903809, \"Social support\": 0.6958135962486267, \"Healthy life expectancy at birth\": 50.959999084472656, \"Freedom to make life choices\": 0.8253870606422424, \"Generosity\": -0.0774265006184578, \"Perceptions of corruption\": 0.7109634280204773, \"Positive affect\": 0.650200366973877, \"Negative affect\": 0.20813019573688507, \"Individuals (%) with Internet access\": 1.05}, {\"Country name\": \"Niger\", \"year\": 2013, \"Life Ladder\": 4.180943489074707, \"Log GDP per capita\": 7.0265631675720215, \"Social support\": 0.7525338530540466, \"Healthy life expectancy at birth\": 51.47999954223633, \"Freedom to make life choices\": 0.687634289264679, \"Generosity\": -0.04631692171096802, \"Perceptions of corruption\": 0.6047284603118896, \"Positive affect\": 0.6776120662689209, \"Negative affect\": 0.2046612799167633, \"Individuals (%) with Internet access\": 1.15}, {\"Country name\": \"Niger\", \"year\": 2014, \"Life Ladder\": 3.6714537143707275, \"Log GDP per capita\": 7.030498027801514, \"Social support\": 0.713019609451294, \"Healthy life expectancy at birth\": 52.0, \"Freedom to make life choices\": 0.7281283140182495, \"Generosity\": -0.03214083984494209, \"Perceptions of corruption\": 0.7025496959686279, \"Positive affect\": 0.6818726658821106, \"Negative affect\": 0.21842257678508759, \"Individuals (%) with Internet access\": 1.248675689}, {\"Country name\": \"Niger\", \"year\": 2015, \"Life Ladder\": 4.234645843505859, \"Log GDP per capita\": 7.047224044799805, \"Social support\": 0.6828282475471497, \"Healthy life expectancy at birth\": 52.5, \"Freedom to make life choices\": 0.7019273042678833, \"Generosity\": -0.015741674229502678, \"Perceptions of corruption\": 0.8144938945770264, \"Positive affect\": 0.6748589277267456, \"Negative affect\": 0.32544195652008057, \"Individuals (%) with Internet access\": 2.476219975}, {\"Country name\": \"Niger\", \"year\": 2016, \"Life Ladder\": 4.615673542022705, \"Log GDP per capita\": 7.057602882385254, \"Social support\": 0.5821095705032349, \"Healthy life expectancy at birth\": 53.0, \"Freedom to make life choices\": 0.6835575699806213, \"Generosity\": -0.030251333490014076, \"Perceptions of corruption\": 0.7776600122451782, \"Positive affect\": 0.7311614155769348, \"Negative affect\": 0.4265223741531372, \"Individuals (%) with Internet access\": 4.32275803}, {\"Country name\": \"Niger\", \"year\": 2017, \"Life Ladder\": 5.164007186889648, \"Log GDP per capita\": 7.087135314941406, \"Social support\": 0.6120256781578064, \"Healthy life expectancy at birth\": 53.5, \"Freedom to make life choices\": 0.7906656265258789, \"Generosity\": 0.008891422301530838, \"Perceptions of corruption\": 0.6371667981147766, \"Positive affect\": 0.7705576419830322, \"Negative affect\": 0.5025545358657837, \"Individuals (%) with Internet access\": 10.22431156}, {\"Country name\": \"Niger\", \"year\": 2018, \"Life Ladder\": 5.003544330596924, \"Log GDP per capita\": 7.105849266052246, \"Social support\": 0.6769587397575378, \"Healthy life expectancy at birth\": 54.0, \"Freedom to make life choices\": 0.8313618898391724, \"Generosity\": 0.025959890335798264, \"Perceptions of corruption\": 0.7288551330566406, \"Positive affect\": 0.8159151673316956, \"Negative affect\": 0.3044382631778717, \"Individuals (%) with Internet access\": 5.250487687}, {\"Country name\": \"Niger\", \"year\": 2019, \"Life Ladder\": 5.003544330596924, \"Log GDP per capita\": 7.105849266052246, \"Social support\": 0.6769587397575378, \"Healthy life expectancy at birth\": 54.0, \"Freedom to make life choices\": 0.8313618898391724, \"Generosity\": 0.025959890335798264, \"Perceptions of corruption\": 0.7288551330566406, \"Positive affect\": 0.8159151673316956, \"Negative affect\": 0.3044382631778717, \"Individuals (%) with Internet access\": 5.250487687}, {\"Country name\": \"Togo\", \"year\": 2011, \"Life Ladder\": 2.93622088432312, \"Log GDP per capita\": 7.14592170715332, \"Social support\": 0.30295509099960327, \"Healthy life expectancy at birth\": 51.58000183105469, \"Freedom to make life choices\": 0.5840883255004883, \"Generosity\": -0.06982320547103882, \"Perceptions of corruption\": 0.832003653049469, \"Positive affect\": 0.4802805781364441, \"Negative affect\": 0.39536261558532715, \"Individuals (%) with Internet access\": 3.5}, {\"Country name\": \"Togo\", \"year\": 2012, \"Life Ladder\": 2.93622088432312, \"Log GDP per capita\": 7.14592170715332, \"Social support\": 0.30295509099960327, \"Healthy life expectancy at birth\": 51.58000183105469, \"Freedom to make life choices\": 0.5840883255004883, \"Generosity\": -0.06982320547103882, \"Perceptions of corruption\": 0.832003653049469, \"Positive affect\": 0.4802805781364441, \"Negative affect\": 0.39536261558532715, \"Individuals (%) with Internet access\": 4.0}, {\"Country name\": \"Togo\", \"year\": 2013, \"Life Ladder\": 2.838958740234375, \"Log GDP per capita\": 7.247175216674805, \"Social support\": 0.44433900713920593, \"Healthy life expectancy at birth\": 53.02000045776367, \"Freedom to make life choices\": 0.6631932258605957, \"Generosity\": -0.0847100093960762, \"Perceptions of corruption\": 0.7953417897224426, \"Positive affect\": 0.5827498435974121, \"Negative affect\": 0.4428131878376007, \"Individuals (%) with Internet access\": 4.5}, {\"Country name\": \"Togo\", \"year\": 2014, \"Life Ladder\": 3.7683019638061523, \"Log GDP per capita\": 7.277405738830566, \"Social support\": 0.4785934090614319, \"Healthy life expectancy at birth\": 53.5, \"Freedom to make life choices\": 0.7715772390365601, \"Generosity\": -0.06868194788694382, \"Perceptions of corruption\": 0.73326176404953, \"Positive affect\": 0.5988049507141113, \"Negative affect\": 0.4157807230949402, \"Individuals (%) with Internet access\": 5.7}, {\"Country name\": \"Togo\", \"year\": 2015, \"Life Ladder\": 3.8785784244537354, \"Log GDP per capita\": 7.306319236755371, \"Social support\": 0.5094409584999084, \"Healthy life expectancy at birth\": 53.900001525878906, \"Freedom to make life choices\": 0.7302867770195007, \"Generosity\": -0.006935871671885252, \"Perceptions of corruption\": 0.8150441646575928, \"Positive affect\": 0.6042441725730896, \"Negative affect\": 0.4828858971595764, \"Individuals (%) with Internet access\": 7.12}, {\"Country name\": \"Togo\", \"year\": 2016, \"Life Ladder\": 4.360805034637451, \"Log GDP per capita\": 7.324177265167236, \"Social support\": 0.5078052282333374, \"Healthy life expectancy at birth\": 54.29999923706055, \"Freedom to make life choices\": 0.7166944146156311, \"Generosity\": -0.04217866435647011, \"Perceptions of corruption\": 0.725519597530365, \"Positive affect\": 0.6141889691352844, \"Negative affect\": 0.42582425475120544, \"Individuals (%) with Internet access\": 11.31}, {\"Country name\": \"Togo\", \"year\": 2017, \"Life Ladder\": 4.022894859313965, \"Log GDP per capita\": 7.347652435302734, \"Social support\": 0.5963538885116577, \"Healthy life expectancy at birth\": 54.70000076293945, \"Freedom to make life choices\": 0.6119662523269653, \"Generosity\": -0.006869466509670019, \"Perceptions of corruption\": 0.8085377216339111, \"Positive affect\": 0.6084486246109009, \"Negative affect\": 0.44645437598228455, \"Individuals (%) with Internet access\": 12.36022497}, {\"Country name\": \"Togo\", \"year\": 2018, \"Life Ladder\": 4.1794939041137695, \"Log GDP per capita\": 7.375211238861084, \"Social support\": 0.5387021899223328, \"Healthy life expectancy at birth\": 55.099998474121094, \"Freedom to make life choices\": 0.6174197793006897, \"Generosity\": 0.06477482616901398, \"Perceptions of corruption\": 0.7366750240325928, \"Positive affect\": 0.5902292728424072, \"Negative affect\": 0.4438698887825012, \"Individuals (%) with Internet access\": 12.36022497}, {\"Country name\": \"Togo\", \"year\": 2019, \"Life Ladder\": 4.1794939041137695, \"Log GDP per capita\": 7.375211238861084, \"Social support\": 0.5387021899223328, \"Healthy life expectancy at birth\": 55.099998474121094, \"Freedom to make life choices\": 0.6174197793006897, \"Generosity\": 0.06477482616901398, \"Perceptions of corruption\": 0.7366750240325928, \"Positive affect\": 0.5902292728424072, \"Negative affect\": 0.4438698887825012, \"Individuals (%) with Internet access\": 12.36022497}]}}, {\"mode\": \"vega-lite\"});\n",
              "</script>"
            ],
            "text/plain": [
              "alt.LayerChart(...)"
            ]
          },
          "metadata": {
            "tags": []
          },
          "execution_count": 0
        }
      ]
    },
    {
      "cell_type": "code",
      "metadata": {
        "colab": {
          "background_save": true
        },
        "id": "TxIbHZ11fF7i",
        "outputId": "446dba00-80f8-4d45-d307-8dfce46738c4"
      },
      "source": [
        "# dropdown filter\n",
        "countries = bottom10GDP[\"Country name\"].unique()\n",
        "country_dropdown = alt.binding_select(options=countries)\n",
        "country_select = alt.selection_single(\n",
        "    fields=[\"Country name\"],\n",
        "    bind=country_dropdown,\n",
        "    name=\"Country\",\n",
        ")\n",
        "\n",
        "# Create scatter plot\n",
        "chart_hap = (\n",
        "    alt.Chart(bottom10GDP)\n",
        "    .mark_line(color=\"green\")\n",
        "    .encode(x=\"year:O\",\n",
        "            y=alt.Y(\"Life Ladder\",scale=alt.Scale(domain=[2, 6]), title=\"Happiness (green)\")\n",
        "    )\n",
        ")\n",
        "\n",
        "chart_gdp = (\n",
        "    alt.Chart(bottom10GDP)\n",
        "    .mark_line()\n",
        "    .encode(x=\"year:O\",\n",
        "            y=alt.Y(\"Individuals (%) with Internet access\",scale=alt.Scale(domain=[0, 40]))\n",
        "    )\n",
        ")\n",
        "\n",
        "chart = chart_hap+chart_gdp\n",
        "chart = chart.add_selection(country_select).transform_filter(country_select)\n",
        "chart = chart.properties(width=600, height=400).resolve_scale(y = 'independent')\n",
        "chart"
      ],
      "execution_count": null,
      "outputs": [
        {
          "output_type": "execute_result",
          "data": {
            "text/html": [
              "\n",
              "<div id=\"altair-viz-65e4070c386b4c59bc964a2f718078cb\"></div>\n",
              "<script type=\"text/javascript\">\n",
              "  (function(spec, embedOpt){\n",
              "    let outputDiv = document.currentScript.previousElementSibling;\n",
              "    if (outputDiv.id !== \"altair-viz-65e4070c386b4c59bc964a2f718078cb\") {\n",
              "      outputDiv = document.getElementById(\"altair-viz-65e4070c386b4c59bc964a2f718078cb\");\n",
              "    }\n",
              "    const paths = {\n",
              "      \"vega\": \"https://cdn.jsdelivr.net/npm//vega@5?noext\",\n",
              "      \"vega-lib\": \"https://cdn.jsdelivr.net/npm//vega-lib?noext\",\n",
              "      \"vega-lite\": \"https://cdn.jsdelivr.net/npm//vega-lite@4.8.1?noext\",\n",
              "      \"vega-embed\": \"https://cdn.jsdelivr.net/npm//vega-embed@6?noext\",\n",
              "    };\n",
              "\n",
              "    function loadScript(lib) {\n",
              "      return new Promise(function(resolve, reject) {\n",
              "        var s = document.createElement('script');\n",
              "        s.src = paths[lib];\n",
              "        s.async = true;\n",
              "        s.onload = () => resolve(paths[lib]);\n",
              "        s.onerror = () => reject(`Error loading script: ${paths[lib]}`);\n",
              "        document.getElementsByTagName(\"head\")[0].appendChild(s);\n",
              "      });\n",
              "    }\n",
              "\n",
              "    function showError(err) {\n",
              "      outputDiv.innerHTML = `<div class=\"error\" style=\"color:red;\">${err}</div>`;\n",
              "      throw err;\n",
              "    }\n",
              "\n",
              "    function displayChart(vegaEmbed) {\n",
              "      vegaEmbed(outputDiv, spec, embedOpt)\n",
              "        .catch(err => showError(`Javascript Error: ${err.message}<br>This usually means there's a typo in your chart specification. See the javascript console for the full traceback.`));\n",
              "    }\n",
              "\n",
              "    if(typeof define === \"function\" && define.amd) {\n",
              "      requirejs.config({paths});\n",
              "      require([\"vega-embed\"], displayChart, err => showError(`Error loading script: ${err.message}`));\n",
              "    } else if (typeof vegaEmbed === \"function\") {\n",
              "      displayChart(vegaEmbed);\n",
              "    } else {\n",
              "      loadScript(\"vega\")\n",
              "        .then(() => loadScript(\"vega-lite\"))\n",
              "        .then(() => loadScript(\"vega-embed\"))\n",
              "        .catch(showError)\n",
              "        .then(() => displayChart(vegaEmbed));\n",
              "    }\n",
              "  })({\"config\": {\"view\": {\"continuousWidth\": 400, \"continuousHeight\": 300}}, \"layer\": [{\"mark\": {\"type\": \"line\", \"color\": \"green\"}, \"encoding\": {\"x\": {\"type\": \"ordinal\", \"field\": \"year\"}, \"y\": {\"type\": \"quantitative\", \"field\": \"Life Ladder\", \"scale\": {\"domain\": [2, 6]}, \"title\": \"Happiness (green)\"}}, \"selection\": {\"Country\": {\"type\": \"single\", \"fields\": [\"Country name\"], \"bind\": {\"input\": \"select\", \"options\": [\"Burundi\", \"Central African Republic\", \"Chad\", \"Congo, Dem. Rep.\", \"Liberia\", \"Madagascar\", \"Malawi\", \"Mozambique\", \"Niger\", \"Togo\"]}}}}, {\"mark\": \"line\", \"encoding\": {\"x\": {\"type\": \"ordinal\", \"field\": \"year\"}, \"y\": {\"type\": \"quantitative\", \"field\": \"Individuals (%) with Internet access\", \"scale\": {\"domain\": [0, 40]}}}}], \"data\": {\"name\": \"data-2d4f042f9381ceb6350c6b97804787f5\"}, \"height\": 400, \"resolve\": {\"scale\": {\"y\": \"independent\"}}, \"transform\": [{\"filter\": {\"selection\": \"Country\"}}], \"width\": 600, \"$schema\": \"https://vega.github.io/schema/vega-lite/v4.8.1.json\", \"datasets\": {\"data-2d4f042f9381ceb6350c6b97804787f5\": [{\"Country name\": \"Burundi\", \"year\": 2011, \"Life Ladder\": 3.7058942317962646, \"Log GDP per capita\": 6.748176097869873, \"Social support\": 0.4222400188446045, \"Healthy life expectancy at birth\": 50.68000030517578, \"Freedom to make life choices\": 0.4898630380630493, \"Generosity\": -0.06243378669023514, \"Perceptions of corruption\": 0.6771076917648315, \"Positive affect\": 0.688906729221344, \"Negative affect\": 0.1903449445962906, \"Individuals (%) with Internet access\": 1.11}, {\"Country name\": \"Burundi\", \"year\": 2012, \"Life Ladder\": 3.7058942317962646, \"Log GDP per capita\": 6.748176097869873, \"Social support\": 0.4222400188446045, \"Healthy life expectancy at birth\": 50.68000030517578, \"Freedom to make life choices\": 0.4898630380630493, \"Generosity\": -0.06243378669023514, \"Perceptions of corruption\": 0.6771076917648315, \"Positive affect\": 0.688906729221344, \"Negative affect\": 0.1903449445962906, \"Individuals (%) with Internet access\": 1.219999945}, {\"Country name\": \"Burundi\", \"year\": 2013, \"Life Ladder\": 2.9045350551605225, \"Log GDP per capita\": 6.786983013153076, \"Social support\": 0.5646781325340271, \"Healthy life expectancy at birth\": 51.81999969482422, \"Freedom to make life choices\": 0.43138498067855835, \"Generosity\": -0.05879968777298927, \"Perceptions of corruption\": 0.8076188564300537, \"Positive affect\": 0.6556637287139893, \"Negative affect\": 0.25109463930130005, \"Individuals (%) with Internet access\": 1.264218111}, {\"Country name\": \"Burundi\", \"year\": 2014, \"Life Ladder\": 2.9045350551605225, \"Log GDP per capita\": 6.786983013153076, \"Social support\": 0.5646781325340271, \"Healthy life expectancy at birth\": 51.81999969482422, \"Freedom to make life choices\": 0.43138498067855835, \"Generosity\": -0.05879968777298927, \"Perceptions of corruption\": 0.8076188564300537, \"Positive affect\": 0.6556637287139893, \"Negative affect\": 0.25109463930130005, \"Individuals (%) with Internet access\": 1.38}, {\"Country name\": \"Burundi\", \"year\": 2015, \"Life Ladder\": 2.9045350551605225, \"Log GDP per capita\": 6.786983013153076, \"Social support\": 0.5646781325340271, \"Healthy life expectancy at birth\": 51.81999969482422, \"Freedom to make life choices\": 0.43138498067855835, \"Generosity\": -0.05879968777298927, \"Perceptions of corruption\": 0.8076188564300537, \"Positive affect\": 0.6556637287139893, \"Negative affect\": 0.25109463930130005, \"Individuals (%) with Internet access\": 4.866224464}, {\"Country name\": \"Burundi\", \"year\": 2016, \"Life Ladder\": 2.9045350551605225, \"Log GDP per capita\": 6.786983013153076, \"Social support\": 0.5646781325340271, \"Healthy life expectancy at birth\": 51.81999969482422, \"Freedom to make life choices\": 0.43138498067855835, \"Generosity\": -0.05879968777298927, \"Perceptions of corruption\": 0.8076188564300537, \"Positive affect\": 0.6556637287139893, \"Negative affect\": 0.25109463930130005, \"Individuals (%) with Internet access\": 5.173626777}, {\"Country name\": \"Burundi\", \"year\": 2017, \"Life Ladder\": 3.775283098220825, \"Log GDP per capita\": 6.635322093963623, \"Social support\": 0.48471522331237793, \"Healthy life expectancy at birth\": 53.400001525878906, \"Freedom to make life choices\": 0.6463986039161682, \"Generosity\": -0.023876165971159935, \"Perceptions of corruption\": 0.5986076593399048, \"Positive affect\": 0.6664415001869202, \"Negative affect\": 0.3627665936946869, \"Individuals (%) with Internet access\": 2.660748535}, {\"Country name\": \"Burundi\", \"year\": 2018, \"Life Ladder\": 3.775283098220825, \"Log GDP per capita\": 6.635322093963623, \"Social support\": 0.48471522331237793, \"Healthy life expectancy at birth\": 53.400001525878906, \"Freedom to make life choices\": 0.6463986039161682, \"Generosity\": -0.023876165971159935, \"Perceptions of corruption\": 0.5986076593399048, \"Positive affect\": 0.6664415001869202, \"Negative affect\": 0.3627665936946869, \"Individuals (%) with Internet access\": 2.660748535}, {\"Country name\": \"Burundi\", \"year\": 2019, \"Life Ladder\": 3.775283098220825, \"Log GDP per capita\": 6.635322093963623, \"Social support\": 0.48471522331237793, \"Healthy life expectancy at birth\": 53.400001525878906, \"Freedom to make life choices\": 0.6463986039161682, \"Generosity\": -0.023876165971159935, \"Perceptions of corruption\": 0.5986076593399048, \"Positive affect\": 0.6664415001869202, \"Negative affect\": 0.3627665936946869, \"Individuals (%) with Internet access\": 2.660748535}, {\"Country name\": \"Central African Republic\", \"year\": 2011, \"Life Ladder\": 3.677826404571533, \"Log GDP per capita\": 7.125054359436035, \"Social support\": 0.3873909115791321, \"Healthy life expectancy at birth\": 43.08000183105469, \"Freedom to make life choices\": 0.7800177931785583, \"Generosity\": -0.015844183042645454, \"Perceptions of corruption\": 0.8344988822937012, \"Positive affect\": 0.5240684747695923, \"Negative affect\": 0.27717992663383484, \"Individuals (%) with Internet access\": 2.2}, {\"Country name\": \"Central African Republic\", \"year\": 2012, \"Life Ladder\": 3.677826404571533, \"Log GDP per capita\": 7.125054359436035, \"Social support\": 0.3873909115791321, \"Healthy life expectancy at birth\": 43.08000183105469, \"Freedom to make life choices\": 0.7800177931785583, \"Generosity\": -0.015844183042645454, \"Perceptions of corruption\": 0.8344988822937012, \"Positive affect\": 0.5240684747695923, \"Negative affect\": 0.27717992663383484, \"Individuals (%) with Internet access\": 3.0}, {\"Country name\": \"Central African Republic\", \"year\": 2013, \"Life Ladder\": 3.677826404571533, \"Log GDP per capita\": 7.125054359436035, \"Social support\": 0.3873909115791321, \"Healthy life expectancy at birth\": 43.08000183105469, \"Freedom to make life choices\": 0.7800177931785583, \"Generosity\": -0.015844183042645454, \"Perceptions of corruption\": 0.8344988822937012, \"Positive affect\": 0.5240684747695923, \"Negative affect\": 0.27717992663383484, \"Individuals (%) with Internet access\": 3.4}, {\"Country name\": \"Central African Republic\", \"year\": 2014, \"Life Ladder\": 3.677826404571533, \"Log GDP per capita\": 7.125054359436035, \"Social support\": 0.3873909115791321, \"Healthy life expectancy at birth\": 43.08000183105469, \"Freedom to make life choices\": 0.7800177931785583, \"Generosity\": -0.015844183042645454, \"Perceptions of corruption\": 0.8344988822937012, \"Positive affect\": 0.5240684747695923, \"Negative affect\": 0.27717992663383484, \"Individuals (%) with Internet access\": 3.6}, {\"Country name\": \"Central African Republic\", \"year\": 2015, \"Life Ladder\": 2.693061113357544, \"Log GDP per capita\": 6.785016059875488, \"Social support\": 0.2901841700077057, \"Healthy life expectancy at birth\": 44.900001525878906, \"Freedom to make life choices\": 0.6240565180778503, \"Generosity\": 0.03262311965227127, \"Perceptions of corruption\": 0.8590730428695679, \"Positive affect\": 0.5786538124084473, \"Negative affect\": 0.4942680597305298, \"Individuals (%) with Internet access\": 3.8}, {\"Country name\": \"Central African Republic\", \"year\": 2016, \"Life Ladder\": 3.4758620262145996, \"Log GDP per capita\": 6.816519260406494, \"Social support\": 0.31958913803100586, \"Healthy life expectancy at birth\": 45.20000076293945, \"Freedom to make life choices\": 0.6452523469924927, \"Generosity\": 0.07278610020875931, \"Perceptions of corruption\": 0.8895660042762756, \"Positive affect\": 0.6138651967048645, \"Negative affect\": 0.5993354916572571, \"Individuals (%) with Internet access\": 4.0}, {\"Country name\": \"Central African Republic\", \"year\": 2017, \"Life Ladder\": 3.4758620262145996, \"Log GDP per capita\": 6.816519260406494, \"Social support\": 0.31958913803100586, \"Healthy life expectancy at birth\": 45.20000076293945, \"Freedom to make life choices\": 0.6452523469924927, \"Generosity\": 0.07278610020875931, \"Perceptions of corruption\": 0.8895660042762756, \"Positive affect\": 0.6138651967048645, \"Negative affect\": 0.5993354916572571, \"Individuals (%) with Internet access\": 4.339254945}, {\"Country name\": \"Central African Republic\", \"year\": 2018, \"Life Ladder\": 3.4758620262145996, \"Log GDP per capita\": 6.816519260406494, \"Social support\": 0.31958913803100586, \"Healthy life expectancy at birth\": 45.20000076293945, \"Freedom to make life choices\": 0.6452523469924927, \"Generosity\": 0.07278610020875931, \"Perceptions of corruption\": 0.8895660042762756, \"Positive affect\": 0.6138651967048645, \"Negative affect\": 0.5993354916572571, \"Individuals (%) with Internet access\": 4.339254945}, {\"Country name\": \"Central African Republic\", \"year\": 2019, \"Life Ladder\": 3.4758620262145996, \"Log GDP per capita\": 6.816519260406494, \"Social support\": 0.31958913803100586, \"Healthy life expectancy at birth\": 45.20000076293945, \"Freedom to make life choices\": 0.6452523469924927, \"Generosity\": 0.07278610020875931, \"Perceptions of corruption\": 0.8895660042762756, \"Positive affect\": 0.6138651967048645, \"Negative affect\": 0.5993354916572571, \"Individuals (%) with Internet access\": 4.339254945}, {\"Country name\": \"Chad\", \"year\": 2011, \"Life Ladder\": 4.032974720001221, \"Log GDP per capita\": 7.476016044616699, \"Social support\": 0.6728664636611938, \"Healthy life expectancy at birth\": 45.7400016784668, \"Freedom to make life choices\": 0.5629081130027771, \"Generosity\": -0.0340399406850338, \"Perceptions of corruption\": 0.884475827217102, \"Positive affect\": 0.5265463590621948, \"Negative affect\": 0.31574714183807373, \"Individuals (%) with Internet access\": 1.9}, {\"Country name\": \"Chad\", \"year\": 2012, \"Life Ladder\": 3.5076630115509033, \"Log GDP per capita\": 7.497941017150879, \"Social support\": 0.7141446471214294, \"Healthy life expectancy at birth\": 46.060001373291016, \"Freedom to make life choices\": 0.4882103502750397, \"Generosity\": -0.0454583466053009, \"Perceptions of corruption\": 0.8819723725318909, \"Positive affect\": 0.4615911841392517, \"Negative affect\": 0.31417423486709595, \"Individuals (%) with Internet access\": 2.1}, {\"Country name\": \"Chad\", \"year\": 2013, \"Life Ladder\": 3.4601829051971436, \"Log GDP per capita\": 7.531695365905762, \"Social support\": 0.7330667972564697, \"Healthy life expectancy at birth\": 46.380001068115234, \"Freedom to make life choices\": 0.5667953491210938, \"Generosity\": -0.06986323744058609, \"Perceptions of corruption\": 0.8809340000152588, \"Positive affect\": 0.5363712906837463, \"Negative affect\": 0.32852885127067566, \"Individuals (%) with Internet access\": 2.5}, {\"Country name\": \"Chad\", \"year\": 2014, \"Life Ladder\": 4.3226752281188965, \"Log GDP per capita\": 7.526775360107422, \"Social support\": 0.7512522339820862, \"Healthy life expectancy at birth\": 46.70000076293945, \"Freedom to make life choices\": 0.4743608832359314, \"Generosity\": -0.02865956537425518, \"Perceptions of corruption\": 0.8886393904685974, \"Positive affect\": 0.6066826581954956, \"Negative affect\": 0.3584379255771637, \"Individuals (%) with Internet access\": 2.9}, {\"Country name\": \"Chad\", \"year\": 2015, \"Life Ladder\": 4.029350280761719, \"Log GDP per capita\": 7.43073844909668, \"Social support\": 0.6162048578262329, \"Healthy life expectancy at birth\": 47.20000076293945, \"Freedom to make life choices\": 0.52522212266922, \"Generosity\": 0.05205228552222252, \"Perceptions of corruption\": 0.8197888731956482, \"Positive affect\": 0.5824582576751709, \"Negative affect\": 0.46756675839424133, \"Individuals (%) with Internet access\": 3.5}, {\"Country name\": \"Chad\", \"year\": 2016, \"Life Ladder\": 4.558937072753906, \"Log GDP per capita\": 7.369620323181152, \"Social support\": 0.6606155633926392, \"Healthy life expectancy at birth\": 47.70000076293945, \"Freedom to make life choices\": 0.6148496866226196, \"Generosity\": 0.007875287905335426, \"Perceptions of corruption\": 0.7923899292945862, \"Positive affect\": 0.6275031566619873, \"Negative affect\": 0.538245439529419, \"Individuals (%) with Internet access\": 5.0}, {\"Country name\": \"Chad\", \"year\": 2017, \"Life Ladder\": 4.486325263977051, \"Log GDP per capita\": 7.362847328186035, \"Social support\": 0.5772535800933838, \"Healthy life expectancy at birth\": 48.20000076293945, \"Freedom to make life choices\": 0.6503545641899109, \"Generosity\": 0.02423730678856373, \"Perceptions of corruption\": 0.7628793120384216, \"Positive affect\": 0.552737295627594, \"Negative affect\": 0.543836236000061, \"Individuals (%) with Internet access\": 6.49999812}, {\"Country name\": \"Chad\", \"year\": 2018, \"Life Ladder\": 4.250799179077148, \"Log GDP per capita\": 7.364943981170654, \"Social support\": 0.6404520869255066, \"Healthy life expectancy at birth\": 48.70000076293945, \"Freedom to make life choices\": 0.5372456908226013, \"Generosity\": 0.05500093847513199, \"Perceptions of corruption\": 0.8322834968566895, \"Positive affect\": 0.5872111916542053, \"Negative affect\": 0.46006128191947937, \"Individuals (%) with Internet access\": 6.49999812}, {\"Country name\": \"Chad\", \"year\": 2019, \"Life Ladder\": 4.250799179077148, \"Log GDP per capita\": 7.364943981170654, \"Social support\": 0.6404520869255066, \"Healthy life expectancy at birth\": 48.70000076293945, \"Freedom to make life choices\": 0.5372456908226013, \"Generosity\": 0.05500093847513199, \"Perceptions of corruption\": 0.8322834968566895, \"Positive affect\": 0.5872111916542053, \"Negative affect\": 0.46006128191947937, \"Individuals (%) with Internet access\": 6.49999812}, {\"Country name\": \"Congo, Dem. Rep.\", \"year\": 2011, \"Life Ladder\": 4.639227390289307, \"Log GDP per capita\": 6.831724643707275, \"Social support\": 0.7695459723472595, \"Healthy life expectancy at birth\": 50.779998779296875, \"Freedom to make life choices\": 0.5572862029075623, \"Generosity\": -0.03452160581946373, \"Perceptions of corruption\": 0.8074066042900085, \"Positive affect\": 0.6340030431747437, \"Negative affect\": 0.22965137660503387, \"Individuals (%) with Internet access\": 1.2}, {\"Country name\": \"Congo, Dem. Rep.\", \"year\": 2012, \"Life Ladder\": 4.497477054595947, \"Log GDP per capita\": 6.879824638366699, \"Social support\": 0.8298520445823669, \"Healthy life expectancy at birth\": 51.220001220703125, \"Freedom to make life choices\": 0.4803941547870636, \"Generosity\": 0.012176308780908585, \"Perceptions of corruption\": 0.9129915237426758, \"Positive affect\": 0.5891684889793396, \"Negative affect\": 0.18709465861320496, \"Individuals (%) with Internet access\": 1.679961015}, {\"Country name\": \"Congo, Dem. Rep.\", \"year\": 2013, \"Life Ladder\": 4.414299964904785, \"Log GDP per capita\": 6.937110900878906, \"Social support\": 0.822286069393158, \"Healthy life expectancy at birth\": 51.65999984741211, \"Freedom to make life choices\": 0.5560992956161499, \"Generosity\": 0.00918725598603487, \"Perceptions of corruption\": 0.8136759996414185, \"Positive affect\": 0.558870255947113, \"Negative affect\": 0.30463507771492004, \"Individuals (%) with Internet access\": 2.2}, {\"Country name\": \"Congo, Dem. Rep.\", \"year\": 2014, \"Life Ladder\": 3.9027416706085205, \"Log GDP per capita\": 6.9709577560424805, \"Social support\": 0.7672355771064758, \"Healthy life expectancy at birth\": 52.099998474121094, \"Freedom to make life choices\": 0.5737637877464294, \"Generosity\": -0.04758510738611221, \"Perceptions of corruption\": 0.8663780093193054, \"Positive affect\": 0.5891307592391968, \"Negative affect\": 0.3010493814945221, \"Individuals (%) with Internet access\": 3.0}, {\"Country name\": \"Congo, Dem. Rep.\", \"year\": 2015, \"Life Ladder\": 4.52193546295166, \"Log GDP per capita\": 6.961839199066162, \"Social support\": 0.8641545176506042, \"Healthy life expectancy at birth\": 52.5, \"Freedom to make life choices\": 0.6373667120933533, \"Generosity\": -0.024395395070314407, \"Perceptions of corruption\": 0.8749996423721313, \"Positive affect\": 0.6462695002555847, \"Negative affect\": 0.22241148352622986, \"Individuals (%) with Internet access\": 3.799999507}, {\"Country name\": \"Congo, Dem. Rep.\", \"year\": 2016, \"Life Ladder\": 4.311033248901367, \"Log GDP per capita\": 6.965845584869385, \"Social support\": 0.6696884036064148, \"Healthy life expectancy at birth\": 52.900001525878906, \"Freedom to make life choices\": 0.704239547252655, \"Generosity\": 0.06837817281484604, \"Perceptions of corruption\": 0.8091818690299988, \"Positive affect\": 0.5505259037017822, \"Negative affect\": 0.40426206588745117, \"Individuals (%) with Internet access\": 6.20997406}, {\"Country name\": \"Congo, Dem. Rep.\", \"year\": 2017, \"Life Ladder\": 4.311033248901367, \"Log GDP per capita\": 6.965845584869385, \"Social support\": 0.6696884036064148, \"Healthy life expectancy at birth\": 52.900001525878906, \"Freedom to make life choices\": 0.704239547252655, \"Generosity\": 0.06837817281484604, \"Perceptions of corruption\": 0.8091818690299988, \"Positive affect\": 0.5505259037017822, \"Negative affect\": 0.40426206588745117, \"Individuals (%) with Internet access\": 8.619904916}, {\"Country name\": \"Congo, Dem. Rep.\", \"year\": 2018, \"Life Ladder\": 4.311033248901367, \"Log GDP per capita\": 6.965845584869385, \"Social support\": 0.6696884036064148, \"Healthy life expectancy at birth\": 52.900001525878906, \"Freedom to make life choices\": 0.704239547252655, \"Generosity\": 0.06837817281484604, \"Perceptions of corruption\": 0.8091818690299988, \"Positive affect\": 0.5505259037017822, \"Negative affect\": 0.40426206588745117, \"Individuals (%) with Internet access\": 8.619904916}, {\"Country name\": \"Congo, Dem. Rep.\", \"year\": 2019, \"Life Ladder\": 4.311033248901367, \"Log GDP per capita\": 6.965845584869385, \"Social support\": 0.6696884036064148, \"Healthy life expectancy at birth\": 52.900001525878906, \"Freedom to make life choices\": 0.704239547252655, \"Generosity\": 0.06837817281484604, \"Perceptions of corruption\": 0.8091818690299988, \"Positive affect\": 0.5505259037017822, \"Negative affect\": 0.40426206588745117, \"Individuals (%) with Internet access\": 8.619904916}, {\"Country name\": \"Liberia\", \"year\": 2011, \"Life Ladder\": 4.5714192390441895, \"Log GDP per capita\": 7.391011714935303, \"Social support\": 0.7083017826080322, \"Healthy life expectancy at birth\": 53.279998779296875, \"Freedom to make life choices\": 0.5904508829116821, \"Generosity\": -0.029853735119104385, \"Perceptions of corruption\": 0.868966281414032, \"Positive affect\": 0.5428492426872253, \"Negative affect\": 0.44285961985588074, \"Individuals (%) with Internet access\": 2.5}, {\"Country name\": \"Liberia\", \"year\": 2012, \"Life Ladder\": 4.5714192390441895, \"Log GDP per capita\": 7.391011714935303, \"Social support\": 0.7083017826080322, \"Healthy life expectancy at birth\": 53.279998779296875, \"Freedom to make life choices\": 0.5904508829116821, \"Generosity\": -0.029853735119104385, \"Perceptions of corruption\": 0.868966281414032, \"Positive affect\": 0.5428492426872253, \"Negative affect\": 0.44285961985588074, \"Individuals (%) with Internet access\": 2.6}, {\"Country name\": \"Liberia\", \"year\": 2013, \"Life Ladder\": 4.5714192390441895, \"Log GDP per capita\": 7.391011714935303, \"Social support\": 0.7083017826080322, \"Healthy life expectancy at birth\": 53.279998779296875, \"Freedom to make life choices\": 0.5904508829116821, \"Generosity\": -0.029853735119104385, \"Perceptions of corruption\": 0.868966281414032, \"Positive affect\": 0.5428492426872253, \"Negative affect\": 0.44285961985588074, \"Individuals (%) with Internet access\": 3.2}, {\"Country name\": \"Liberia\", \"year\": 2014, \"Life Ladder\": 2.7015912532806396, \"Log GDP per capita\": 7.365483283996582, \"Social support\": 0.6376659870147705, \"Healthy life expectancy at birth\": 53.70000076293945, \"Freedom to make life choices\": 0.6714308857917786, \"Generosity\": -0.06149032339453697, \"Perceptions of corruption\": 0.9026726484298706, \"Positive affect\": 0.5050674080848694, \"Negative affect\": 0.38848862051963806, \"Individuals (%) with Internet access\": 5.41}, {\"Country name\": \"Liberia\", \"year\": 2015, \"Life Ladder\": 3.3546760082244873, \"Log GDP per capita\": 7.324065208435059, \"Social support\": 0.6426146030426025, \"Healthy life expectancy at birth\": 54.5, \"Freedom to make life choices\": 0.7634760141372681, \"Generosity\": 0.03305376321077347, \"Perceptions of corruption\": 0.9012674689292908, \"Positive affect\": 0.6355275511741638, \"Negative affect\": 0.5090466737747192, \"Individuals (%) with Internet access\": 33.0}, {\"Country name\": \"Liberia\", \"year\": 2016, \"Life Ladder\": 4.424490928649902, \"Log GDP per capita\": 7.32359504699707, \"Social support\": 0.6848668456077576, \"Healthy life expectancy at birth\": 55.29999923706055, \"Freedom to make life choices\": 0.7333899140357971, \"Generosity\": -0.012056075036525726, \"Perceptions of corruption\": 0.8668063879013062, \"Positive affect\": 0.667946457862854, \"Negative affect\": 0.3913305401802063, \"Individuals (%) with Internet access\": 7.319106411}, {\"Country name\": \"Liberia\", \"year\": 2017, \"Life Ladder\": 4.134852886199951, \"Log GDP per capita\": 7.311221599578857, \"Social support\": 0.7267501354217529, \"Healthy life expectancy at birth\": 56.099998474121094, \"Freedom to make life choices\": 0.7657695412635803, \"Generosity\": 0.049856483936309814, \"Perceptions of corruption\": 0.8679240942001343, \"Positive affect\": 0.6597315669059753, \"Negative affect\": 0.43609949946403503, \"Individuals (%) with Internet access\": 7.984479722}, {\"Country name\": \"Liberia\", \"year\": 2018, \"Life Ladder\": 5.121460914611816, \"Log GDP per capita\": 7.263903617858887, \"Social support\": 0.7124737501144409, \"Healthy life expectancy at birth\": 56.900001525878906, \"Freedom to make life choices\": 0.7058745622634888, \"Generosity\": 0.050611626356840134, \"Perceptions of corruption\": 0.8284689784049988, \"Positive affect\": 0.635608971118927, \"Negative affect\": 0.3891325891017914, \"Individuals (%) with Internet access\": 7.984479722}, {\"Country name\": \"Liberia\", \"year\": 2019, \"Life Ladder\": 5.121460914611816, \"Log GDP per capita\": 7.263903617858887, \"Social support\": 0.7124737501144409, \"Healthy life expectancy at birth\": 56.900001525878906, \"Freedom to make life choices\": 0.7058745622634888, \"Generosity\": 0.050611626356840134, \"Perceptions of corruption\": 0.8284689784049988, \"Positive affect\": 0.635608971118927, \"Negative affect\": 0.3891325891017914, \"Individuals (%) with Internet access\": 7.984479722}, {\"Country name\": \"Madagascar\", \"year\": 2011, \"Life Ladder\": 3.550609588623047, \"Log GDP per capita\": 7.338573932647705, \"Social support\": 0.6730883121490479, \"Healthy life expectancy at birth\": 56.63999938964844, \"Freedom to make life choices\": 0.48700788617134094, \"Generosity\": -0.054980259388685226, \"Perceptions of corruption\": 0.8535904884338379, \"Positive affect\": 0.689855694770813, \"Negative affect\": 0.19397741556167603, \"Individuals (%) with Internet access\": 1.9}, {\"Country name\": \"Madagascar\", \"year\": 2012, \"Life Ladder\": 3.8156070709228516, \"Log GDP per capita\": 7.3341851234436035, \"Social support\": 0.6725467443466187, \"Healthy life expectancy at birth\": 57.060001373291016, \"Freedom to make life choices\": 0.47955039143562317, \"Generosity\": -0.018502252176404, \"Perceptions of corruption\": 0.8677076697349548, \"Positive affect\": 0.7343156933784485, \"Negative affect\": 0.24123084545135498, \"Individuals (%) with Internet access\": 2.3}, {\"Country name\": \"Madagascar\", \"year\": 2013, \"Life Ladder\": 3.6756269931793213, \"Log GDP per capita\": 7.34002161026001, \"Social support\": 0.6552141308784485, \"Healthy life expectancy at birth\": 57.47999954223633, \"Freedom to make life choices\": 0.5288050174713135, \"Generosity\": -0.023182135075330734, \"Perceptions of corruption\": 0.7910556197166443, \"Positive affect\": 0.747616171836853, \"Negative affect\": 0.1921817511320114, \"Individuals (%) with Internet access\": 3.0}, {\"Country name\": \"Madagascar\", \"year\": 2014, \"Life Ladder\": 3.5925140380859375, \"Log GDP per capita\": 7.343921661376953, \"Social support\": 0.6467165350914001, \"Healthy life expectancy at birth\": 57.900001525878906, \"Freedom to make life choices\": 0.5447536110877991, \"Generosity\": -0.04082195833325386, \"Perceptions of corruption\": 0.8609533905982971, \"Positive affect\": 0.8017588257789612, \"Negative affect\": 0.22624345123767853, \"Individuals (%) with Internet access\": 3.7}, {\"Country name\": \"Madagascar\", \"year\": 2015, \"Life Ladder\": 3.6630859375, \"Log GDP per capita\": 7.356194972991943, \"Social support\": 0.7464969754219055, \"Healthy life expectancy at birth\": 58.29999923706055, \"Freedom to make life choices\": 0.5696454048156738, \"Generosity\": -0.06898024678230286, \"Perceptions of corruption\": 0.8641711473464966, \"Positive affect\": 0.8131913542747498, \"Negative affect\": 0.20425541698932648, \"Individuals (%) with Internet access\": 4.17397219}, {\"Country name\": \"Madagascar\", \"year\": 2016, \"Life Ladder\": 4.078620433807373, \"Log GDP per capita\": 7.367975234985352, \"Social support\": 0.6263319849967957, \"Healthy life expectancy at birth\": 58.70000076293945, \"Freedom to make life choices\": 0.5703479051589966, \"Generosity\": -0.03329531475901604, \"Perceptions of corruption\": 0.8472607731819153, \"Positive affect\": 0.7516980767250061, \"Negative affect\": 0.3748380243778229, \"Individuals (%) with Internet access\": 4.713662899}, {\"Country name\": \"Madagascar\", \"year\": 2017, \"Life Ladder\": 4.070586681365967, \"Log GDP per capita\": 7.385915756225586, \"Social support\": 0.6655129790306091, \"Healthy life expectancy at birth\": 59.099998474121094, \"Freedom to make life choices\": 0.551473081111908, \"Generosity\": 0.0025956102181226015, \"Perceptions of corruption\": 0.8891456723213196, \"Positive affect\": 0.7523410320281982, \"Negative affect\": 0.3620138168334961, \"Individuals (%) with Internet access\": 4.713662899}, {\"Country name\": \"Madagascar\", \"year\": 2018, \"Life Ladder\": 4.33908748626709, \"Log GDP per capita\": 7.4062371253967285, \"Social support\": 0.7006101012229919, \"Healthy life expectancy at birth\": 59.5, \"Freedom to make life choices\": 0.5495352149009705, \"Generosity\": -0.012468654662370682, \"Perceptions of corruption\": 0.7199826836585999, \"Positive affect\": 0.7231946587562561, \"Negative affect\": 0.3039596676826477, \"Individuals (%) with Internet access\": 4.713662899}, {\"Country name\": \"Madagascar\", \"year\": 2019, \"Life Ladder\": 4.33908748626709, \"Log GDP per capita\": 7.4062371253967285, \"Social support\": 0.7006101012229919, \"Healthy life expectancy at birth\": 59.5, \"Freedom to make life choices\": 0.5495352149009705, \"Generosity\": -0.012468654662370682, \"Perceptions of corruption\": 0.7199826836585999, \"Positive affect\": 0.7231946587562561, \"Negative affect\": 0.3039596676826477, \"Individuals (%) with Internet access\": 4.713662899}, {\"Country name\": \"Malawi\", \"year\": 2011, \"Life Ladder\": 4.279269695281982, \"Log GDP per capita\": 6.8848876953125, \"Social support\": 0.6037256717681885, \"Healthy life expectancy at birth\": 52.439998626708984, \"Freedom to make life choices\": 0.6373627185821533, \"Generosity\": 0.16919554769992828, \"Perceptions of corruption\": 0.8857849836349487, \"Positive affect\": 0.8156164288520813, \"Negative affect\": 0.2004629224538803, \"Individuals (%) with Internet access\": 3.33}, {\"Country name\": \"Malawi\", \"year\": 2012, \"Life Ladder\": 4.035084247589111, \"Log GDP per capita\": 6.907196521759033, \"Social support\": 0.5631615519523621, \"Healthy life expectancy at birth\": 53.459999084472656, \"Freedom to make life choices\": 0.7519952654838562, \"Generosity\": 0.07846467196941376, \"Perceptions of corruption\": 0.856666088104248, \"Positive affect\": 0.8084574341773987, \"Negative affect\": 0.2478286772966385, \"Individuals (%) with Internet access\": 4.3506}, {\"Country name\": \"Malawi\", \"year\": 2013, \"Life Ladder\": 4.563080310821533, \"Log GDP per capita\": 6.934600353240967, \"Social support\": 0.5116161108016968, \"Healthy life expectancy at birth\": 54.47999954223633, \"Freedom to make life choices\": 0.7857667207717896, \"Generosity\": 0.061088211834430695, \"Perceptions of corruption\": 0.8240178823471069, \"Positive affect\": 0.7037450671195984, \"Negative affect\": 0.26271340250968933, \"Individuals (%) with Internet access\": 5.05}, {\"Country name\": \"Malawi\", \"year\": 2014, \"Life Ladder\": 3.867638349533081, \"Log GDP per capita\": 6.9346208572387695, \"Social support\": 0.4943816363811493, \"Healthy life expectancy at birth\": 55.5, \"Freedom to make life choices\": 0.8013907074928284, \"Generosity\": 0.05806805565953255, \"Perceptions of corruption\": 0.8348253965377808, \"Positive affect\": 0.6326212882995605, \"Negative affect\": 0.2597639560699463, \"Individuals (%) with Internet access\": 5.83}, {\"Country name\": \"Malawi\", \"year\": 2015, \"Life Ladder\": 3.4764926433563232, \"Log GDP per capita\": 6.932058811187744, \"Social support\": 0.5242996215820312, \"Healthy life expectancy at birth\": 56.20000076293945, \"Freedom to make life choices\": 0.8098841309547424, \"Generosity\": 0.06585712730884552, \"Perceptions of corruption\": 0.8236150145530701, \"Positive affect\": 0.6031045913696289, \"Negative affect\": 0.32473891973495483, \"Individuals (%) with Internet access\": 5.3}, {\"Country name\": \"Malawi\", \"year\": 2016, \"Life Ladder\": 3.416862964630127, \"Log GDP per capita\": 6.944613456726074, \"Social support\": 0.5554227232933044, \"Healthy life expectancy at birth\": 56.900001525878906, \"Freedom to make life choices\": 0.8479207754135132, \"Generosity\": 0.02489175647497177, \"Perceptions of corruption\": 0.7346366047859192, \"Positive affect\": 0.6086665391921997, \"Negative affect\": 0.31208834052085876, \"Individuals (%) with Internet access\": 11.4708908}, {\"Country name\": \"Malawi\", \"year\": 2017, \"Life Ladder\": 3.3346335887908936, \"Log GDP per capita\": 6.949402332305908, \"Social support\": 0.5278434753417969, \"Healthy life expectancy at birth\": 57.599998474121094, \"Freedom to make life choices\": 0.7989151477813721, \"Generosity\": 0.07271962612867355, \"Perceptions of corruption\": 0.7659637928009033, \"Positive affect\": 0.5863004326820374, \"Negative affect\": 0.3648940324783325, \"Individuals (%) with Internet access\": 13.78216439}, {\"Country name\": \"Malawi\", \"year\": 2018, \"Life Ladder\": 3.869123697280884, \"Log GDP per capita\": 6.965763092041016, \"Social support\": 0.5489560961723328, \"Healthy life expectancy at birth\": 58.29999923706055, \"Freedom to make life choices\": 0.7648642063140869, \"Generosity\": 0.003596819471567869, \"Perceptions of corruption\": 0.680247962474823, \"Positive affect\": 0.5366970300674438, \"Negative affect\": 0.348162442445755, \"Individuals (%) with Internet access\": 13.78216439}, {\"Country name\": \"Malawi\", \"year\": 2019, \"Life Ladder\": 3.869123697280884, \"Log GDP per capita\": 6.965763092041016, \"Social support\": 0.5489560961723328, \"Healthy life expectancy at birth\": 58.29999923706055, \"Freedom to make life choices\": 0.7648642063140869, \"Generosity\": 0.003596819471567869, \"Perceptions of corruption\": 0.680247962474823, \"Positive affect\": 0.5366970300674438, \"Negative affect\": 0.348162442445755, \"Individuals (%) with Internet access\": 13.78216439}, {\"Country name\": \"Mozambique\", \"year\": 2011, \"Life Ladder\": 4.97111177444458, \"Log GDP per capita\": 6.978659629821777, \"Social support\": 0.817624568939209, \"Healthy life expectancy at birth\": 48.31999969482422, \"Freedom to make life choices\": 0.6392068266868591, \"Generosity\": -0.024201253429055214, \"Perceptions of corruption\": 0.7187589406967163, \"Positive affect\": 0.5920061469078064, \"Negative affect\": 0.24341605603694916, \"Individuals (%) with Internet access\": 4.3}, {\"Country name\": \"Mozambique\", \"year\": 2012, \"Life Ladder\": 4.97111177444458, \"Log GDP per capita\": 6.978659629821777, \"Social support\": 0.817624568939209, \"Healthy life expectancy at birth\": 48.31999969482422, \"Freedom to make life choices\": 0.6392068266868591, \"Generosity\": -0.024201253429055214, \"Perceptions of corruption\": 0.7187589406967163, \"Positive affect\": 0.5920061469078064, \"Negative affect\": 0.24341605603694916, \"Individuals (%) with Internet access\": 6.0}, {\"Country name\": \"Mozambique\", \"year\": 2013, \"Life Ladder\": 4.97111177444458, \"Log GDP per capita\": 6.978659629821777, \"Social support\": 0.817624568939209, \"Healthy life expectancy at birth\": 48.31999969482422, \"Freedom to make life choices\": 0.6392068266868591, \"Generosity\": -0.024201253429055214, \"Perceptions of corruption\": 0.7187589406967163, \"Positive affect\": 0.5920061469078064, \"Negative affect\": 0.24341605603694916, \"Individuals (%) with Internet access\": 7.29393733}, {\"Country name\": \"Mozambique\", \"year\": 2014, \"Life Ladder\": 4.54976749420166, \"Log GDP per capita\": 7.140938758850098, \"Social support\": 0.6658582091331482, \"Healthy life expectancy at birth\": 51.20000076293945, \"Freedom to make life choices\": 0.8132292628288269, \"Generosity\": 0.08872713893651962, \"Perceptions of corruption\": 0.631573498249054, \"Positive affect\": 0.5644606351852417, \"Negative affect\": 0.3395843505859375, \"Individuals (%) with Internet access\": 9.236314896}, {\"Country name\": \"Mozambique\", \"year\": 2015, \"Life Ladder\": 4.54976749420166, \"Log GDP per capita\": 7.140938758850098, \"Social support\": 0.6658582091331482, \"Healthy life expectancy at birth\": 51.20000076293945, \"Freedom to make life choices\": 0.8132292628288269, \"Generosity\": 0.08872713893651962, \"Perceptions of corruption\": 0.631573498249054, \"Positive affect\": 0.5644606351852417, \"Negative affect\": 0.3395843505859375, \"Individuals (%) with Internet access\": 16.93353299}, {\"Country name\": \"Mozambique\", \"year\": 2016, \"Life Ladder\": 4.279863357543945, \"Log GDP per capita\": 7.157470703125, \"Social support\": 0.6784636974334717, \"Healthy life expectancy at birth\": 53.20000076293945, \"Freedom to make life choices\": 0.8226705193519592, \"Generosity\": -0.029964828863739967, \"Perceptions of corruption\": 0.6821089386940002, \"Positive affect\": 0.6483814120292664, \"Negative affect\": 0.3531765043735504, \"Individuals (%) with Internet access\": 17.52123909}, {\"Country name\": \"Mozambique\", \"year\": 2017, \"Life Ladder\": 4.653713703155518, \"Log GDP per capita\": 7.16204309463501, \"Social support\": 0.7384804487228394, \"Healthy life expectancy at birth\": 54.20000076293945, \"Freedom to make life choices\": 0.896621584892273, \"Generosity\": 0.04856383055448532, \"Perceptions of corruption\": 0.6912204027175903, \"Positive affect\": 0.6396395564079285, \"Negative affect\": 0.39727872610092163, \"Individuals (%) with Internet access\": 20.7740003}, {\"Country name\": \"Mozambique\", \"year\": 2018, \"Life Ladder\": 4.932132720947266, \"Log GDP per capita\": 7.154966831207275, \"Social support\": 0.742303729057312, \"Healthy life expectancy at birth\": 55.20000076293945, \"Freedom to make life choices\": 0.8698102235794067, \"Generosity\": 0.07274501770734787, \"Perceptions of corruption\": 0.6819004416465759, \"Positive affect\": 0.5872747302055359, \"Negative affect\": 0.384122759103775, \"Individuals (%) with Internet access\": 20.7740003}, {\"Country name\": \"Mozambique\", \"year\": 2019, \"Life Ladder\": 4.932132720947266, \"Log GDP per capita\": 7.154966831207275, \"Social support\": 0.742303729057312, \"Healthy life expectancy at birth\": 55.20000076293945, \"Freedom to make life choices\": 0.8698102235794067, \"Generosity\": 0.07274501770734787, \"Perceptions of corruption\": 0.6819004416465759, \"Positive affect\": 0.5872747302055359, \"Negative affect\": 0.384122759103775, \"Individuals (%) with Internet access\": 20.7740003}, {\"Country name\": \"Niger\", \"year\": 2011, \"Life Ladder\": 3.798088312149048, \"Log GDP per capita\": 6.986891269683838, \"Social support\": 0.7001075744628906, \"Healthy life expectancy at birth\": 50.439998626708984, \"Freedom to make life choices\": 0.7344309091567993, \"Generosity\": -0.06350123137235641, \"Perceptions of corruption\": 0.7773408889770508, \"Positive affect\": 0.6025446653366089, \"Negative affect\": 0.14155304431915283, \"Individuals (%) with Internet access\": 0.9}, {\"Country name\": \"Niger\", \"year\": 2012, \"Life Ladder\": 3.71632981300354, \"Log GDP per capita\": 7.001982688903809, \"Social support\": 0.6958135962486267, \"Healthy life expectancy at birth\": 50.959999084472656, \"Freedom to make life choices\": 0.8253870606422424, \"Generosity\": -0.0774265006184578, \"Perceptions of corruption\": 0.7109634280204773, \"Positive affect\": 0.650200366973877, \"Negative affect\": 0.20813019573688507, \"Individuals (%) with Internet access\": 1.05}, {\"Country name\": \"Niger\", \"year\": 2013, \"Life Ladder\": 4.180943489074707, \"Log GDP per capita\": 7.0265631675720215, \"Social support\": 0.7525338530540466, \"Healthy life expectancy at birth\": 51.47999954223633, \"Freedom to make life choices\": 0.687634289264679, \"Generosity\": -0.04631692171096802, \"Perceptions of corruption\": 0.6047284603118896, \"Positive affect\": 0.6776120662689209, \"Negative affect\": 0.2046612799167633, \"Individuals (%) with Internet access\": 1.15}, {\"Country name\": \"Niger\", \"year\": 2014, \"Life Ladder\": 3.6714537143707275, \"Log GDP per capita\": 7.030498027801514, \"Social support\": 0.713019609451294, \"Healthy life expectancy at birth\": 52.0, \"Freedom to make life choices\": 0.7281283140182495, \"Generosity\": -0.03214083984494209, \"Perceptions of corruption\": 0.7025496959686279, \"Positive affect\": 0.6818726658821106, \"Negative affect\": 0.21842257678508759, \"Individuals (%) with Internet access\": 1.248675689}, {\"Country name\": \"Niger\", \"year\": 2015, \"Life Ladder\": 4.234645843505859, \"Log GDP per capita\": 7.047224044799805, \"Social support\": 0.6828282475471497, \"Healthy life expectancy at birth\": 52.5, \"Freedom to make life choices\": 0.7019273042678833, \"Generosity\": -0.015741674229502678, \"Perceptions of corruption\": 0.8144938945770264, \"Positive affect\": 0.6748589277267456, \"Negative affect\": 0.32544195652008057, \"Individuals (%) with Internet access\": 2.476219975}, {\"Country name\": \"Niger\", \"year\": 2016, \"Life Ladder\": 4.615673542022705, \"Log GDP per capita\": 7.057602882385254, \"Social support\": 0.5821095705032349, \"Healthy life expectancy at birth\": 53.0, \"Freedom to make life choices\": 0.6835575699806213, \"Generosity\": -0.030251333490014076, \"Perceptions of corruption\": 0.7776600122451782, \"Positive affect\": 0.7311614155769348, \"Negative affect\": 0.4265223741531372, \"Individuals (%) with Internet access\": 4.32275803}, {\"Country name\": \"Niger\", \"year\": 2017, \"Life Ladder\": 5.164007186889648, \"Log GDP per capita\": 7.087135314941406, \"Social support\": 0.6120256781578064, \"Healthy life expectancy at birth\": 53.5, \"Freedom to make life choices\": 0.7906656265258789, \"Generosity\": 0.008891422301530838, \"Perceptions of corruption\": 0.6371667981147766, \"Positive affect\": 0.7705576419830322, \"Negative affect\": 0.5025545358657837, \"Individuals (%) with Internet access\": 10.22431156}, {\"Country name\": \"Niger\", \"year\": 2018, \"Life Ladder\": 5.003544330596924, \"Log GDP per capita\": 7.105849266052246, \"Social support\": 0.6769587397575378, \"Healthy life expectancy at birth\": 54.0, \"Freedom to make life choices\": 0.8313618898391724, \"Generosity\": 0.025959890335798264, \"Perceptions of corruption\": 0.7288551330566406, \"Positive affect\": 0.8159151673316956, \"Negative affect\": 0.3044382631778717, \"Individuals (%) with Internet access\": 5.250487687}, {\"Country name\": \"Niger\", \"year\": 2019, \"Life Ladder\": 5.003544330596924, \"Log GDP per capita\": 7.105849266052246, \"Social support\": 0.6769587397575378, \"Healthy life expectancy at birth\": 54.0, \"Freedom to make life choices\": 0.8313618898391724, \"Generosity\": 0.025959890335798264, \"Perceptions of corruption\": 0.7288551330566406, \"Positive affect\": 0.8159151673316956, \"Negative affect\": 0.3044382631778717, \"Individuals (%) with Internet access\": 5.250487687}, {\"Country name\": \"Togo\", \"year\": 2011, \"Life Ladder\": 2.93622088432312, \"Log GDP per capita\": 7.14592170715332, \"Social support\": 0.30295509099960327, \"Healthy life expectancy at birth\": 51.58000183105469, \"Freedom to make life choices\": 0.5840883255004883, \"Generosity\": -0.06982320547103882, \"Perceptions of corruption\": 0.832003653049469, \"Positive affect\": 0.4802805781364441, \"Negative affect\": 0.39536261558532715, \"Individuals (%) with Internet access\": 3.5}, {\"Country name\": \"Togo\", \"year\": 2012, \"Life Ladder\": 2.93622088432312, \"Log GDP per capita\": 7.14592170715332, \"Social support\": 0.30295509099960327, \"Healthy life expectancy at birth\": 51.58000183105469, \"Freedom to make life choices\": 0.5840883255004883, \"Generosity\": -0.06982320547103882, \"Perceptions of corruption\": 0.832003653049469, \"Positive affect\": 0.4802805781364441, \"Negative affect\": 0.39536261558532715, \"Individuals (%) with Internet access\": 4.0}, {\"Country name\": \"Togo\", \"year\": 2013, \"Life Ladder\": 2.838958740234375, \"Log GDP per capita\": 7.247175216674805, \"Social support\": 0.44433900713920593, \"Healthy life expectancy at birth\": 53.02000045776367, \"Freedom to make life choices\": 0.6631932258605957, \"Generosity\": -0.0847100093960762, \"Perceptions of corruption\": 0.7953417897224426, \"Positive affect\": 0.5827498435974121, \"Negative affect\": 0.4428131878376007, \"Individuals (%) with Internet access\": 4.5}, {\"Country name\": \"Togo\", \"year\": 2014, \"Life Ladder\": 3.7683019638061523, \"Log GDP per capita\": 7.277405738830566, \"Social support\": 0.4785934090614319, \"Healthy life expectancy at birth\": 53.5, \"Freedom to make life choices\": 0.7715772390365601, \"Generosity\": -0.06868194788694382, \"Perceptions of corruption\": 0.73326176404953, \"Positive affect\": 0.5988049507141113, \"Negative affect\": 0.4157807230949402, \"Individuals (%) with Internet access\": 5.7}, {\"Country name\": \"Togo\", \"year\": 2015, \"Life Ladder\": 3.8785784244537354, \"Log GDP per capita\": 7.306319236755371, \"Social support\": 0.5094409584999084, \"Healthy life expectancy at birth\": 53.900001525878906, \"Freedom to make life choices\": 0.7302867770195007, \"Generosity\": -0.006935871671885252, \"Perceptions of corruption\": 0.8150441646575928, \"Positive affect\": 0.6042441725730896, \"Negative affect\": 0.4828858971595764, \"Individuals (%) with Internet access\": 7.12}, {\"Country name\": \"Togo\", \"year\": 2016, \"Life Ladder\": 4.360805034637451, \"Log GDP per capita\": 7.324177265167236, \"Social support\": 0.5078052282333374, \"Healthy life expectancy at birth\": 54.29999923706055, \"Freedom to make life choices\": 0.7166944146156311, \"Generosity\": -0.04217866435647011, \"Perceptions of corruption\": 0.725519597530365, \"Positive affect\": 0.6141889691352844, \"Negative affect\": 0.42582425475120544, \"Individuals (%) with Internet access\": 11.31}, {\"Country name\": \"Togo\", \"year\": 2017, \"Life Ladder\": 4.022894859313965, \"Log GDP per capita\": 7.347652435302734, \"Social support\": 0.5963538885116577, \"Healthy life expectancy at birth\": 54.70000076293945, \"Freedom to make life choices\": 0.6119662523269653, \"Generosity\": -0.006869466509670019, \"Perceptions of corruption\": 0.8085377216339111, \"Positive affect\": 0.6084486246109009, \"Negative affect\": 0.44645437598228455, \"Individuals (%) with Internet access\": 12.36022497}, {\"Country name\": \"Togo\", \"year\": 2018, \"Life Ladder\": 4.1794939041137695, \"Log GDP per capita\": 7.375211238861084, \"Social support\": 0.5387021899223328, \"Healthy life expectancy at birth\": 55.099998474121094, \"Freedom to make life choices\": 0.6174197793006897, \"Generosity\": 0.06477482616901398, \"Perceptions of corruption\": 0.7366750240325928, \"Positive affect\": 0.5902292728424072, \"Negative affect\": 0.4438698887825012, \"Individuals (%) with Internet access\": 12.36022497}, {\"Country name\": \"Togo\", \"year\": 2019, \"Life Ladder\": 4.1794939041137695, \"Log GDP per capita\": 7.375211238861084, \"Social support\": 0.5387021899223328, \"Healthy life expectancy at birth\": 55.099998474121094, \"Freedom to make life choices\": 0.6174197793006897, \"Generosity\": 0.06477482616901398, \"Perceptions of corruption\": 0.7366750240325928, \"Positive affect\": 0.5902292728424072, \"Negative affect\": 0.4438698887825012, \"Individuals (%) with Internet access\": 12.36022497}]}}, {\"mode\": \"vega-lite\"});\n",
              "</script>"
            ],
            "text/plain": [
              "alt.LayerChart(...)"
            ]
          },
          "metadata": {
            "tags": []
          },
          "execution_count": 0
        }
      ]
    },
    {
      "cell_type": "code",
      "metadata": {
        "colab": {
          "background_save": true
        },
        "id": "UGKPmqiVfF7i",
        "outputId": "a5ef242c-f2a2-4661-ba99-1212483d2873"
      },
      "source": [
        "reg_data = bottom10GDP[['Log GDP per capita','Individuals (%) with Internet access']]\n",
        "reg_tgt = bottom10GDP['Life Ladder']\n",
        "OLS(reg_tgt,reg_data).fit().summary()"
      ],
      "execution_count": null,
      "outputs": [
        {
          "output_type": "execute_result",
          "data": {
            "text/html": [
              "<table class=\"simpletable\">\n",
              "<caption>OLS Regression Results</caption>\n",
              "<tr>\n",
              "  <th>Dep. Variable:</th>       <td>Life Ladder</td>   <th>  R-squared (uncentered):</th>      <td>   0.980</td>\n",
              "</tr>\n",
              "<tr>\n",
              "  <th>Model:</th>                   <td>OLS</td>       <th>  Adj. R-squared (uncentered):</th> <td>   0.979</td>\n",
              "</tr>\n",
              "<tr>\n",
              "  <th>Method:</th>             <td>Least Squares</td>  <th>  F-statistic:       </th>          <td>   2109.</td>\n",
              "</tr>\n",
              "<tr>\n",
              "  <th>Date:</th>             <td>Mon, 24 May 2021</td> <th>  Prob (F-statistic):</th>          <td>4.55e-75</td>\n",
              "</tr>\n",
              "<tr>\n",
              "  <th>Time:</th>                 <td>04:28:01</td>     <th>  Log-Likelihood:    </th>          <td> -78.783</td>\n",
              "</tr>\n",
              "<tr>\n",
              "  <th>No. Observations:</th>      <td>    90</td>      <th>  AIC:               </th>          <td>   161.6</td>\n",
              "</tr>\n",
              "<tr>\n",
              "  <th>Df Residuals:</th>          <td>    88</td>      <th>  BIC:               </th>          <td>   166.6</td>\n",
              "</tr>\n",
              "<tr>\n",
              "  <th>Df Model:</th>              <td>     2</td>      <th>                     </th>              <td> </td>   \n",
              "</tr>\n",
              "<tr>\n",
              "  <th>Covariance Type:</th>      <td>nonrobust</td>    <th>                     </th>              <td> </td>   \n",
              "</tr>\n",
              "</table>\n",
              "<table class=\"simpletable\">\n",
              "<tr>\n",
              "                    <td></td>                      <th>coef</th>     <th>std err</th>      <th>t</th>      <th>P>|t|</th>  <th>[0.025</th>    <th>0.975]</th>  \n",
              "</tr>\n",
              "<tr>\n",
              "  <th>Log GDP per capita</th>                   <td>    0.5465</td> <td>    0.013</td> <td>   41.063</td> <td> 0.000</td> <td>    0.520</td> <td>    0.573</td>\n",
              "</tr>\n",
              "<tr>\n",
              "  <th>Individuals (%) with Internet access</th> <td>    0.0210</td> <td>    0.012</td> <td>    1.814</td> <td> 0.073</td> <td>   -0.002</td> <td>    0.044</td>\n",
              "</tr>\n",
              "</table>\n",
              "<table class=\"simpletable\">\n",
              "<tr>\n",
              "  <th>Omnibus:</th>       <td> 0.828</td> <th>  Durbin-Watson:     </th> <td>   0.865</td>\n",
              "</tr>\n",
              "<tr>\n",
              "  <th>Prob(Omnibus):</th> <td> 0.661</td> <th>  Jarque-Bera (JB):  </th> <td>   0.924</td>\n",
              "</tr>\n",
              "<tr>\n",
              "  <th>Skew:</th>          <td>-0.209</td> <th>  Prob(JB):          </th> <td>   0.630</td>\n",
              "</tr>\n",
              "<tr>\n",
              "  <th>Kurtosis:</th>      <td> 2.733</td> <th>  Cond. No.          </th> <td>    2.72</td>\n",
              "</tr>\n",
              "</table><br/><br/>Warnings:<br/>[1] Standard Errors assume that the covariance matrix of the errors is correctly specified."
            ],
            "text/plain": [
              "<class 'statsmodels.iolib.summary.Summary'>\n",
              "\"\"\"\n",
              "                                 OLS Regression Results                                \n",
              "=======================================================================================\n",
              "Dep. Variable:            Life Ladder   R-squared (uncentered):                   0.980\n",
              "Model:                            OLS   Adj. R-squared (uncentered):              0.979\n",
              "Method:                 Least Squares   F-statistic:                              2109.\n",
              "Date:                Mon, 24 May 2021   Prob (F-statistic):                    4.55e-75\n",
              "Time:                        04:28:01   Log-Likelihood:                         -78.783\n",
              "No. Observations:                  90   AIC:                                      161.6\n",
              "Df Residuals:                      88   BIC:                                      166.6\n",
              "Df Model:                           2                                                  \n",
              "Covariance Type:            nonrobust                                                  \n",
              "========================================================================================================\n",
              "                                           coef    std err          t      P>|t|      [0.025      0.975]\n",
              "--------------------------------------------------------------------------------------------------------\n",
              "Log GDP per capita                       0.5465      0.013     41.063      0.000       0.520       0.573\n",
              "Individuals (%) with Internet access     0.0210      0.012      1.814      0.073      -0.002       0.044\n",
              "==============================================================================\n",
              "Omnibus:                        0.828   Durbin-Watson:                   0.865\n",
              "Prob(Omnibus):                  0.661   Jarque-Bera (JB):                0.924\n",
              "Skew:                          -0.209   Prob(JB):                        0.630\n",
              "Kurtosis:                       2.733   Cond. No.                         2.72\n",
              "==============================================================================\n",
              "\n",
              "Warnings:\n",
              "[1] Standard Errors assume that the covariance matrix of the errors is correctly specified.\n",
              "\"\"\""
            ]
          },
          "metadata": {
            "tags": []
          },
          "execution_count": 0
        }
      ]
    },
    {
      "cell_type": "code",
      "metadata": {
        "colab": {
          "background_save": true
        },
        "id": "7_Du-ZlCfF7i",
        "outputId": "6279dcd2-923a-4b9a-bf2b-762bffdbef7d"
      },
      "source": [
        "#correlation matrix\n",
        "corr = bottom10GDP.copy()\n",
        "corr.drop(\"year\", inplace=True, axis=1)\n",
        "corr = corr.corr(method ='pearson')\n",
        "corr"
      ],
      "execution_count": null,
      "outputs": [
        {
          "output_type": "execute_result",
          "data": {
            "text/html": [
              "<div>\n",
              "<style scoped>\n",
              "    .dataframe tbody tr th:only-of-type {\n",
              "        vertical-align: middle;\n",
              "    }\n",
              "\n",
              "    .dataframe tbody tr th {\n",
              "        vertical-align: top;\n",
              "    }\n",
              "\n",
              "    .dataframe thead th {\n",
              "        text-align: right;\n",
              "    }\n",
              "</style>\n",
              "<table border=\"1\" class=\"dataframe\">\n",
              "  <thead>\n",
              "    <tr style=\"text-align: right;\">\n",
              "      <th></th>\n",
              "      <th>Life Ladder</th>\n",
              "      <th>Log GDP per capita</th>\n",
              "      <th>Social support</th>\n",
              "      <th>Healthy life expectancy at birth</th>\n",
              "      <th>Freedom to make life choices</th>\n",
              "      <th>Generosity</th>\n",
              "      <th>Perceptions of corruption</th>\n",
              "      <th>Positive affect</th>\n",
              "      <th>Negative affect</th>\n",
              "      <th>Individuals (%) with Internet access</th>\n",
              "    </tr>\n",
              "  </thead>\n",
              "  <tbody>\n",
              "    <tr>\n",
              "      <th>Life Ladder</th>\n",
              "      <td>1.0</td>\n",
              "      <td>0.2</td>\n",
              "      <td>0.6</td>\n",
              "      <td>0.2</td>\n",
              "      <td>0.3</td>\n",
              "      <td>0.3</td>\n",
              "      <td>-0.3</td>\n",
              "      <td>0.2</td>\n",
              "      <td>0.0</td>\n",
              "      <td>0.2</td>\n",
              "    </tr>\n",
              "    <tr>\n",
              "      <th>Log GDP per capita</th>\n",
              "      <td>0.2</td>\n",
              "      <td>1.0</td>\n",
              "      <td>0.3</td>\n",
              "      <td>0.2</td>\n",
              "      <td>-0.1</td>\n",
              "      <td>-0.1</td>\n",
              "      <td>0.3</td>\n",
              "      <td>-0.1</td>\n",
              "      <td>0.2</td>\n",
              "      <td>0.2</td>\n",
              "    </tr>\n",
              "    <tr>\n",
              "      <th>Social support</th>\n",
              "      <td>0.6</td>\n",
              "      <td>0.3</td>\n",
              "      <td>1.0</td>\n",
              "      <td>0.3</td>\n",
              "      <td>-0.1</td>\n",
              "      <td>-0.1</td>\n",
              "      <td>-0.0</td>\n",
              "      <td>0.2</td>\n",
              "      <td>-0.4</td>\n",
              "      <td>0.1</td>\n",
              "    </tr>\n",
              "    <tr>\n",
              "      <th>Healthy life expectancy at birth</th>\n",
              "      <td>0.2</td>\n",
              "      <td>0.2</td>\n",
              "      <td>0.3</td>\n",
              "      <td>1.0</td>\n",
              "      <td>0.1</td>\n",
              "      <td>0.0</td>\n",
              "      <td>-0.2</td>\n",
              "      <td>0.5</td>\n",
              "      <td>-0.2</td>\n",
              "      <td>0.3</td>\n",
              "    </tr>\n",
              "    <tr>\n",
              "      <th>Freedom to make life choices</th>\n",
              "      <td>0.3</td>\n",
              "      <td>-0.1</td>\n",
              "      <td>-0.1</td>\n",
              "      <td>0.1</td>\n",
              "      <td>1.0</td>\n",
              "      <td>0.4</td>\n",
              "      <td>-0.3</td>\n",
              "      <td>-0.1</td>\n",
              "      <td>0.1</td>\n",
              "      <td>0.5</td>\n",
              "    </tr>\n",
              "    <tr>\n",
              "      <th>Generosity</th>\n",
              "      <td>0.3</td>\n",
              "      <td>-0.1</td>\n",
              "      <td>-0.1</td>\n",
              "      <td>0.0</td>\n",
              "      <td>0.4</td>\n",
              "      <td>1.0</td>\n",
              "      <td>0.0</td>\n",
              "      <td>0.0</td>\n",
              "      <td>0.4</td>\n",
              "      <td>0.4</td>\n",
              "    </tr>\n",
              "    <tr>\n",
              "      <th>Perceptions of corruption</th>\n",
              "      <td>-0.3</td>\n",
              "      <td>0.3</td>\n",
              "      <td>-0.0</td>\n",
              "      <td>-0.2</td>\n",
              "      <td>-0.3</td>\n",
              "      <td>0.0</td>\n",
              "      <td>1.0</td>\n",
              "      <td>-0.1</td>\n",
              "      <td>0.2</td>\n",
              "      <td>-0.2</td>\n",
              "    </tr>\n",
              "    <tr>\n",
              "      <th>Positive affect</th>\n",
              "      <td>0.2</td>\n",
              "      <td>-0.1</td>\n",
              "      <td>0.2</td>\n",
              "      <td>0.5</td>\n",
              "      <td>-0.1</td>\n",
              "      <td>0.0</td>\n",
              "      <td>-0.1</td>\n",
              "      <td>1.0</td>\n",
              "      <td>-0.3</td>\n",
              "      <td>-0.1</td>\n",
              "    </tr>\n",
              "    <tr>\n",
              "      <th>Negative affect</th>\n",
              "      <td>0.0</td>\n",
              "      <td>0.2</td>\n",
              "      <td>-0.4</td>\n",
              "      <td>-0.2</td>\n",
              "      <td>0.1</td>\n",
              "      <td>0.4</td>\n",
              "      <td>0.2</td>\n",
              "      <td>-0.3</td>\n",
              "      <td>1.0</td>\n",
              "      <td>0.3</td>\n",
              "    </tr>\n",
              "    <tr>\n",
              "      <th>Individuals (%) with Internet access</th>\n",
              "      <td>0.2</td>\n",
              "      <td>0.2</td>\n",
              "      <td>0.1</td>\n",
              "      <td>0.3</td>\n",
              "      <td>0.5</td>\n",
              "      <td>0.4</td>\n",
              "      <td>-0.2</td>\n",
              "      <td>-0.1</td>\n",
              "      <td>0.3</td>\n",
              "      <td>1.0</td>\n",
              "    </tr>\n",
              "  </tbody>\n",
              "</table>\n",
              "</div>"
            ],
            "text/plain": [
              "                                      Life Ladder  ...  Individuals (%) with Internet access\n",
              "Life Ladder                                   1.0  ...                                   0.2\n",
              "Log GDP per capita                            0.2  ...                                   0.2\n",
              "Social support                                0.6  ...                                   0.1\n",
              "Healthy life expectancy at birth              0.2  ...                                   0.3\n",
              "Freedom to make life choices                  0.3  ...                                   0.5\n",
              "Generosity                                    0.3  ...                                   0.4\n",
              "Perceptions of corruption                    -0.3  ...                                  -0.2\n",
              "Positive affect                               0.2  ...                                  -0.1\n",
              "Negative affect                               0.0  ...                                   0.3\n",
              "Individuals (%) with Internet access          0.2  ...                                   1.0\n",
              "\n",
              "[10 rows x 10 columns]"
            ]
          },
          "metadata": {
            "tags": []
          },
          "execution_count": 0
        }
      ]
    },
    {
      "cell_type": "code",
      "metadata": {
        "colab": {
          "background_save": true
        },
        "id": "WbiBorpTfF7i",
        "outputId": "2cc8b9f4-c017-4610-dbf4-7ce413f0a400"
      },
      "source": [
        "index_vals = bottom10GDP['year'].astype('category').cat.codes\n",
        "fig = go.Figure(data=go.Splom(\n",
        "                dimensions=[dict(label='Happiness',\n",
        "                                 values=bottom10GDP['Life Ladder']),\n",
        "                            dict(label='GDP',\n",
        "                                 values=bottom10GDP['Log GDP per capita']),\n",
        "                            dict(label='Social support',\n",
        "                                 values=bottom10GDP['Social support']),\n",
        "                            dict(label='Life expectancy',\n",
        "                                 values=bottom10GDP['Healthy life expectancy at birth']),\n",
        "                            dict(label='Freedom',\n",
        "                                 values=bottom10GDP['Freedom to make life choices']),\n",
        "                            dict(label='Generosity',\n",
        "                                 values=bottom10GDP['Generosity']),\n",
        "                            dict(label='Corruption',\n",
        "                                 values=bottom10GDP['Perceptions of corruption']),\n",
        "                            dict(label='Positive',\n",
        "                                 values=bottom10GDP['Positive affect']),\n",
        "                            dict(label='Negative',\n",
        "                                 values=bottom10GDP['Negative affect']),\n",
        "                            dict(label='Internet access',\n",
        "                                 values=bottom10GDP['Individuals (%) with Internet access'])],\n",
        "                diagonal_visible=False, # remove plots on diagonal\n",
        "                text=bottom10GDP['year'],\n",
        "                marker=dict(color=index_vals,\n",
        "                            showscale=True, # colors encode categorical variables\n",
        "                            line_color='white', line_width=0.5)\n",
        "                ))\n",
        "\n",
        "fig.update_layout(\n",
        "    title='SPLOM full dataset',\n",
        "    autosize=False,\n",
        "    width=1200,\n",
        "    height=1200,\n",
        ")\n",
        "\n",
        "fig.show()"
      ],
      "execution_count": null,
      "outputs": [
        {
          "output_type": "display_data",
          "data": {
            "text/html": [
              "<html>\n",
              "<head><meta charset=\"utf-8\" /></head>\n",
              "<body>\n",
              "    <div>\n",
              "            <script src=\"https://cdnjs.cloudflare.com/ajax/libs/mathjax/2.7.5/MathJax.js?config=TeX-AMS-MML_SVG\"></script><script type=\"text/javascript\">if (window.MathJax) {MathJax.Hub.Config({SVG: {font: \"STIX-Web\"}});}</script>\n",
              "                <script type=\"text/javascript\">window.PlotlyConfig = {MathJaxConfig: 'local'};</script>\n",
              "        <script src=\"https://cdn.plot.ly/plotly-latest.min.js\"></script>    \n",
              "            <div id=\"f360ff38-1d15-4c33-8121-1e204a33bd57\" class=\"plotly-graph-div\" style=\"height:1200px; width:1200px;\"></div>\n",
              "            <script type=\"text/javascript\">\n",
              "                \n",
              "                    window.PLOTLYENV=window.PLOTLYENV || {};\n",
              "                    \n",
              "                if (document.getElementById(\"f360ff38-1d15-4c33-8121-1e204a33bd57\")) {\n",
              "                    Plotly.newPlot(\n",
              "                        'f360ff38-1d15-4c33-8121-1e204a33bd57',\n",
              "                        [{\"diagonal\": {\"visible\": false}, \"dimensions\": [{\"label\": \"Happiness\", \"values\": [3.7058942317962646, 3.7058942317962646, 2.9045350551605225, 2.9045350551605225, 2.9045350551605225, 2.9045350551605225, 3.775283098220825, 3.775283098220825, 3.775283098220825, 3.677826404571533, 3.677826404571533, 3.677826404571533, 3.677826404571533, 2.693061113357544, 3.4758620262145996, 3.4758620262145996, 3.4758620262145996, 3.4758620262145996, 4.032974720001221, 3.5076630115509033, 3.4601829051971436, 4.3226752281188965, 4.029350280761719, 4.558937072753906, 4.486325263977051, 4.250799179077148, 4.250799179077148, 4.639227390289307, 4.497477054595947, 4.414299964904785, 3.9027416706085205, 4.52193546295166, 4.311033248901367, 4.311033248901367, 4.311033248901367, 4.311033248901367, 4.5714192390441895, 4.5714192390441895, 4.5714192390441895, 2.7015912532806396, 3.3546760082244873, 4.424490928649902, 4.134852886199951, 5.121460914611816, 5.121460914611816, 3.550609588623047, 3.8156070709228516, 3.6756269931793213, 3.5925140380859375, 3.6630859375, 4.078620433807373, 4.070586681365967, 4.33908748626709, 4.33908748626709, 4.279269695281982, 4.035084247589111, 4.563080310821533, 3.867638349533081, 3.4764926433563232, 3.416862964630127, 3.3346335887908936, 3.869123697280884, 3.869123697280884, 4.97111177444458, 4.97111177444458, 4.97111177444458, 4.54976749420166, 4.54976749420166, 4.279863357543945, 4.653713703155518, 4.932132720947266, 4.932132720947266, 3.798088312149048, 3.71632981300354, 4.180943489074707, 3.6714537143707275, 4.234645843505859, 4.615673542022705, 5.164007186889648, 5.003544330596924, 5.003544330596924, 2.93622088432312, 2.93622088432312, 2.838958740234375, 3.7683019638061523, 3.8785784244537354, 4.360805034637451, 4.022894859313965, 4.1794939041137695, 4.1794939041137695]}, {\"label\": \"GDP\", \"values\": [6.748176097869873, 6.748176097869873, 6.786983013153076, 6.786983013153076, 6.786983013153076, 6.786983013153076, 6.635322093963623, 6.635322093963623, 6.635322093963623, 7.125054359436035, 7.125054359436035, 7.125054359436035, 7.125054359436035, 6.785016059875488, 6.816519260406494, 6.816519260406494, 6.816519260406494, 6.816519260406494, 7.476016044616699, 7.497941017150879, 7.531695365905762, 7.526775360107422, 7.43073844909668, 7.369620323181152, 7.362847328186035, 7.364943981170654, 7.364943981170654, 6.831724643707275, 6.879824638366699, 6.937110900878906, 6.9709577560424805, 6.961839199066162, 6.965845584869385, 6.965845584869385, 6.965845584869385, 6.965845584869385, 7.391011714935303, 7.391011714935303, 7.391011714935303, 7.365483283996582, 7.324065208435059, 7.32359504699707, 7.311221599578857, 7.263903617858887, 7.263903617858887, 7.338573932647705, 7.3341851234436035, 7.34002161026001, 7.343921661376953, 7.356194972991943, 7.367975234985352, 7.385915756225586, 7.4062371253967285, 7.4062371253967285, 6.8848876953125, 6.907196521759033, 6.934600353240967, 6.9346208572387695, 6.932058811187744, 6.944613456726074, 6.949402332305908, 6.965763092041016, 6.965763092041016, 6.978659629821777, 6.978659629821777, 6.978659629821777, 7.140938758850098, 7.140938758850098, 7.157470703125, 7.16204309463501, 7.154966831207275, 7.154966831207275, 6.986891269683838, 7.001982688903809, 7.0265631675720215, 7.030498027801514, 7.047224044799805, 7.057602882385254, 7.087135314941406, 7.105849266052246, 7.105849266052246, 7.14592170715332, 7.14592170715332, 7.247175216674805, 7.277405738830566, 7.306319236755371, 7.324177265167236, 7.347652435302734, 7.375211238861084, 7.375211238861084]}, {\"label\": \"Social support\", \"values\": [0.4222400188446045, 0.4222400188446045, 0.5646781325340271, 0.5646781325340271, 0.5646781325340271, 0.5646781325340271, 0.48471522331237793, 0.48471522331237793, 0.48471522331237793, 0.3873909115791321, 0.3873909115791321, 0.3873909115791321, 0.3873909115791321, 0.2901841700077057, 0.31958913803100586, 0.31958913803100586, 0.31958913803100586, 0.31958913803100586, 0.6728664636611938, 0.7141446471214294, 0.7330667972564697, 0.7512522339820862, 0.6162048578262329, 0.6606155633926392, 0.5772535800933838, 0.6404520869255066, 0.6404520869255066, 0.7695459723472595, 0.8298520445823669, 0.822286069393158, 0.7672355771064758, 0.8641545176506042, 0.6696884036064148, 0.6696884036064148, 0.6696884036064148, 0.6696884036064148, 0.7083017826080322, 0.7083017826080322, 0.7083017826080322, 0.6376659870147705, 0.6426146030426025, 0.6848668456077576, 0.7267501354217529, 0.7124737501144409, 0.7124737501144409, 0.6730883121490479, 0.6725467443466187, 0.6552141308784485, 0.6467165350914001, 0.7464969754219055, 0.6263319849967957, 0.6655129790306091, 0.7006101012229919, 0.7006101012229919, 0.6037256717681885, 0.5631615519523621, 0.5116161108016968, 0.4943816363811493, 0.5242996215820312, 0.5554227232933044, 0.5278434753417969, 0.5489560961723328, 0.5489560961723328, 0.817624568939209, 0.817624568939209, 0.817624568939209, 0.6658582091331482, 0.6658582091331482, 0.6784636974334717, 0.7384804487228394, 0.742303729057312, 0.742303729057312, 0.7001075744628906, 0.6958135962486267, 0.7525338530540466, 0.713019609451294, 0.6828282475471497, 0.5821095705032349, 0.6120256781578064, 0.6769587397575378, 0.6769587397575378, 0.30295509099960327, 0.30295509099960327, 0.44433900713920593, 0.4785934090614319, 0.5094409584999084, 0.5078052282333374, 0.5963538885116577, 0.5387021899223328, 0.5387021899223328]}, {\"label\": \"Life expectancy\", \"values\": [50.68000030517578, 50.68000030517578, 51.81999969482422, 51.81999969482422, 51.81999969482422, 51.81999969482422, 53.400001525878906, 53.400001525878906, 53.400001525878906, 43.08000183105469, 43.08000183105469, 43.08000183105469, 43.08000183105469, 44.900001525878906, 45.20000076293945, 45.20000076293945, 45.20000076293945, 45.20000076293945, 45.7400016784668, 46.060001373291016, 46.380001068115234, 46.70000076293945, 47.20000076293945, 47.70000076293945, 48.20000076293945, 48.70000076293945, 48.70000076293945, 50.779998779296875, 51.220001220703125, 51.65999984741211, 52.099998474121094, 52.5, 52.900001525878906, 52.900001525878906, 52.900001525878906, 52.900001525878906, 53.279998779296875, 53.279998779296875, 53.279998779296875, 53.70000076293945, 54.5, 55.29999923706055, 56.099998474121094, 56.900001525878906, 56.900001525878906, 56.63999938964844, 57.060001373291016, 57.47999954223633, 57.900001525878906, 58.29999923706055, 58.70000076293945, 59.099998474121094, 59.5, 59.5, 52.439998626708984, 53.459999084472656, 54.47999954223633, 55.5, 56.20000076293945, 56.900001525878906, 57.599998474121094, 58.29999923706055, 58.29999923706055, 48.31999969482422, 48.31999969482422, 48.31999969482422, 51.20000076293945, 51.20000076293945, 53.20000076293945, 54.20000076293945, 55.20000076293945, 55.20000076293945, 50.439998626708984, 50.959999084472656, 51.47999954223633, 52.0, 52.5, 53.0, 53.5, 54.0, 54.0, 51.58000183105469, 51.58000183105469, 53.02000045776367, 53.5, 53.900001525878906, 54.29999923706055, 54.70000076293945, 55.099998474121094, 55.099998474121094]}, {\"label\": \"Freedom\", \"values\": [0.4898630380630493, 0.4898630380630493, 0.43138498067855835, 0.43138498067855835, 0.43138498067855835, 0.43138498067855835, 0.6463986039161682, 0.6463986039161682, 0.6463986039161682, 0.7800177931785583, 0.7800177931785583, 0.7800177931785583, 0.7800177931785583, 0.6240565180778503, 0.6452523469924927, 0.6452523469924927, 0.6452523469924927, 0.6452523469924927, 0.5629081130027771, 0.4882103502750397, 0.5667953491210938, 0.4743608832359314, 0.52522212266922, 0.6148496866226196, 0.6503545641899109, 0.5372456908226013, 0.5372456908226013, 0.5572862029075623, 0.4803941547870636, 0.5560992956161499, 0.5737637877464294, 0.6373667120933533, 0.704239547252655, 0.704239547252655, 0.704239547252655, 0.704239547252655, 0.5904508829116821, 0.5904508829116821, 0.5904508829116821, 0.6714308857917786, 0.7634760141372681, 0.7333899140357971, 0.7657695412635803, 0.7058745622634888, 0.7058745622634888, 0.48700788617134094, 0.47955039143562317, 0.5288050174713135, 0.5447536110877991, 0.5696454048156738, 0.5703479051589966, 0.551473081111908, 0.5495352149009705, 0.5495352149009705, 0.6373627185821533, 0.7519952654838562, 0.7857667207717896, 0.8013907074928284, 0.8098841309547424, 0.8479207754135132, 0.7989151477813721, 0.7648642063140869, 0.7648642063140869, 0.6392068266868591, 0.6392068266868591, 0.6392068266868591, 0.8132292628288269, 0.8132292628288269, 0.8226705193519592, 0.896621584892273, 0.8698102235794067, 0.8698102235794067, 0.7344309091567993, 0.8253870606422424, 0.687634289264679, 0.7281283140182495, 0.7019273042678833, 0.6835575699806213, 0.7906656265258789, 0.8313618898391724, 0.8313618898391724, 0.5840883255004883, 0.5840883255004883, 0.6631932258605957, 0.7715772390365601, 0.7302867770195007, 0.7166944146156311, 0.6119662523269653, 0.6174197793006897, 0.6174197793006897]}, {\"label\": \"Generosity\", \"values\": [-0.06243378669023514, -0.06243378669023514, -0.05879968777298927, -0.05879968777298927, -0.05879968777298927, -0.05879968777298927, -0.023876165971159935, -0.023876165971159935, -0.023876165971159935, -0.015844183042645454, -0.015844183042645454, -0.015844183042645454, -0.015844183042645454, 0.03262311965227127, 0.07278610020875931, 0.07278610020875931, 0.07278610020875931, 0.07278610020875931, -0.0340399406850338, -0.0454583466053009, -0.06986323744058609, -0.02865956537425518, 0.05205228552222252, 0.007875287905335426, 0.02423730678856373, 0.05500093847513199, 0.05500093847513199, -0.03452160581946373, 0.012176308780908585, 0.00918725598603487, -0.04758510738611221, -0.024395395070314407, 0.06837817281484604, 0.06837817281484604, 0.06837817281484604, 0.06837817281484604, -0.029853735119104385, -0.029853735119104385, -0.029853735119104385, -0.06149032339453697, 0.03305376321077347, -0.012056075036525726, 0.049856483936309814, 0.050611626356840134, 0.050611626356840134, -0.054980259388685226, -0.018502252176404, -0.023182135075330734, -0.04082195833325386, -0.06898024678230286, -0.03329531475901604, 0.0025956102181226015, -0.012468654662370682, -0.012468654662370682, 0.16919554769992828, 0.07846467196941376, 0.061088211834430695, 0.05806805565953255, 0.06585712730884552, 0.02489175647497177, 0.07271962612867355, 0.003596819471567869, 0.003596819471567869, -0.024201253429055214, -0.024201253429055214, -0.024201253429055214, 0.08872713893651962, 0.08872713893651962, -0.029964828863739967, 0.04856383055448532, 0.07274501770734787, 0.07274501770734787, -0.06350123137235641, -0.0774265006184578, -0.04631692171096802, -0.03214083984494209, -0.015741674229502678, -0.030251333490014076, 0.008891422301530838, 0.025959890335798264, 0.025959890335798264, -0.06982320547103882, -0.06982320547103882, -0.0847100093960762, -0.06868194788694382, -0.006935871671885252, -0.04217866435647011, -0.006869466509670019, 0.06477482616901398, 0.06477482616901398]}, {\"label\": \"Corruption\", \"values\": [0.6771076917648315, 0.6771076917648315, 0.8076188564300537, 0.8076188564300537, 0.8076188564300537, 0.8076188564300537, 0.5986076593399048, 0.5986076593399048, 0.5986076593399048, 0.8344988822937012, 0.8344988822937012, 0.8344988822937012, 0.8344988822937012, 0.8590730428695679, 0.8895660042762756, 0.8895660042762756, 0.8895660042762756, 0.8895660042762756, 0.884475827217102, 0.8819723725318909, 0.8809340000152588, 0.8886393904685974, 0.8197888731956482, 0.7923899292945862, 0.7628793120384216, 0.8322834968566895, 0.8322834968566895, 0.8074066042900085, 0.9129915237426758, 0.8136759996414185, 0.8663780093193054, 0.8749996423721313, 0.8091818690299988, 0.8091818690299988, 0.8091818690299988, 0.8091818690299988, 0.868966281414032, 0.868966281414032, 0.868966281414032, 0.9026726484298706, 0.9012674689292908, 0.8668063879013062, 0.8679240942001343, 0.8284689784049988, 0.8284689784049988, 0.8535904884338379, 0.8677076697349548, 0.7910556197166443, 0.8609533905982971, 0.8641711473464966, 0.8472607731819153, 0.8891456723213196, 0.7199826836585999, 0.7199826836585999, 0.8857849836349487, 0.856666088104248, 0.8240178823471069, 0.8348253965377808, 0.8236150145530701, 0.7346366047859192, 0.7659637928009033, 0.680247962474823, 0.680247962474823, 0.7187589406967163, 0.7187589406967163, 0.7187589406967163, 0.631573498249054, 0.631573498249054, 0.6821089386940002, 0.6912204027175903, 0.6819004416465759, 0.6819004416465759, 0.7773408889770508, 0.7109634280204773, 0.6047284603118896, 0.7025496959686279, 0.8144938945770264, 0.7776600122451782, 0.6371667981147766, 0.7288551330566406, 0.7288551330566406, 0.832003653049469, 0.832003653049469, 0.7953417897224426, 0.73326176404953, 0.8150441646575928, 0.725519597530365, 0.8085377216339111, 0.7366750240325928, 0.7366750240325928]}, {\"label\": \"Positive\", \"values\": [0.688906729221344, 0.688906729221344, 0.6556637287139893, 0.6556637287139893, 0.6556637287139893, 0.6556637287139893, 0.6664415001869202, 0.6664415001869202, 0.6664415001869202, 0.5240684747695923, 0.5240684747695923, 0.5240684747695923, 0.5240684747695923, 0.5786538124084473, 0.6138651967048645, 0.6138651967048645, 0.6138651967048645, 0.6138651967048645, 0.5265463590621948, 0.4615911841392517, 0.5363712906837463, 0.6066826581954956, 0.5824582576751709, 0.6275031566619873, 0.552737295627594, 0.5872111916542053, 0.5872111916542053, 0.6340030431747437, 0.5891684889793396, 0.558870255947113, 0.5891307592391968, 0.6462695002555847, 0.5505259037017822, 0.5505259037017822, 0.5505259037017822, 0.5505259037017822, 0.5428492426872253, 0.5428492426872253, 0.5428492426872253, 0.5050674080848694, 0.6355275511741638, 0.667946457862854, 0.6597315669059753, 0.635608971118927, 0.635608971118927, 0.689855694770813, 0.7343156933784485, 0.747616171836853, 0.8017588257789612, 0.8131913542747498, 0.7516980767250061, 0.7523410320281982, 0.7231946587562561, 0.7231946587562561, 0.8156164288520813, 0.8084574341773987, 0.7037450671195984, 0.6326212882995605, 0.6031045913696289, 0.6086665391921997, 0.5863004326820374, 0.5366970300674438, 0.5366970300674438, 0.5920061469078064, 0.5920061469078064, 0.5920061469078064, 0.5644606351852417, 0.5644606351852417, 0.6483814120292664, 0.6396395564079285, 0.5872747302055359, 0.5872747302055359, 0.6025446653366089, 0.650200366973877, 0.6776120662689209, 0.6818726658821106, 0.6748589277267456, 0.7311614155769348, 0.7705576419830322, 0.8159151673316956, 0.8159151673316956, 0.4802805781364441, 0.4802805781364441, 0.5827498435974121, 0.5988049507141113, 0.6042441725730896, 0.6141889691352844, 0.6084486246109009, 0.5902292728424072, 0.5902292728424072]}, {\"label\": \"Negative\", \"values\": [0.1903449445962906, 0.1903449445962906, 0.25109463930130005, 0.25109463930130005, 0.25109463930130005, 0.25109463930130005, 0.3627665936946869, 0.3627665936946869, 0.3627665936946869, 0.27717992663383484, 0.27717992663383484, 0.27717992663383484, 0.27717992663383484, 0.4942680597305298, 0.5993354916572571, 0.5993354916572571, 0.5993354916572571, 0.5993354916572571, 0.31574714183807373, 0.31417423486709595, 0.32852885127067566, 0.3584379255771637, 0.46756675839424133, 0.538245439529419, 0.543836236000061, 0.46006128191947937, 0.46006128191947937, 0.22965137660503387, 0.18709465861320496, 0.30463507771492004, 0.3010493814945221, 0.22241148352622986, 0.40426206588745117, 0.40426206588745117, 0.40426206588745117, 0.40426206588745117, 0.44285961985588074, 0.44285961985588074, 0.44285961985588074, 0.38848862051963806, 0.5090466737747192, 0.3913305401802063, 0.43609949946403503, 0.3891325891017914, 0.3891325891017914, 0.19397741556167603, 0.24123084545135498, 0.1921817511320114, 0.22624345123767853, 0.20425541698932648, 0.3748380243778229, 0.3620138168334961, 0.3039596676826477, 0.3039596676826477, 0.2004629224538803, 0.2478286772966385, 0.26271340250968933, 0.2597639560699463, 0.32473891973495483, 0.31208834052085876, 0.3648940324783325, 0.348162442445755, 0.348162442445755, 0.24341605603694916, 0.24341605603694916, 0.24341605603694916, 0.3395843505859375, 0.3395843505859375, 0.3531765043735504, 0.39727872610092163, 0.384122759103775, 0.384122759103775, 0.14155304431915283, 0.20813019573688507, 0.2046612799167633, 0.21842257678508759, 0.32544195652008057, 0.4265223741531372, 0.5025545358657837, 0.3044382631778717, 0.3044382631778717, 0.39536261558532715, 0.39536261558532715, 0.4428131878376007, 0.4157807230949402, 0.4828858971595764, 0.42582425475120544, 0.44645437598228455, 0.4438698887825012, 0.4438698887825012]}, {\"label\": \"Internet access\", \"values\": [1.11, 1.219999945, 1.264218111, 1.38, 4.866224464, 5.173626777, 2.660748535, 2.660748535, 2.660748535, 2.2, 3.0, 3.4, 3.6, 3.8, 4.0, 4.339254945, 4.339254945, 4.339254945, 1.9, 2.1, 2.5, 2.9, 3.5, 5.0, 6.49999812, 6.49999812, 6.49999812, 1.2, 1.679961015, 2.2, 3.0, 3.799999507, 6.20997406, 8.619904916, 8.619904916, 8.619904916, 2.5, 2.6, 3.2, 5.41, 33.0, 7.319106411, 7.984479722, 7.984479722, 7.984479722, 1.9, 2.3, 3.0, 3.7, 4.17397219, 4.713662899, 4.713662899, 4.713662899, 4.713662899, 3.33, 4.3506, 5.05, 5.83, 5.3, 11.4708908, 13.78216439, 13.78216439, 13.78216439, 4.3, 6.0, 7.29393733, 9.236314896, 16.93353299, 17.52123909, 20.7740003, 20.7740003, 20.7740003, 0.9, 1.05, 1.15, 1.248675689, 2.476219975, 4.32275803, 10.22431156, 5.250487687, 5.250487687, 3.5, 4.0, 4.5, 5.7, 7.12, 11.31, 12.36022497, 12.36022497, 12.36022497]}], \"marker\": {\"color\": [0, 1, 2, 3, 4, 5, 6, 7, 8, 0, 1, 2, 3, 4, 5, 6, 7, 8, 0, 1, 2, 3, 4, 5, 6, 7, 8, 0, 1, 2, 3, 4, 5, 6, 7, 8, 0, 1, 2, 3, 4, 5, 6, 7, 8, 0, 1, 2, 3, 4, 5, 6, 7, 8, 0, 1, 2, 3, 4, 5, 6, 7, 8, 0, 1, 2, 3, 4, 5, 6, 7, 8, 0, 1, 2, 3, 4, 5, 6, 7, 8, 0, 1, 2, 3, 4, 5, 6, 7, 8], \"line\": {\"color\": \"white\", \"width\": 0.5}, \"showscale\": true}, \"text\": [2011.0, 2012.0, 2013.0, 2014.0, 2015.0, 2016.0, 2017.0, 2018.0, 2019.0, 2011.0, 2012.0, 2013.0, 2014.0, 2015.0, 2016.0, 2017.0, 2018.0, 2019.0, 2011.0, 2012.0, 2013.0, 2014.0, 2015.0, 2016.0, 2017.0, 2018.0, 2019.0, 2011.0, 2012.0, 2013.0, 2014.0, 2015.0, 2016.0, 2017.0, 2018.0, 2019.0, 2011.0, 2012.0, 2013.0, 2014.0, 2015.0, 2016.0, 2017.0, 2018.0, 2019.0, 2011.0, 2012.0, 2013.0, 2014.0, 2015.0, 2016.0, 2017.0, 2018.0, 2019.0, 2011.0, 2012.0, 2013.0, 2014.0, 2015.0, 2016.0, 2017.0, 2018.0, 2019.0, 2011.0, 2012.0, 2013.0, 2014.0, 2015.0, 2016.0, 2017.0, 2018.0, 2019.0, 2011.0, 2012.0, 2013.0, 2014.0, 2015.0, 2016.0, 2017.0, 2018.0, 2019.0, 2011.0, 2012.0, 2013.0, 2014.0, 2015.0, 2016.0, 2017.0, 2018.0, 2019.0], \"type\": \"splom\"}],\n",
              "                        {\"autosize\": false, \"height\": 1200, \"template\": {\"data\": {\"bar\": [{\"error_x\": {\"color\": \"#2a3f5f\"}, \"error_y\": {\"color\": \"#2a3f5f\"}, \"marker\": {\"line\": {\"color\": \"#E5ECF6\", \"width\": 0.5}}, \"type\": \"bar\"}], \"barpolar\": [{\"marker\": {\"line\": {\"color\": \"#E5ECF6\", \"width\": 0.5}}, \"type\": \"barpolar\"}], \"carpet\": [{\"aaxis\": {\"endlinecolor\": \"#2a3f5f\", \"gridcolor\": \"white\", \"linecolor\": \"white\", \"minorgridcolor\": \"white\", \"startlinecolor\": \"#2a3f5f\"}, \"baxis\": {\"endlinecolor\": \"#2a3f5f\", \"gridcolor\": \"white\", \"linecolor\": \"white\", \"minorgridcolor\": \"white\", \"startlinecolor\": \"#2a3f5f\"}, \"type\": \"carpet\"}], \"choropleth\": [{\"colorbar\": {\"outlinewidth\": 0, \"ticks\": \"\"}, \"type\": \"choropleth\"}], \"contour\": [{\"colorbar\": {\"outlinewidth\": 0, \"ticks\": \"\"}, \"colorscale\": [[0.0, \"#0d0887\"], [0.1111111111111111, \"#46039f\"], [0.2222222222222222, \"#7201a8\"], [0.3333333333333333, \"#9c179e\"], [0.4444444444444444, \"#bd3786\"], [0.5555555555555556, \"#d8576b\"], [0.6666666666666666, \"#ed7953\"], [0.7777777777777778, \"#fb9f3a\"], [0.8888888888888888, \"#fdca26\"], [1.0, \"#f0f921\"]], \"type\": \"contour\"}], \"contourcarpet\": [{\"colorbar\": {\"outlinewidth\": 0, \"ticks\": \"\"}, \"type\": \"contourcarpet\"}], \"heatmap\": [{\"colorbar\": {\"outlinewidth\": 0, \"ticks\": \"\"}, \"colorscale\": [[0.0, \"#0d0887\"], [0.1111111111111111, \"#46039f\"], [0.2222222222222222, \"#7201a8\"], [0.3333333333333333, \"#9c179e\"], [0.4444444444444444, \"#bd3786\"], [0.5555555555555556, \"#d8576b\"], [0.6666666666666666, \"#ed7953\"], [0.7777777777777778, \"#fb9f3a\"], [0.8888888888888888, \"#fdca26\"], [1.0, \"#f0f921\"]], \"type\": \"heatmap\"}], \"heatmapgl\": [{\"colorbar\": {\"outlinewidth\": 0, \"ticks\": \"\"}, \"colorscale\": [[0.0, \"#0d0887\"], [0.1111111111111111, \"#46039f\"], [0.2222222222222222, \"#7201a8\"], [0.3333333333333333, \"#9c179e\"], [0.4444444444444444, \"#bd3786\"], [0.5555555555555556, \"#d8576b\"], [0.6666666666666666, \"#ed7953\"], [0.7777777777777778, \"#fb9f3a\"], [0.8888888888888888, \"#fdca26\"], [1.0, \"#f0f921\"]], \"type\": \"heatmapgl\"}], \"histogram\": [{\"marker\": {\"colorbar\": {\"outlinewidth\": 0, \"ticks\": \"\"}}, \"type\": \"histogram\"}], \"histogram2d\": [{\"colorbar\": {\"outlinewidth\": 0, \"ticks\": \"\"}, \"colorscale\": [[0.0, \"#0d0887\"], [0.1111111111111111, \"#46039f\"], [0.2222222222222222, \"#7201a8\"], [0.3333333333333333, \"#9c179e\"], [0.4444444444444444, \"#bd3786\"], [0.5555555555555556, \"#d8576b\"], [0.6666666666666666, \"#ed7953\"], [0.7777777777777778, \"#fb9f3a\"], [0.8888888888888888, \"#fdca26\"], [1.0, \"#f0f921\"]], \"type\": \"histogram2d\"}], \"histogram2dcontour\": [{\"colorbar\": {\"outlinewidth\": 0, \"ticks\": \"\"}, \"colorscale\": [[0.0, \"#0d0887\"], [0.1111111111111111, \"#46039f\"], [0.2222222222222222, \"#7201a8\"], [0.3333333333333333, \"#9c179e\"], [0.4444444444444444, \"#bd3786\"], [0.5555555555555556, \"#d8576b\"], [0.6666666666666666, \"#ed7953\"], [0.7777777777777778, \"#fb9f3a\"], [0.8888888888888888, \"#fdca26\"], [1.0, \"#f0f921\"]], \"type\": \"histogram2dcontour\"}], \"mesh3d\": [{\"colorbar\": {\"outlinewidth\": 0, \"ticks\": \"\"}, \"type\": \"mesh3d\"}], \"parcoords\": [{\"line\": {\"colorbar\": {\"outlinewidth\": 0, \"ticks\": \"\"}}, \"type\": \"parcoords\"}], \"pie\": [{\"automargin\": true, \"type\": \"pie\"}], \"scatter\": [{\"marker\": {\"colorbar\": {\"outlinewidth\": 0, \"ticks\": \"\"}}, \"type\": \"scatter\"}], \"scatter3d\": [{\"line\": {\"colorbar\": {\"outlinewidth\": 0, \"ticks\": \"\"}}, \"marker\": {\"colorbar\": {\"outlinewidth\": 0, \"ticks\": \"\"}}, \"type\": \"scatter3d\"}], \"scattercarpet\": [{\"marker\": {\"colorbar\": {\"outlinewidth\": 0, \"ticks\": \"\"}}, \"type\": \"scattercarpet\"}], \"scattergeo\": [{\"marker\": {\"colorbar\": {\"outlinewidth\": 0, \"ticks\": \"\"}}, \"type\": \"scattergeo\"}], \"scattergl\": [{\"marker\": {\"colorbar\": {\"outlinewidth\": 0, \"ticks\": \"\"}}, \"type\": \"scattergl\"}], \"scattermapbox\": [{\"marker\": {\"colorbar\": {\"outlinewidth\": 0, \"ticks\": \"\"}}, \"type\": \"scattermapbox\"}], \"scatterpolar\": [{\"marker\": {\"colorbar\": {\"outlinewidth\": 0, \"ticks\": \"\"}}, \"type\": \"scatterpolar\"}], \"scatterpolargl\": [{\"marker\": {\"colorbar\": {\"outlinewidth\": 0, \"ticks\": \"\"}}, \"type\": \"scatterpolargl\"}], \"scatterternary\": [{\"marker\": {\"colorbar\": {\"outlinewidth\": 0, \"ticks\": \"\"}}, \"type\": \"scatterternary\"}], \"surface\": [{\"colorbar\": {\"outlinewidth\": 0, \"ticks\": \"\"}, \"colorscale\": [[0.0, \"#0d0887\"], [0.1111111111111111, \"#46039f\"], [0.2222222222222222, \"#7201a8\"], [0.3333333333333333, \"#9c179e\"], [0.4444444444444444, \"#bd3786\"], [0.5555555555555556, \"#d8576b\"], [0.6666666666666666, \"#ed7953\"], [0.7777777777777778, \"#fb9f3a\"], [0.8888888888888888, \"#fdca26\"], [1.0, \"#f0f921\"]], \"type\": \"surface\"}], \"table\": [{\"cells\": {\"fill\": {\"color\": \"#EBF0F8\"}, \"line\": {\"color\": \"white\"}}, \"header\": {\"fill\": {\"color\": \"#C8D4E3\"}, \"line\": {\"color\": \"white\"}}, \"type\": \"table\"}]}, \"layout\": {\"annotationdefaults\": {\"arrowcolor\": \"#2a3f5f\", \"arrowhead\": 0, \"arrowwidth\": 1}, \"coloraxis\": {\"colorbar\": {\"outlinewidth\": 0, \"ticks\": \"\"}}, \"colorscale\": {\"diverging\": [[0, \"#8e0152\"], [0.1, \"#c51b7d\"], [0.2, \"#de77ae\"], [0.3, \"#f1b6da\"], [0.4, \"#fde0ef\"], [0.5, \"#f7f7f7\"], [0.6, \"#e6f5d0\"], [0.7, \"#b8e186\"], [0.8, \"#7fbc41\"], [0.9, \"#4d9221\"], [1, \"#276419\"]], \"sequential\": [[0.0, \"#0d0887\"], [0.1111111111111111, \"#46039f\"], [0.2222222222222222, \"#7201a8\"], [0.3333333333333333, \"#9c179e\"], [0.4444444444444444, \"#bd3786\"], [0.5555555555555556, \"#d8576b\"], [0.6666666666666666, \"#ed7953\"], [0.7777777777777778, \"#fb9f3a\"], [0.8888888888888888, \"#fdca26\"], [1.0, \"#f0f921\"]], \"sequentialminus\": [[0.0, \"#0d0887\"], [0.1111111111111111, \"#46039f\"], [0.2222222222222222, \"#7201a8\"], [0.3333333333333333, \"#9c179e\"], [0.4444444444444444, \"#bd3786\"], [0.5555555555555556, \"#d8576b\"], [0.6666666666666666, \"#ed7953\"], [0.7777777777777778, \"#fb9f3a\"], [0.8888888888888888, \"#fdca26\"], [1.0, \"#f0f921\"]]}, \"colorway\": [\"#636efa\", \"#EF553B\", \"#00cc96\", \"#ab63fa\", \"#FFA15A\", \"#19d3f3\", \"#FF6692\", \"#B6E880\", \"#FF97FF\", \"#FECB52\"], \"font\": {\"color\": \"#2a3f5f\"}, \"geo\": {\"bgcolor\": \"white\", \"lakecolor\": \"white\", \"landcolor\": \"#E5ECF6\", \"showlakes\": true, \"showland\": true, \"subunitcolor\": \"white\"}, \"hoverlabel\": {\"align\": \"left\"}, \"hovermode\": \"closest\", \"mapbox\": {\"style\": \"light\"}, \"paper_bgcolor\": \"white\", \"plot_bgcolor\": \"#E5ECF6\", \"polar\": {\"angularaxis\": {\"gridcolor\": \"white\", \"linecolor\": \"white\", \"ticks\": \"\"}, \"bgcolor\": \"#E5ECF6\", \"radialaxis\": {\"gridcolor\": \"white\", \"linecolor\": \"white\", \"ticks\": \"\"}}, \"scene\": {\"xaxis\": {\"backgroundcolor\": \"#E5ECF6\", \"gridcolor\": \"white\", \"gridwidth\": 2, \"linecolor\": \"white\", \"showbackground\": true, \"ticks\": \"\", \"zerolinecolor\": \"white\"}, \"yaxis\": {\"backgroundcolor\": \"#E5ECF6\", \"gridcolor\": \"white\", \"gridwidth\": 2, \"linecolor\": \"white\", \"showbackground\": true, \"ticks\": \"\", \"zerolinecolor\": \"white\"}, \"zaxis\": {\"backgroundcolor\": \"#E5ECF6\", \"gridcolor\": \"white\", \"gridwidth\": 2, \"linecolor\": \"white\", \"showbackground\": true, \"ticks\": \"\", \"zerolinecolor\": \"white\"}}, \"shapedefaults\": {\"line\": {\"color\": \"#2a3f5f\"}}, \"ternary\": {\"aaxis\": {\"gridcolor\": \"white\", \"linecolor\": \"white\", \"ticks\": \"\"}, \"baxis\": {\"gridcolor\": \"white\", \"linecolor\": \"white\", \"ticks\": \"\"}, \"bgcolor\": \"#E5ECF6\", \"caxis\": {\"gridcolor\": \"white\", \"linecolor\": \"white\", \"ticks\": \"\"}}, \"title\": {\"x\": 0.05}, \"xaxis\": {\"automargin\": true, \"gridcolor\": \"white\", \"linecolor\": \"white\", \"ticks\": \"\", \"title\": {\"standoff\": 15}, \"zerolinecolor\": \"white\", \"zerolinewidth\": 2}, \"yaxis\": {\"automargin\": true, \"gridcolor\": \"white\", \"linecolor\": \"white\", \"ticks\": \"\", \"title\": {\"standoff\": 15}, \"zerolinecolor\": \"white\", \"zerolinewidth\": 2}}}, \"title\": {\"text\": \"SPLOM full dataset\"}, \"width\": 1200},\n",
              "                        {\"responsive\": true}\n",
              "                    ).then(function(){\n",
              "                            \n",
              "var gd = document.getElementById('f360ff38-1d15-4c33-8121-1e204a33bd57');\n",
              "var x = new MutationObserver(function (mutations, observer) {{\n",
              "        var display = window.getComputedStyle(gd).display;\n",
              "        if (!display || display === 'none') {{\n",
              "            console.log([gd, 'removed!']);\n",
              "            Plotly.purge(gd);\n",
              "            observer.disconnect();\n",
              "        }}\n",
              "}});\n",
              "\n",
              "// Listen for the removal of the full notebook cells\n",
              "var notebookContainer = gd.closest('#notebook-container');\n",
              "if (notebookContainer) {{\n",
              "    x.observe(notebookContainer, {childList: true});\n",
              "}}\n",
              "\n",
              "// Listen for the clearing of the current output cell\n",
              "var outputEl = gd.closest('.output');\n",
              "if (outputEl) {{\n",
              "    x.observe(outputEl, {childList: true});\n",
              "}}\n",
              "\n",
              "                        })\n",
              "                };\n",
              "                \n",
              "            </script>\n",
              "        </div>\n",
              "</body>\n",
              "</html>"
            ]
          },
          "metadata": {
            "tags": []
          }
        }
      ]
    },
    {
      "cell_type": "code",
      "metadata": {
        "colab": {
          "background_save": true
        },
        "id": "fSjl7TQMfF7j",
        "outputId": "f9b1d652-0fb2-4849-887b-6834dd2fddd4"
      },
      "source": [
        "corrMatrix = bottom10GDP.drop(\"year\", axis=1).corr().reset_index().melt('index')\n",
        "corrMatrix.columns = ['var1', 'var2', 'correlation']\n",
        "\n",
        "base = alt.Chart(corrMatrix).transform_filter(\n",
        "    alt.datum.var1 < alt.datum.var2\n",
        ").encode(\n",
        "    x='var1',\n",
        "    y='var2',\n",
        ").properties(\n",
        "    width=alt.Step(50),\n",
        "    height=alt.Step(50)\n",
        ")\n",
        "\n",
        "rects = base.mark_rect().encode(\n",
        "    color='correlation'\n",
        ")\n",
        "\n",
        "text = base.mark_text(\n",
        "    size=15\n",
        ").encode(\n",
        "    text=alt.Text('correlation', format=\".2f\"),\n",
        "    color=alt.condition(\n",
        "        \"datum.correlation > 0.5\",\n",
        "        alt.value('white'),\n",
        "        alt.value('black')\n",
        "    )\n",
        ")\n",
        "\n",
        "corrmatrix = rects + text\n",
        "corrmatrix"
      ],
      "execution_count": null,
      "outputs": [
        {
          "output_type": "execute_result",
          "data": {
            "text/html": [
              "\n",
              "<div id=\"altair-viz-5f034d4219c143e983ed732bd9947762\"></div>\n",
              "<script type=\"text/javascript\">\n",
              "  (function(spec, embedOpt){\n",
              "    let outputDiv = document.currentScript.previousElementSibling;\n",
              "    if (outputDiv.id !== \"altair-viz-5f034d4219c143e983ed732bd9947762\") {\n",
              "      outputDiv = document.getElementById(\"altair-viz-5f034d4219c143e983ed732bd9947762\");\n",
              "    }\n",
              "    const paths = {\n",
              "      \"vega\": \"https://cdn.jsdelivr.net/npm//vega@5?noext\",\n",
              "      \"vega-lib\": \"https://cdn.jsdelivr.net/npm//vega-lib?noext\",\n",
              "      \"vega-lite\": \"https://cdn.jsdelivr.net/npm//vega-lite@4.8.1?noext\",\n",
              "      \"vega-embed\": \"https://cdn.jsdelivr.net/npm//vega-embed@6?noext\",\n",
              "    };\n",
              "\n",
              "    function loadScript(lib) {\n",
              "      return new Promise(function(resolve, reject) {\n",
              "        var s = document.createElement('script');\n",
              "        s.src = paths[lib];\n",
              "        s.async = true;\n",
              "        s.onload = () => resolve(paths[lib]);\n",
              "        s.onerror = () => reject(`Error loading script: ${paths[lib]}`);\n",
              "        document.getElementsByTagName(\"head\")[0].appendChild(s);\n",
              "      });\n",
              "    }\n",
              "\n",
              "    function showError(err) {\n",
              "      outputDiv.innerHTML = `<div class=\"error\" style=\"color:red;\">${err}</div>`;\n",
              "      throw err;\n",
              "    }\n",
              "\n",
              "    function displayChart(vegaEmbed) {\n",
              "      vegaEmbed(outputDiv, spec, embedOpt)\n",
              "        .catch(err => showError(`Javascript Error: ${err.message}<br>This usually means there's a typo in your chart specification. See the javascript console for the full traceback.`));\n",
              "    }\n",
              "\n",
              "    if(typeof define === \"function\" && define.amd) {\n",
              "      requirejs.config({paths});\n",
              "      require([\"vega-embed\"], displayChart, err => showError(`Error loading script: ${err.message}`));\n",
              "    } else if (typeof vegaEmbed === \"function\") {\n",
              "      displayChart(vegaEmbed);\n",
              "    } else {\n",
              "      loadScript(\"vega\")\n",
              "        .then(() => loadScript(\"vega-lite\"))\n",
              "        .then(() => loadScript(\"vega-embed\"))\n",
              "        .catch(showError)\n",
              "        .then(() => displayChart(vegaEmbed));\n",
              "    }\n",
              "  })({\"config\": {\"view\": {\"continuousWidth\": 400, \"continuousHeight\": 300}}, \"layer\": [{\"mark\": \"rect\", \"encoding\": {\"color\": {\"type\": \"quantitative\", \"field\": \"correlation\"}, \"x\": {\"type\": \"nominal\", \"field\": \"var1\"}, \"y\": {\"type\": \"nominal\", \"field\": \"var2\"}}, \"height\": {\"step\": 50}, \"transform\": [{\"filter\": \"(datum.var1 < datum.var2)\"}], \"width\": {\"step\": 50}}, {\"mark\": {\"type\": \"text\", \"size\": 15}, \"encoding\": {\"color\": {\"condition\": {\"value\": \"white\", \"test\": \"datum.correlation > 0.5\"}, \"value\": \"black\"}, \"text\": {\"type\": \"quantitative\", \"field\": \"correlation\", \"format\": \".2f\"}, \"x\": {\"type\": \"nominal\", \"field\": \"var1\"}, \"y\": {\"type\": \"nominal\", \"field\": \"var2\"}}, \"height\": {\"step\": 50}, \"transform\": [{\"filter\": \"(datum.var1 < datum.var2)\"}], \"width\": {\"step\": 50}}], \"data\": {\"name\": \"data-3c68acbfac821a979c54168cbd8337bc\"}, \"$schema\": \"https://vega.github.io/schema/vega-lite/v4.8.1.json\", \"datasets\": {\"data-3c68acbfac821a979c54168cbd8337bc\": [{\"var1\": \"Life Ladder\", \"var2\": \"Life Ladder\", \"correlation\": 1.0}, {\"var1\": \"Log GDP per capita\", \"var2\": \"Life Ladder\", \"correlation\": 0.20879483729708537}, {\"var1\": \"Social support\", \"var2\": \"Life Ladder\", \"correlation\": 0.600859948151003}, {\"var1\": \"Healthy life expectancy at birth\", \"var2\": \"Life Ladder\", \"correlation\": 0.16273632963704873}, {\"var1\": \"Freedom to make life choices\", \"var2\": \"Life Ladder\", \"correlation\": 0.3080241040442871}, {\"var1\": \"Generosity\", \"var2\": \"Life Ladder\", \"correlation\": 0.34898659136633325}, {\"var1\": \"Perceptions of corruption\", \"var2\": \"Life Ladder\", \"correlation\": -0.27063975813119956}, {\"var1\": \"Positive affect\", \"var2\": \"Life Ladder\", \"correlation\": 0.17948306944313758}, {\"var1\": \"Negative affect\", \"var2\": \"Life Ladder\", \"correlation\": 0.02174034969520944}, {\"var1\": \"Individuals (%) with Internet access\", \"var2\": \"Life Ladder\", \"correlation\": 0.2188470230690764}, {\"var1\": \"Life Ladder\", \"var2\": \"Log GDP per capita\", \"correlation\": 0.20879483729708537}, {\"var1\": \"Log GDP per capita\", \"var2\": \"Log GDP per capita\", \"correlation\": 1.0}, {\"var1\": \"Social support\", \"var2\": \"Log GDP per capita\", \"correlation\": 0.32743813147129947}, {\"var1\": \"Healthy life expectancy at birth\", \"var2\": \"Log GDP per capita\", \"correlation\": 0.16111239190072732}, {\"var1\": \"Freedom to make life choices\", \"var2\": \"Log GDP per capita\", \"correlation\": -0.08081767550442938}, {\"var1\": \"Generosity\", \"var2\": \"Log GDP per capita\", \"correlation\": -0.11055345126438779}, {\"var1\": \"Perceptions of corruption\", \"var2\": \"Log GDP per capita\", \"correlation\": 0.29633219438374403}, {\"var1\": \"Positive affect\", \"var2\": \"Log GDP per capita\", \"correlation\": -0.10140593099925872}, {\"var1\": \"Negative affect\", \"var2\": \"Log GDP per capita\", \"correlation\": 0.19507668091348968}, {\"var1\": \"Individuals (%) with Internet access\", \"var2\": \"Log GDP per capita\", \"correlation\": 0.15861325744602653}, {\"var1\": \"Life Ladder\", \"var2\": \"Social support\", \"correlation\": 0.600859948151003}, {\"var1\": \"Log GDP per capita\", \"var2\": \"Social support\", \"correlation\": 0.32743813147129947}, {\"var1\": \"Social support\", \"var2\": \"Social support\", \"correlation\": 1.0}, {\"var1\": \"Healthy life expectancy at birth\", \"var2\": \"Social support\", \"correlation\": 0.32333179718493793}, {\"var1\": \"Freedom to make life choices\", \"var2\": \"Social support\", \"correlation\": -0.05822856443342247}, {\"var1\": \"Generosity\", \"var2\": \"Social support\", \"correlation\": -0.05369805310253828}, {\"var1\": \"Perceptions of corruption\", \"var2\": \"Social support\", \"correlation\": -0.04399041197551643}, {\"var1\": \"Positive affect\", \"var2\": \"Social support\", \"correlation\": 0.16398056283845813}, {\"var1\": \"Negative affect\", \"var2\": \"Social support\", \"correlation\": -0.3553545371480538}, {\"var1\": \"Individuals (%) with Internet access\", \"var2\": \"Social support\", \"correlation\": 0.10491985433521868}, {\"var1\": \"Life Ladder\", \"var2\": \"Healthy life expectancy at birth\", \"correlation\": 0.16273632963704873}, {\"var1\": \"Log GDP per capita\", \"var2\": \"Healthy life expectancy at birth\", \"correlation\": 0.16111239190072732}, {\"var1\": \"Social support\", \"var2\": \"Healthy life expectancy at birth\", \"correlation\": 0.32333179718493793}, {\"var1\": \"Healthy life expectancy at birth\", \"var2\": \"Healthy life expectancy at birth\", \"correlation\": 1.0}, {\"var1\": \"Freedom to make life choices\", \"var2\": \"Healthy life expectancy at birth\", \"correlation\": 0.0928570570455441}, {\"var1\": \"Generosity\", \"var2\": \"Healthy life expectancy at birth\", \"correlation\": 0.022096281134903407}, {\"var1\": \"Perceptions of corruption\", \"var2\": \"Healthy life expectancy at birth\", \"correlation\": -0.21339710514389926}, {\"var1\": \"Positive affect\", \"var2\": \"Healthy life expectancy at birth\", \"correlation\": 0.4597820256484291}, {\"var1\": \"Negative affect\", \"var2\": \"Healthy life expectancy at birth\", \"correlation\": -0.16390533288627557}, {\"var1\": \"Individuals (%) with Internet access\", \"var2\": \"Healthy life expectancy at birth\", \"correlation\": 0.31397373454057126}, {\"var1\": \"Life Ladder\", \"var2\": \"Freedom to make life choices\", \"correlation\": 0.3080241040442871}, {\"var1\": \"Log GDP per capita\", \"var2\": \"Freedom to make life choices\", \"correlation\": -0.08081767550442938}, {\"var1\": \"Social support\", \"var2\": \"Freedom to make life choices\", \"correlation\": -0.05822856443342247}, {\"var1\": \"Healthy life expectancy at birth\", \"var2\": \"Freedom to make life choices\", \"correlation\": 0.0928570570455441}, {\"var1\": \"Freedom to make life choices\", \"var2\": \"Freedom to make life choices\", \"correlation\": 1.0}, {\"var1\": \"Generosity\", \"var2\": \"Freedom to make life choices\", \"correlation\": 0.4087637831697345}, {\"var1\": \"Perceptions of corruption\", \"var2\": \"Freedom to make life choices\", \"correlation\": -0.3490310589543333}, {\"var1\": \"Positive affect\", \"var2\": \"Freedom to make life choices\", \"correlation\": -0.0598820013527099}, {\"var1\": \"Negative affect\", \"var2\": \"Freedom to make life choices\", \"correlation\": 0.14986167525376837}, {\"var1\": \"Individuals (%) with Internet access\", \"var2\": \"Freedom to make life choices\", \"correlation\": 0.526600686789303}, {\"var1\": \"Life Ladder\", \"var2\": \"Generosity\", \"correlation\": 0.34898659136633325}, {\"var1\": \"Log GDP per capita\", \"var2\": \"Generosity\", \"correlation\": -0.11055345126438779}, {\"var1\": \"Social support\", \"var2\": \"Generosity\", \"correlation\": -0.05369805310253828}, {\"var1\": \"Healthy life expectancy at birth\", \"var2\": \"Generosity\", \"correlation\": 0.022096281134903407}, {\"var1\": \"Freedom to make life choices\", \"var2\": \"Generosity\", \"correlation\": 0.4087637831697345}, {\"var1\": \"Generosity\", \"var2\": \"Generosity\", \"correlation\": 1.0}, {\"var1\": \"Perceptions of corruption\", \"var2\": \"Generosity\", \"correlation\": 0.04180809999460893}, {\"var1\": \"Positive affect\", \"var2\": \"Generosity\", \"correlation\": 0.03026763718168674}, {\"var1\": \"Negative affect\", \"var2\": \"Generosity\", \"correlation\": 0.3882369444842012}, {\"var1\": \"Individuals (%) with Internet access\", \"var2\": \"Generosity\", \"correlation\": 0.4234586685600586}, {\"var1\": \"Life Ladder\", \"var2\": \"Perceptions of corruption\", \"correlation\": -0.27063975813119956}, {\"var1\": \"Log GDP per capita\", \"var2\": \"Perceptions of corruption\", \"correlation\": 0.29633219438374403}, {\"var1\": \"Social support\", \"var2\": \"Perceptions of corruption\", \"correlation\": -0.04399041197551643}, {\"var1\": \"Healthy life expectancy at birth\", \"var2\": \"Perceptions of corruption\", \"correlation\": -0.21339710514389926}, {\"var1\": \"Freedom to make life choices\", \"var2\": \"Perceptions of corruption\", \"correlation\": -0.3490310589543333}, {\"var1\": \"Generosity\", \"var2\": \"Perceptions of corruption\", \"correlation\": 0.04180809999460893}, {\"var1\": \"Perceptions of corruption\", \"var2\": \"Perceptions of corruption\", \"correlation\": 1.0}, {\"var1\": \"Positive affect\", \"var2\": \"Perceptions of corruption\", \"correlation\": -0.12389133073041861}, {\"var1\": \"Negative affect\", \"var2\": \"Perceptions of corruption\", \"correlation\": 0.15484857056116272}, {\"var1\": \"Individuals (%) with Internet access\", \"var2\": \"Perceptions of corruption\", \"correlation\": -0.24743394377038797}, {\"var1\": \"Life Ladder\", \"var2\": \"Positive affect\", \"correlation\": 0.17948306944313758}, {\"var1\": \"Log GDP per capita\", \"var2\": \"Positive affect\", \"correlation\": -0.10140593099925872}, {\"var1\": \"Social support\", \"var2\": \"Positive affect\", \"correlation\": 0.16398056283845813}, {\"var1\": \"Healthy life expectancy at birth\", \"var2\": \"Positive affect\", \"correlation\": 0.4597820256484291}, {\"var1\": \"Freedom to make life choices\", \"var2\": \"Positive affect\", \"correlation\": -0.0598820013527099}, {\"var1\": \"Generosity\", \"var2\": \"Positive affect\", \"correlation\": 0.03026763718168674}, {\"var1\": \"Perceptions of corruption\", \"var2\": \"Positive affect\", \"correlation\": -0.12389133073041861}, {\"var1\": \"Positive affect\", \"var2\": \"Positive affect\", \"correlation\": 1.0}, {\"var1\": \"Negative affect\", \"var2\": \"Positive affect\", \"correlation\": -0.3002393898112136}, {\"var1\": \"Individuals (%) with Internet access\", \"var2\": \"Positive affect\", \"correlation\": -0.11070843845162462}, {\"var1\": \"Life Ladder\", \"var2\": \"Negative affect\", \"correlation\": 0.02174034969520944}, {\"var1\": \"Log GDP per capita\", \"var2\": \"Negative affect\", \"correlation\": 0.19507668091348968}, {\"var1\": \"Social support\", \"var2\": \"Negative affect\", \"correlation\": -0.3553545371480538}, {\"var1\": \"Healthy life expectancy at birth\", \"var2\": \"Negative affect\", \"correlation\": -0.16390533288627557}, {\"var1\": \"Freedom to make life choices\", \"var2\": \"Negative affect\", \"correlation\": 0.14986167525376837}, {\"var1\": \"Generosity\", \"var2\": \"Negative affect\", \"correlation\": 0.3882369444842012}, {\"var1\": \"Perceptions of corruption\", \"var2\": \"Negative affect\", \"correlation\": 0.15484857056116272}, {\"var1\": \"Positive affect\", \"var2\": \"Negative affect\", \"correlation\": -0.3002393898112136}, {\"var1\": \"Negative affect\", \"var2\": \"Negative affect\", \"correlation\": 1.0}, {\"var1\": \"Individuals (%) with Internet access\", \"var2\": \"Negative affect\", \"correlation\": 0.33970303378169364}, {\"var1\": \"Life Ladder\", \"var2\": \"Individuals (%) with Internet access\", \"correlation\": 0.2188470230690764}, {\"var1\": \"Log GDP per capita\", \"var2\": \"Individuals (%) with Internet access\", \"correlation\": 0.15861325744602653}, {\"var1\": \"Social support\", \"var2\": \"Individuals (%) with Internet access\", \"correlation\": 0.10491985433521868}, {\"var1\": \"Healthy life expectancy at birth\", \"var2\": \"Individuals (%) with Internet access\", \"correlation\": 0.31397373454057126}, {\"var1\": \"Freedom to make life choices\", \"var2\": \"Individuals (%) with Internet access\", \"correlation\": 0.526600686789303}, {\"var1\": \"Generosity\", \"var2\": \"Individuals (%) with Internet access\", \"correlation\": 0.4234586685600586}, {\"var1\": \"Perceptions of corruption\", \"var2\": \"Individuals (%) with Internet access\", \"correlation\": -0.24743394377038797}, {\"var1\": \"Positive affect\", \"var2\": \"Individuals (%) with Internet access\", \"correlation\": -0.11070843845162462}, {\"var1\": \"Negative affect\", \"var2\": \"Individuals (%) with Internet access\", \"correlation\": 0.33970303378169364}, {\"var1\": \"Individuals (%) with Internet access\", \"var2\": \"Individuals (%) with Internet access\", \"correlation\": 1.0}]}}, {\"mode\": \"vega-lite\"});\n",
              "</script>"
            ],
            "text/plain": [
              "alt.LayerChart(...)"
            ]
          },
          "metadata": {
            "tags": []
          },
          "execution_count": 0
        }
      ]
    },
    {
      "cell_type": "markdown",
      "metadata": {
        "id": "G-hFQI1dMeCr"
      },
      "source": [
        "## Christmas Tree Diagram"
      ]
    },
    {
      "cell_type": "code",
      "metadata": {
        "colab": {
          "background_save": true
        },
        "id": "h8_fCY-mMg4c"
      },
      "source": [
        "years = [2011, 2019]\n",
        "xmas_df = merged_data.copy()\n",
        "xmas_df = xmas_df[xmas_df[\"year\"].isin(years)]\n",
        "xmas_df = xmas_df[[\"Country name\", \"year\", \"Life Ladder\", \"Log GDP per capita\", \"Individuals (%) with Internet access\"]]\n",
        "xmas_df.columns = [\"Country\", \"Year\", \"Happiness\", \"GDP\", \"Internet\"]\n",
        "xmas_df.set_index([\"Country\", \"Year\"], inplace=True)\n",
        "xmas_df = xmas_df.unstack()\n",
        "xmas_df.columns = [''.join(str(col)).strip() for col in xmas_df.columns.values]\n",
        "xmas_df[\"HappinessChangePct\"] = round((xmas_df[\"('Happiness', 2019)\"] - xmas_df[\"('Happiness', 2011)\"])/xmas_df[\"('Happiness', 2011)\"]*100,2)\n",
        "xmas_df[\"GDPChangePct\"] = round((xmas_df[\"('GDP', 2019)\"] - xmas_df[\"('GDP', 2011)\"])/xmas_df[\"('GDP', 2011)\"]*100,2)\n",
        "xmas_df[\"InternetChangePct\"] = round((xmas_df[\"('Internet', 2019)\"] - xmas_df[\"('Internet', 2011)\"])/xmas_df[\"('Internet', 2011)\"]*100,2)\n",
        "xmas_df = xmas_df[[\"HappinessChangePct\", \"GDPChangePct\", \"InternetChangePct\"]]\n",
        "xmas_df[\"HappinessColor\"] = np.where(xmas_df['HappinessChangePct'] < 0, \"-1\", \"1\")\n",
        "xmas_df[\"GDPColor\"] = np.where(xmas_df['GDPChangePct'] < 0, \"red\", \"green\")\n",
        "xmas_df[\"InternetColor\"] = np.where(xmas_df['InternetChangePct'] < 0, \"-1\", \"1\")\n",
        "xmas_df[\"HappinessChangePct\"] = abs(xmas_df[\"HappinessChangePct\"])\n",
        "xmas_df[\"InternetChangePct\"] = abs(xmas_df[\"InternetChangePct\"])\n",
        "xmas_df.reset_index(drop=False,inplace=True)"
      ],
      "execution_count": null,
      "outputs": []
    },
    {
      "cell_type": "code",
      "metadata": {
        "colab": {
          "background_save": true
        },
        "id": "IWgWBH2rdLCJ"
      },
      "source": [
        "xmas_top10_df = xmas_df.copy()\n",
        "xmas_top10_df = xmas_top10_df[xmas_top10_df[\"Country\"].isin(top10GDPcountries)]"
      ],
      "execution_count": null,
      "outputs": []
    },
    {
      "cell_type": "code",
      "metadata": {
        "colab": {
          "background_save": true
        },
        "id": "EG9FBWMDSGOc",
        "outputId": "c92230b6-5ddd-4b62-9b86-1d86d9f1fa2e"
      },
      "source": [
        "data = xmas_top10_df\n",
        "left = alt.Chart(data).mark_bar().encode(\n",
        "    y = alt.Y(\"Country:N\"), #,axis=None\n",
        "    x=alt.X(\"InternetChangePct:Q\",sort=\"descending\", title=\"%\"),\n",
        "    color=alt.Color(\"InternetColor\",scale=alt.Scale(\n",
        "        domain=[-1, 1], range=['red', 'green']),legend=None),\n",
        "    tooltip = \"InternetChangePct\"\n",
        ").properties(title=\"% change of Internet Access\")\n",
        "\n",
        "right = alt.Chart(data).mark_bar().encode(\n",
        "    y = alt.Y(\"Country:N\", axis=alt.Axis(orient='right')), #,axis=None\n",
        "    x=alt.X(\"HappinessChangePct:Q\", title=\"%\"),\n",
        "    color=alt.Color(\"HappinessColor\",scale=alt.Scale(\n",
        "        domain=[-1, 1], range=['red', 'green']),legend=None),\n",
        "    tooltip = \"HappinessChangePct\"\n",
        ").properties(title=\"% change of Happiness\")\n",
        "\n",
        "middle = alt.Chart(data).encode(\n",
        "  y=alt.Y('Country:O', axis=None),\n",
        "  text=alt.Text('GDPChangePct:Q')\n",
        "  ).mark_text().properties(width=30, title=\"GDP % change\")\n",
        "\n",
        "result = left | middle | right\n",
        "result = result.properties(title={\n",
        "    \"text\": \"Changes in the Top 10 GDP Countries\",\"fontSize\": 20}\n",
        "    ).configure_axis(grid=False, domain=False, labelPadding=10)\n",
        "result"
      ],
      "execution_count": null,
      "outputs": [
        {
          "output_type": "execute_result",
          "data": {
            "text/html": [
              "\n",
              "<div id=\"altair-viz-f3e0672a739a488ba833ef94b0ad49de\"></div>\n",
              "<script type=\"text/javascript\">\n",
              "  (function(spec, embedOpt){\n",
              "    let outputDiv = document.currentScript.previousElementSibling;\n",
              "    if (outputDiv.id !== \"altair-viz-f3e0672a739a488ba833ef94b0ad49de\") {\n",
              "      outputDiv = document.getElementById(\"altair-viz-f3e0672a739a488ba833ef94b0ad49de\");\n",
              "    }\n",
              "    const paths = {\n",
              "      \"vega\": \"https://cdn.jsdelivr.net/npm//vega@5?noext\",\n",
              "      \"vega-lib\": \"https://cdn.jsdelivr.net/npm//vega-lib?noext\",\n",
              "      \"vega-lite\": \"https://cdn.jsdelivr.net/npm//vega-lite@4.8.1?noext\",\n",
              "      \"vega-embed\": \"https://cdn.jsdelivr.net/npm//vega-embed@6?noext\",\n",
              "    };\n",
              "\n",
              "    function loadScript(lib) {\n",
              "      return new Promise(function(resolve, reject) {\n",
              "        var s = document.createElement('script');\n",
              "        s.src = paths[lib];\n",
              "        s.async = true;\n",
              "        s.onload = () => resolve(paths[lib]);\n",
              "        s.onerror = () => reject(`Error loading script: ${paths[lib]}`);\n",
              "        document.getElementsByTagName(\"head\")[0].appendChild(s);\n",
              "      });\n",
              "    }\n",
              "\n",
              "    function showError(err) {\n",
              "      outputDiv.innerHTML = `<div class=\"error\" style=\"color:red;\">${err}</div>`;\n",
              "      throw err;\n",
              "    }\n",
              "\n",
              "    function displayChart(vegaEmbed) {\n",
              "      vegaEmbed(outputDiv, spec, embedOpt)\n",
              "        .catch(err => showError(`Javascript Error: ${err.message}<br>This usually means there's a typo in your chart specification. See the javascript console for the full traceback.`));\n",
              "    }\n",
              "\n",
              "    if(typeof define === \"function\" && define.amd) {\n",
              "      requirejs.config({paths});\n",
              "      require([\"vega-embed\"], displayChart, err => showError(`Error loading script: ${err.message}`));\n",
              "    } else if (typeof vegaEmbed === \"function\") {\n",
              "      displayChart(vegaEmbed);\n",
              "    } else {\n",
              "      loadScript(\"vega\")\n",
              "        .then(() => loadScript(\"vega-lite\"))\n",
              "        .then(() => loadScript(\"vega-embed\"))\n",
              "        .catch(showError)\n",
              "        .then(() => displayChart(vegaEmbed));\n",
              "    }\n",
              "  })({\"config\": {\"view\": {\"continuousWidth\": 400, \"continuousHeight\": 300}, \"axis\": {\"domain\": false, \"grid\": false, \"labelPadding\": 10}}, \"hconcat\": [{\"mark\": \"bar\", \"encoding\": {\"color\": {\"type\": \"nominal\", \"field\": \"InternetColor\", \"legend\": null, \"scale\": {\"domain\": [-1, 1], \"range\": [\"red\", \"green\"]}}, \"tooltip\": {\"type\": \"quantitative\", \"field\": \"InternetChangePct\"}, \"x\": {\"type\": \"quantitative\", \"field\": \"InternetChangePct\", \"sort\": \"descending\", \"title\": \"%\"}, \"y\": {\"type\": \"nominal\", \"field\": \"Country\"}}, \"title\": \"% change of Internet Access\"}, {\"mark\": \"text\", \"encoding\": {\"text\": {\"type\": \"quantitative\", \"field\": \"GDPChangePct\"}, \"y\": {\"type\": \"ordinal\", \"axis\": null, \"field\": \"Country\"}}, \"title\": \"GDP % change\", \"width\": 30}, {\"mark\": \"bar\", \"encoding\": {\"color\": {\"type\": \"nominal\", \"field\": \"HappinessColor\", \"legend\": null, \"scale\": {\"domain\": [-1, 1], \"range\": [\"red\", \"green\"]}}, \"tooltip\": {\"type\": \"quantitative\", \"field\": \"HappinessChangePct\"}, \"x\": {\"type\": \"quantitative\", \"field\": \"HappinessChangePct\", \"title\": \"%\"}, \"y\": {\"type\": \"nominal\", \"axis\": {\"orient\": \"right\"}, \"field\": \"Country\"}}, \"title\": \"% change of Happiness\"}], \"data\": {\"name\": \"data-1f60a7b476c3cb5ba8c80bff93b07f40\"}, \"title\": {\"text\": \"Changes in the Top 10 GDP Countries\", \"fontSize\": 20}, \"$schema\": \"https://vega.github.io/schema/vega-lite/v4.8.1.json\", \"datasets\": {\"data-1f60a7b476c3cb5ba8c80bff93b07f40\": [{\"Country\": \"Austria\", \"HappinessChangePct\": 2.53, \"GDPChangePct\": -0.35, \"InternetChangePct\": 11.45, \"HappinessColor\": \"-1\", \"GDPColor\": \"red\", \"InternetColor\": \"1\"}, {\"Country\": \"Denmark\", \"HappinessChangePct\": 0.07, \"GDPChangePct\": 0.59, \"InternetChangePct\": 9.17, \"HappinessColor\": \"-1\", \"GDPColor\": \"green\", \"InternetColor\": \"1\"}, {\"Country\": \"Ireland\", \"HappinessChangePct\": 1.01, \"GDPChangePct\": 4.11, \"InternetChangePct\": 12.86, \"HappinessColor\": \"1\", \"GDPColor\": \"green\", \"InternetColor\": \"1\"}, {\"Country\": \"Luxembourg\", \"HappinessChangePct\": 6.32, \"GDPChangePct\": 0.7, \"InternetChangePct\": 7.81, \"HappinessColor\": \"1\", \"GDPColor\": \"green\", \"InternetColor\": \"1\"}, {\"Country\": \"Netherlands\", \"HappinessChangePct\": 0.45, \"GDPChangePct\": 0.36, \"InternetChangePct\": 2.04, \"HappinessColor\": \"1\", \"GDPColor\": \"green\", \"InternetColor\": \"1\"}, {\"Country\": \"Norway\", \"HappinessChangePct\": 5.06, \"GDPChangePct\": 0.23, \"InternetChangePct\": 4.82, \"HappinessColor\": \"-1\", \"GDPColor\": \"green\", \"InternetColor\": \"1\"}, {\"Country\": \"Singapore\", \"HappinessChangePct\": 2.78, \"GDPChangePct\": 1.58, \"InternetChangePct\": 25.28, \"HappinessColor\": \"-1\", \"GDPColor\": \"green\", \"InternetColor\": \"1\"}, {\"Country\": \"Sweden\", \"HappinessChangePct\": 3.25, \"GDPChangePct\": 0.35, \"InternetChangePct\": 1.86, \"HappinessColor\": \"-1\", \"GDPColor\": \"green\", \"InternetColor\": \"1\"}, {\"Country\": \"Switzerland\", \"HappinessChangePct\": 3.44, \"GDPChangePct\": 0.02, \"InternetChangePct\": 9.34, \"HappinessColor\": \"-1\", \"GDPColor\": \"green\", \"InternetColor\": \"1\"}, {\"Country\": \"United States\", \"HappinessChangePct\": 0.03, \"GDPChangePct\": 0.67, \"InternetChangePct\": 26.92, \"HappinessColor\": \"1\", \"GDPColor\": \"green\", \"InternetColor\": \"1\"}]}}, {\"mode\": \"vega-lite\"});\n",
              "</script>"
            ],
            "text/plain": [
              "alt.HConcatChart(...)"
            ]
          },
          "metadata": {
            "tags": []
          },
          "execution_count": 0
        }
      ]
    },
    {
      "cell_type": "code",
      "metadata": {
        "colab": {
          "background_save": true
        },
        "id": "TVVawwJPccd5"
      },
      "source": [
        "xmas_stable20_df = xmas_df.copy()\n",
        "xmas_stable20_df = xmas_stable20_df[xmas_stable20_df[\"Country\"].isin(stable20countries)]"
      ],
      "execution_count": null,
      "outputs": []
    },
    {
      "cell_type": "code",
      "metadata": {
        "colab": {
          "background_save": true
        },
        "id": "EfQLDhAmdleV",
        "outputId": "b6d3a9fd-b931-4ace-905d-a0cc39224667"
      },
      "source": [
        "data = xmas_stable20_df\n",
        "left = alt.Chart(data).mark_bar().encode(\n",
        "    y = alt.Y(\"Country:N\"), #,axis=None\n",
        "    x=alt.X(\"InternetChangePct:Q\",sort=\"descending\", title=\"%\"),\n",
        "    color=alt.Color(\"InternetColor\",scale=alt.Scale(\n",
        "        domain=[-1, 1], range=['red', 'green']),legend=None),\n",
        "    tooltip = \"InternetChangePct\"\n",
        ").properties(title=\"% change of Internet Access\")\n",
        "\n",
        "right = alt.Chart(data).mark_bar().encode(\n",
        "    y = alt.Y(\"Country:N\", axis=alt.Axis(orient='right')), #,axis=None\n",
        "    x=alt.X(\"HappinessChangePct:Q\", title=\"%\"),\n",
        "    color=alt.Color(\"HappinessColor\",scale=alt.Scale(\n",
        "        domain=[-1, 1], range=['red', 'green']),legend=None),\n",
        "    tooltip = \"HappinessChangePct\"\n",
        ").properties(title=\"% change of Happiness\")\n",
        "\n",
        "middle = alt.Chart(data).encode(\n",
        "  y=alt.Y('Country:O', axis=None),\n",
        "  text=alt.Text('GDPChangePct:Q')\n",
        "  ).mark_text().properties(width=30, title=\"GDP % change\")\n",
        "\n",
        "result = left | middle | right\n",
        "result = result.properties(title={\n",
        "    \"text\": \"Changes in the Top 20 Countries with most stable GDP\",\"fontSize\": 20}\n",
        "    ).configure_axis(grid=False, domain=False, labelPadding=10)\n",
        "result"
      ],
      "execution_count": null,
      "outputs": [
        {
          "output_type": "execute_result",
          "data": {
            "text/html": [
              "\n",
              "<div id=\"altair-viz-5e069de3c07243729709405453c473e5\"></div>\n",
              "<script type=\"text/javascript\">\n",
              "  (function(spec, embedOpt){\n",
              "    let outputDiv = document.currentScript.previousElementSibling;\n",
              "    if (outputDiv.id !== \"altair-viz-5e069de3c07243729709405453c473e5\") {\n",
              "      outputDiv = document.getElementById(\"altair-viz-5e069de3c07243729709405453c473e5\");\n",
              "    }\n",
              "    const paths = {\n",
              "      \"vega\": \"https://cdn.jsdelivr.net/npm//vega@5?noext\",\n",
              "      \"vega-lib\": \"https://cdn.jsdelivr.net/npm//vega-lib?noext\",\n",
              "      \"vega-lite\": \"https://cdn.jsdelivr.net/npm//vega-lite@4.8.1?noext\",\n",
              "      \"vega-embed\": \"https://cdn.jsdelivr.net/npm//vega-embed@6?noext\",\n",
              "    };\n",
              "\n",
              "    function loadScript(lib) {\n",
              "      return new Promise(function(resolve, reject) {\n",
              "        var s = document.createElement('script');\n",
              "        s.src = paths[lib];\n",
              "        s.async = true;\n",
              "        s.onload = () => resolve(paths[lib]);\n",
              "        s.onerror = () => reject(`Error loading script: ${paths[lib]}`);\n",
              "        document.getElementsByTagName(\"head\")[0].appendChild(s);\n",
              "      });\n",
              "    }\n",
              "\n",
              "    function showError(err) {\n",
              "      outputDiv.innerHTML = `<div class=\"error\" style=\"color:red;\">${err}</div>`;\n",
              "      throw err;\n",
              "    }\n",
              "\n",
              "    function displayChart(vegaEmbed) {\n",
              "      vegaEmbed(outputDiv, spec, embedOpt)\n",
              "        .catch(err => showError(`Javascript Error: ${err.message}<br>This usually means there's a typo in your chart specification. See the javascript console for the full traceback.`));\n",
              "    }\n",
              "\n",
              "    if(typeof define === \"function\" && define.amd) {\n",
              "      requirejs.config({paths});\n",
              "      require([\"vega-embed\"], displayChart, err => showError(`Error loading script: ${err.message}`));\n",
              "    } else if (typeof vegaEmbed === \"function\") {\n",
              "      displayChart(vegaEmbed);\n",
              "    } else {\n",
              "      loadScript(\"vega\")\n",
              "        .then(() => loadScript(\"vega-lite\"))\n",
              "        .then(() => loadScript(\"vega-embed\"))\n",
              "        .catch(showError)\n",
              "        .then(() => displayChart(vegaEmbed));\n",
              "    }\n",
              "  })({\"config\": {\"view\": {\"continuousWidth\": 400, \"continuousHeight\": 300}, \"axis\": {\"domain\": false, \"grid\": false, \"labelPadding\": 10}}, \"hconcat\": [{\"mark\": \"bar\", \"encoding\": {\"color\": {\"type\": \"nominal\", \"field\": \"InternetColor\", \"legend\": null, \"scale\": {\"domain\": [-1, 1], \"range\": [\"red\", \"green\"]}}, \"tooltip\": {\"type\": \"quantitative\", \"field\": \"InternetChangePct\"}, \"x\": {\"type\": \"quantitative\", \"field\": \"InternetChangePct\", \"sort\": \"descending\", \"title\": \"%\"}, \"y\": {\"type\": \"nominal\", \"field\": \"Country\"}}, \"title\": \"% change of Internet Access\"}, {\"mark\": \"text\", \"encoding\": {\"text\": {\"type\": \"quantitative\", \"field\": \"GDPChangePct\"}, \"y\": {\"type\": \"ordinal\", \"axis\": null, \"field\": \"Country\"}}, \"title\": \"GDP % change\", \"width\": 30}, {\"mark\": \"bar\", \"encoding\": {\"color\": {\"type\": \"nominal\", \"field\": \"HappinessColor\", \"legend\": null, \"scale\": {\"domain\": [-1, 1], \"range\": [\"red\", \"green\"]}}, \"tooltip\": {\"type\": \"quantitative\", \"field\": \"HappinessChangePct\"}, \"x\": {\"type\": \"quantitative\", \"field\": \"HappinessChangePct\", \"title\": \"%\"}, \"y\": {\"type\": \"nominal\", \"axis\": {\"orient\": \"right\"}, \"field\": \"Country\"}}, \"title\": \"% change of Happiness\"}], \"data\": {\"name\": \"data-351275a89720b967e980cdb4043fedc0\"}, \"title\": {\"text\": \"Changes in the Top 20 Countries with most stable GDP\", \"fontSize\": 20}, \"$schema\": \"https://vega.github.io/schema/vega-lite/v4.8.1.json\", \"datasets\": {\"data-351275a89720b967e980cdb4043fedc0\": [{\"Country\": \"Afghanistan\", \"HappinessChangePct\": 37.22, \"GDPChangePct\": -0.11, \"InternetChangePct\": 128.95, \"HappinessColor\": \"-1\", \"GDPColor\": \"red\", \"InternetColor\": \"1\"}, {\"Country\": \"Algeria\", \"HappinessChangePct\": 15.34, \"GDPChangePct\": 0.28, \"InternetChangePct\": 229.12, \"HappinessColor\": \"-1\", \"GDPColor\": \"green\", \"InternetColor\": \"1\"}, {\"Country\": \"Angola\", \"HappinessChangePct\": 12.97, \"GDPChangePct\": 0.28, \"InternetChangePct\": 362.55, \"HappinessColor\": \"-1\", \"GDPColor\": \"green\", \"InternetColor\": \"1\"}, {\"Country\": \"Australia\", \"HappinessChangePct\": 0.81, \"GDPChangePct\": 0.06, \"InternetChangePct\": 8.88, \"HappinessColor\": \"-1\", \"GDPColor\": \"green\", \"InternetColor\": \"1\"}, {\"Country\": \"Azerbaijan\", \"HappinessChangePct\": 5.35, \"GDPChangePct\": 0.28, \"InternetChangePct\": 59.6, \"HappinessColor\": \"1\", \"GDPColor\": \"green\", \"InternetColor\": \"1\"}, {\"Country\": \"Belize\", \"HappinessChangePct\": 0.0, \"GDPChangePct\": 0.0, \"InternetChangePct\": 53.36, \"HappinessColor\": \"1\", \"GDPColor\": \"green\", \"InternetColor\": \"1\"}, {\"Country\": \"Comoros\", \"HappinessChangePct\": 16.51, \"GDPChangePct\": 0.56, \"InternetChangePct\": 54.15, \"HappinessColor\": \"1\", \"GDPColor\": \"green\", \"InternetColor\": \"1\"}, {\"Country\": \"Djibouti\", \"HappinessChangePct\": 0.0, \"GDPChangePct\": 0.0, \"InternetChangePct\": 695.45, \"HappinessColor\": \"1\", \"GDPColor\": \"green\", \"InternetColor\": \"1\"}, {\"Country\": \"Gabon\", \"HappinessChangePct\": 23.72, \"GDPChangePct\": -0.15, \"InternetChangePct\": 179.56, \"HappinessColor\": \"1\", \"GDPColor\": \"red\", \"InternetColor\": \"1\"}, {\"Country\": \"Gambia, The\", \"HappinessChangePct\": 25.39, \"GDPChangePct\": 0.82, \"InternetChangePct\": 82.48, \"HappinessColor\": \"1\", \"GDPColor\": \"green\", \"InternetColor\": \"1\"}, {\"Country\": \"Haiti\", \"HappinessChangePct\": 18.09, \"GDPChangePct\": 0.54, \"InternetChangePct\": 260.82, \"HappinessColor\": \"-1\", \"GDPColor\": \"green\", \"InternetColor\": \"1\"}, {\"Country\": \"Jamaica\", \"HappinessChangePct\": 17.39, \"GDPChangePct\": 0.24, \"InternetChangePct\": 47.1, \"HappinessColor\": \"1\", \"GDPColor\": \"green\", \"InternetColor\": \"1\"}, {\"Country\": \"Mauritania\", \"HappinessChangePct\": 11.14, \"GDPChangePct\": 0.71, \"InternetChangePct\": 362.24, \"HappinessColor\": \"-1\", \"GDPColor\": \"green\", \"InternetColor\": \"1\"}, {\"Country\": \"Norway\", \"HappinessChangePct\": 5.06, \"GDPChangePct\": 0.23, \"InternetChangePct\": 4.82, \"HappinessColor\": \"-1\", \"GDPColor\": \"green\", \"InternetColor\": \"1\"}, {\"Country\": \"Russian Federation\", \"HappinessChangePct\": 2.23, \"GDPChangePct\": -0.04, \"InternetChangePct\": 68.66, \"HappinessColor\": \"-1\", \"GDPColor\": \"red\", \"InternetColor\": \"1\"}, {\"Country\": \"Sudan\", \"HappinessChangePct\": 9.05, \"GDPChangePct\": 0.26, \"InternetChangePct\": 76.81, \"HappinessColor\": \"-1\", \"GDPColor\": \"green\", \"InternetColor\": \"1\"}, {\"Country\": \"Suriname\", \"HappinessChangePct\": 0.0, \"GDPChangePct\": 0.0, \"InternetChangePct\": 52.95, \"HappinessColor\": \"1\", \"GDPColor\": \"green\", \"InternetColor\": \"1\"}, {\"Country\": \"Switzerland\", \"HappinessChangePct\": 3.44, \"GDPChangePct\": 0.02, \"InternetChangePct\": 9.34, \"HappinessColor\": \"-1\", \"GDPColor\": \"green\", \"InternetColor\": \"1\"}, {\"Country\": \"Tunisia\", \"HappinessChangePct\": 5.99, \"GDPChangePct\": 0.1, \"InternetChangePct\": 70.59, \"HappinessColor\": \"1\", \"GDPColor\": \"green\", \"InternetColor\": \"1\"}, {\"Country\": \"Zambia\", \"HappinessChangePct\": 3.5, \"GDPChangePct\": 0.04, \"InternetChangePct\": 24.35, \"HappinessColor\": \"-1\", \"GDPColor\": \"green\", \"InternetColor\": \"1\"}]}}, {\"mode\": \"vega-lite\"});\n",
              "</script>"
            ],
            "text/plain": [
              "alt.HConcatChart(...)"
            ]
          },
          "metadata": {
            "tags": []
          },
          "execution_count": 0
        }
      ]
    },
    {
      "cell_type": "code",
      "metadata": {
        "colab": {
          "background_save": true
        },
        "id": "wE7mv2YMhmVy"
      },
      "source": [
        "xmas_bottom10_df = xmas_df.copy()\n",
        "xmas_bottom10_df = xmas_bottom10_df[xmas_bottom10_df[\"Country\"].isin(bottom10GDPcountries)]"
      ],
      "execution_count": null,
      "outputs": []
    },
    {
      "cell_type": "code",
      "metadata": {
        "colab": {
          "background_save": true
        },
        "id": "o4NpQ1r0ho_q",
        "outputId": "01a78868-31fb-4d6a-a58a-1696e6e1628a"
      },
      "source": [
        "data = xmas_bottom10_df\n",
        "left = alt.Chart(data).mark_bar().encode(\n",
        "    y = alt.Y(\"Country:N\"), #,axis=None\n",
        "    x=alt.X(\"InternetChangePct:Q\",sort=\"descending\", title=\"%\"),\n",
        "    color=alt.Color(\"InternetColor\",scale=alt.Scale(\n",
        "        domain=[-1, 1], range=['red', 'green']),legend=None),\n",
        "    tooltip = \"InternetChangePct\"\n",
        ").properties(title=\"% change of Internet Access\")\n",
        "\n",
        "right = alt.Chart(data).mark_bar().encode(\n",
        "    y = alt.Y(\"Country:N\", axis=alt.Axis(orient='right')), #,axis=None\n",
        "    x=alt.X(\"HappinessChangePct:Q\", title=\"%\"),\n",
        "    color=alt.Color(\"HappinessColor\",scale=alt.Scale(\n",
        "        domain=[-1, 1], range=['red', 'green']),legend=None),\n",
        "    tooltip = \"HappinessChangePct\"\n",
        ").properties(title=\"% change of Happiness\")\n",
        "\n",
        "middle = alt.Chart(data).encode(\n",
        "  y=alt.Y('Country:O', axis=None),\n",
        "  text=alt.Text('GDPChangePct:Q')\n",
        "  ).mark_text().properties(width=30, title=\"GDP % change\")\n",
        "\n",
        "result = left | middle | right\n",
        "result = result.properties(title={\n",
        "    \"text\": \"Changes in the Bottom 10 GDP Countries\",\"fontSize\": 20}\n",
        "    ).configure_axis(grid=False, domain=False, labelPadding=10)\n",
        "result"
      ],
      "execution_count": null,
      "outputs": [
        {
          "output_type": "execute_result",
          "data": {
            "text/html": [
              "\n",
              "<div id=\"altair-viz-f454726ceb004a9cbaba8b4e43c4a3fe\"></div>\n",
              "<script type=\"text/javascript\">\n",
              "  (function(spec, embedOpt){\n",
              "    let outputDiv = document.currentScript.previousElementSibling;\n",
              "    if (outputDiv.id !== \"altair-viz-f454726ceb004a9cbaba8b4e43c4a3fe\") {\n",
              "      outputDiv = document.getElementById(\"altair-viz-f454726ceb004a9cbaba8b4e43c4a3fe\");\n",
              "    }\n",
              "    const paths = {\n",
              "      \"vega\": \"https://cdn.jsdelivr.net/npm//vega@5?noext\",\n",
              "      \"vega-lib\": \"https://cdn.jsdelivr.net/npm//vega-lib?noext\",\n",
              "      \"vega-lite\": \"https://cdn.jsdelivr.net/npm//vega-lite@4.8.1?noext\",\n",
              "      \"vega-embed\": \"https://cdn.jsdelivr.net/npm//vega-embed@6?noext\",\n",
              "    };\n",
              "\n",
              "    function loadScript(lib) {\n",
              "      return new Promise(function(resolve, reject) {\n",
              "        var s = document.createElement('script');\n",
              "        s.src = paths[lib];\n",
              "        s.async = true;\n",
              "        s.onload = () => resolve(paths[lib]);\n",
              "        s.onerror = () => reject(`Error loading script: ${paths[lib]}`);\n",
              "        document.getElementsByTagName(\"head\")[0].appendChild(s);\n",
              "      });\n",
              "    }\n",
              "\n",
              "    function showError(err) {\n",
              "      outputDiv.innerHTML = `<div class=\"error\" style=\"color:red;\">${err}</div>`;\n",
              "      throw err;\n",
              "    }\n",
              "\n",
              "    function displayChart(vegaEmbed) {\n",
              "      vegaEmbed(outputDiv, spec, embedOpt)\n",
              "        .catch(err => showError(`Javascript Error: ${err.message}<br>This usually means there's a typo in your chart specification. See the javascript console for the full traceback.`));\n",
              "    }\n",
              "\n",
              "    if(typeof define === \"function\" && define.amd) {\n",
              "      requirejs.config({paths});\n",
              "      require([\"vega-embed\"], displayChart, err => showError(`Error loading script: ${err.message}`));\n",
              "    } else if (typeof vegaEmbed === \"function\") {\n",
              "      displayChart(vegaEmbed);\n",
              "    } else {\n",
              "      loadScript(\"vega\")\n",
              "        .then(() => loadScript(\"vega-lite\"))\n",
              "        .then(() => loadScript(\"vega-embed\"))\n",
              "        .catch(showError)\n",
              "        .then(() => displayChart(vegaEmbed));\n",
              "    }\n",
              "  })({\"config\": {\"view\": {\"continuousWidth\": 400, \"continuousHeight\": 300}, \"axis\": {\"domain\": false, \"grid\": false, \"labelPadding\": 10}}, \"hconcat\": [{\"mark\": \"bar\", \"encoding\": {\"color\": {\"type\": \"nominal\", \"field\": \"InternetColor\", \"legend\": null, \"scale\": {\"domain\": [-1, 1], \"range\": [\"red\", \"green\"]}}, \"tooltip\": {\"type\": \"quantitative\", \"field\": \"InternetChangePct\"}, \"x\": {\"type\": \"quantitative\", \"field\": \"InternetChangePct\", \"sort\": \"descending\", \"title\": \"%\"}, \"y\": {\"type\": \"nominal\", \"field\": \"Country\"}}, \"title\": \"% change of Internet Access\"}, {\"mark\": \"text\", \"encoding\": {\"text\": {\"type\": \"quantitative\", \"field\": \"GDPChangePct\"}, \"y\": {\"type\": \"ordinal\", \"axis\": null, \"field\": \"Country\"}}, \"title\": \"GDP % change\", \"width\": 30}, {\"mark\": \"bar\", \"encoding\": {\"color\": {\"type\": \"nominal\", \"field\": \"HappinessColor\", \"legend\": null, \"scale\": {\"domain\": [-1, 1], \"range\": [\"red\", \"green\"]}}, \"tooltip\": {\"type\": \"quantitative\", \"field\": \"HappinessChangePct\"}, \"x\": {\"type\": \"quantitative\", \"field\": \"HappinessChangePct\", \"title\": \"%\"}, \"y\": {\"type\": \"nominal\", \"axis\": {\"orient\": \"right\"}, \"field\": \"Country\"}}, \"title\": \"% change of Happiness\"}], \"data\": {\"name\": \"data-583996ad831f5324b649ef0fbc4d52c4\"}, \"title\": {\"text\": \"Changes in the Bottom 10 GDP Countries\", \"fontSize\": 20}, \"$schema\": \"https://vega.github.io/schema/vega-lite/v4.8.1.json\", \"datasets\": {\"data-583996ad831f5324b649ef0fbc4d52c4\": [{\"Country\": \"Burundi\", \"HappinessChangePct\": 1.87, \"GDPChangePct\": -1.67, \"InternetChangePct\": 139.71, \"HappinessColor\": \"1\", \"GDPColor\": \"red\", \"InternetColor\": \"1\"}, {\"Country\": \"Central African Republic\", \"HappinessChangePct\": 5.49, \"GDPChangePct\": -4.33, \"InternetChangePct\": 97.24, \"HappinessColor\": \"-1\", \"GDPColor\": \"red\", \"InternetColor\": \"1\"}, {\"Country\": \"Chad\", \"HappinessChangePct\": 5.4, \"GDPChangePct\": -1.49, \"InternetChangePct\": 242.11, \"HappinessColor\": \"1\", \"GDPColor\": \"red\", \"InternetColor\": \"1\"}, {\"Country\": \"Congo, Dem. Rep.\", \"HappinessChangePct\": 7.07, \"GDPChangePct\": 1.96, \"InternetChangePct\": 618.33, \"HappinessColor\": \"-1\", \"GDPColor\": \"green\", \"InternetColor\": \"1\"}, {\"Country\": \"Liberia\", \"HappinessChangePct\": 12.03, \"GDPChangePct\": -1.72, \"InternetChangePct\": 219.38, \"HappinessColor\": \"1\", \"GDPColor\": \"red\", \"InternetColor\": \"1\"}, {\"Country\": \"Madagascar\", \"HappinessChangePct\": 22.21, \"GDPChangePct\": 0.92, \"InternetChangePct\": 148.09, \"HappinessColor\": \"1\", \"GDPColor\": \"green\", \"InternetColor\": \"1\"}, {\"Country\": \"Malawi\", \"HappinessChangePct\": 9.58, \"GDPChangePct\": 1.17, \"InternetChangePct\": 313.88, \"HappinessColor\": \"-1\", \"GDPColor\": \"green\", \"InternetColor\": \"1\"}, {\"Country\": \"Mozambique\", \"HappinessChangePct\": 0.78, \"GDPChangePct\": 2.53, \"InternetChangePct\": 383.12, \"HappinessColor\": \"-1\", \"GDPColor\": \"green\", \"InternetColor\": \"1\"}, {\"Country\": \"Niger\", \"HappinessChangePct\": 31.74, \"GDPChangePct\": 1.7, \"InternetChangePct\": 483.39, \"HappinessColor\": \"1\", \"GDPColor\": \"green\", \"InternetColor\": \"1\"}, {\"Country\": \"Togo\", \"HappinessChangePct\": 42.34, \"GDPChangePct\": 3.21, \"InternetChangePct\": 253.15, \"HappinessColor\": \"1\", \"GDPColor\": \"green\", \"InternetColor\": \"1\"}]}}, {\"mode\": \"vega-lite\"});\n",
              "</script>"
            ],
            "text/plain": [
              "alt.HConcatChart(...)"
            ]
          },
          "metadata": {
            "tags": []
          },
          "execution_count": 0
        }
      ]
    },
    {
      "cell_type": "markdown",
      "metadata": {
        "id": "NB9EAySg8n04"
      },
      "source": [
        "## TODO"
      ]
    },
    {
      "cell_type": "markdown",
      "metadata": {
        "id": "z3Um9b_R8qCc"
      },
      "source": [
        "* Christmas tree diagram **done**\n",
        "  * Delta between 1st and last year per country on happiness and internet\n",
        "* Bottom10 GDP countries **done**\n",
        "* Bottom 10 GDP variance --> see impact of Internet on Happiness **done**\n",
        "\n",
        "\n",
        "* EDA of both datasets \n",
        "  * SPLOM \"**done**\"\n",
        "  * with variables showing correlation --> scipy.stats graph \"**done using .corr in pandas**\"\n",
        "  * try linear regression to control for other variables\n",
        "  * remove extraneous variables from WHR if not required. But keep GDP potentially. \"**done**\"\n",
        "* Overall\n",
        "  * Plot overall hapinnes vs broadband together  \"**done. Also explored the relationship between GDP growth and broadband, GDP growth and happiness**\" \"**Note: There is a dip in happiness mean score in the year 2015.**\"\n",
        "  * Regression on overall without countries\n",
        "* Specifics\n",
        "  * Find countries where GDP is relatively stable - define relatively stable\n",
        "  * Plot for those\n",
        "* Final report (submission date is May 24)\n",
        " * Need to prepare a 10 page (strict limit) report that needs to include the code piece as well for manipulation, data merging, visualization and insights. \n",
        " * Target to close the analysis by Wednesday and keep Thursay, Friday for the report. Saturday final check and Sunday as a buffer. \n",
        "<br>\n",
        "--------\n",
        "* Ankita - 2010-2019 in BB dataset (**done**, years in the final datasets: 2011-2019)\n",
        "* Ankita - adjust df to do Col: Country, col: Year, col: % of internet (**done**, refer to df_ia_fin for this info)\n",
        "* Antoine - fillna just by country **done**\n",
        "* Antoine - which countries were dropped from WHR **done** \n",
        "* Ankita - drop the columns not used in Broadband & keep % of population (**done**, have 2 separate datasets now, df_bb for broadband and df_ia_fin for individuals(%) with internet access).\n",
        "* Ankita --> use the fillna code above on your dataset **done**\n",
        "* Ankita --> Why does your file name differ from the google drive code? **done**\n",
        "* Antoine finish the merge **done**"
      ]
    },
    {
      "cell_type": "code",
      "metadata": {
        "colab": {
          "background_save": true
        },
        "id": "RZy2O-R082-i"
      },
      "source": [
        ""
      ],
      "execution_count": null,
      "outputs": []
    }
  ]
}